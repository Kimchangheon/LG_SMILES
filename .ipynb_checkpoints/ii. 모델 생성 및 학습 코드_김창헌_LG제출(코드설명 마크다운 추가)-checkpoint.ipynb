{
 "cells": [
  {
   "cell_type": "markdown",
   "metadata": {},
   "source": [
    "#### 이 코드는 데이콘 통계왕 님께서 공유한 코드를 기반으로 수정된 코드이며 코드 설명에는 아래와 같은 사이트를 참고했음을 밝힙니다.\n",
    "\n",
    "참고 코드 : \n",
    "\n",
    "https://dacon.io/competitions/official/235640/codeshare/1703?page=1&dtype=recent&ptype=pub\n",
    "    \n",
    "\n",
    "설명 참고사이트 :\n",
    "\n",
    "https://wikidocs.net/book/2155\n",
    "\n",
    "https://blog.pingpong.us/tpu-with-tf2-and-gcp/\n",
    "\n",
    "https://www.kaggle.com/docs/tpu\n",
    "\n",
    "https://www.tensorflow.org/api_docs/python/tf/data\n",
    "\n",
    "https://hcnoh.github.io/2018-11-05-tensorflow-data-module\n",
    "\n",
    "https://www.tensorflow.org/guide/data_performance?hl=ko\n",
    "\n",
    "https://www.tensorflow.org/guide/autodiff?hl=ko\n",
    "\n",
    "https://www.tensorflow.org/api_docs/python/tf/GradientTape#used-in-the-notebooks_1\n",
    "\n",
    "https://teddylee777.github.io/tensorflow/gradient-tape\n",
    "\n",
    "https://www.tensorflow.org/api_docs/python/tf/keras/optimizers/Optimizer"
   ]
  },
  {
   "cell_type": "markdown",
   "metadata": {},
   "source": [
    "#### 이 코드는 아래와 같은 환경에서 수행되었습니다. \n",
    "\n",
    "VM : Colab Pro(TPU)\n",
    "\n",
    "tensorflow :  2.2\n",
    "\n",
    "rdkit :  2020.03.3\n",
    "\n",
    "accelerator :  colab TPU "
   ]
  },
  {
   "cell_type": "markdown",
   "metadata": {
    "id": "nwkGGPg3RIrI"
   },
   "source": [
    "### 구글 드라이브 연동"
   ]
  },
  {
   "cell_type": "code",
   "execution_count": 2,
   "metadata": {
    "colab": {
     "base_uri": "https://localhost:8080/",
     "height": 34
    },
    "executionInfo": {
     "elapsed": 18396,
     "status": "ok",
     "timestamp": 1602460190819,
     "user": {
      "displayName": "David Kim",
      "photoUrl": "https://lh3.googleusercontent.com/a-/AOh14GjYaI7z-5kRwPA6R2AefJobuVfXBJtTIaLtVS1bHw=s64",
      "userId": "16225775759515109894"
     },
     "user_tz": -540
    },
    "id": "E9ja6eV7uUyn",
    "outputId": "e01faa70-636f-48e5-f7b0-fd650b6f22ff"
   },
   "outputs": [
    {
     "name": "stdout",
     "output_type": "stream",
     "text": [
      "Mounted at /content/gdrive/\n"
     ]
    }
   ],
   "source": [
    "import os\n",
    "from google.colab import drive\n",
    "drive.mount('/content/gdrive/')"
   ]
  },
  {
   "cell_type": "markdown",
   "metadata": {
    "id": "OXp82JAURLou"
   },
   "source": [
    "### 텐서플로우 2.2설치 (2.3은 불안정합니다)"
   ]
  },
  {
   "cell_type": "code",
   "execution_count": null,
   "metadata": {
    "colab": {
     "base_uri": "https://localhost:8080/",
     "height": 1000
    },
    "executionInfo": {
     "elapsed": 109586,
     "status": "ok",
     "timestamp": 1602336159158,
     "user": {
      "displayName": "김창헌",
      "photoUrl": "",
      "userId": "05733824982842229263"
     },
     "user_tz": -540
    },
    "id": "KAXIze1yEnZR",
    "outputId": "229abaee-f72b-41dc-9fa5-760cc84baeba"
   },
   "outputs": [
    {
     "name": "stdout",
     "output_type": "stream",
     "text": [
      "Collecting tensorflow~=2.2.0\n",
      "\u001b[?25l  Downloading https://files.pythonhosted.org/packages/70/e3/663eac537202dee730ad6e61769fc3ebce92a6085dbfd13ca902df5f1477/tensorflow-2.2.1-cp36-cp36m-manylinux2010_x86_64.whl (516.2MB)\n",
      "\u001b[K     |████████████████████████████████| 516.2MB 26kB/s \n",
      "\u001b[?25hCollecting tensorflow_gcs_config~=2.2.0\n",
      "\u001b[?25l  Downloading https://files.pythonhosted.org/packages/67/0b/c6fe9b75ba3999c10b7ab77e7d4019c90344bb79609a9378355ca6712598/tensorflow_gcs_config-2.2.0-py3-none-any.whl (392kB)\n",
      "\u001b[K     |████████████████████████████████| 399kB 59.1MB/s \n",
      "\u001b[?25hRequirement already satisfied: wheel>=0.26; python_version >= \"3\" in /usr/local/lib/python3.6/dist-packages (from tensorflow~=2.2.0) (0.35.1)\n",
      "Requirement already satisfied: opt-einsum>=2.3.2 in /usr/local/lib/python3.6/dist-packages (from tensorflow~=2.2.0) (3.3.0)\n",
      "Requirement already satisfied: protobuf>=3.8.0 in /usr/local/lib/python3.6/dist-packages (from tensorflow~=2.2.0) (3.12.4)\n",
      "Requirement already satisfied: termcolor>=1.1.0 in /usr/local/lib/python3.6/dist-packages (from tensorflow~=2.2.0) (1.1.0)\n",
      "Requirement already satisfied: wrapt>=1.11.1 in /usr/local/lib/python3.6/dist-packages (from tensorflow~=2.2.0) (1.12.1)\n",
      "Requirement already satisfied: h5py<2.11.0,>=2.10.0 in /usr/local/lib/python3.6/dist-packages (from tensorflow~=2.2.0) (2.10.0)\n",
      "Requirement already satisfied: six>=1.12.0 in /usr/local/lib/python3.6/dist-packages (from tensorflow~=2.2.0) (1.15.0)\n",
      "Requirement already satisfied: grpcio>=1.8.6 in /usr/local/lib/python3.6/dist-packages (from tensorflow~=2.2.0) (1.32.0)\n",
      "Requirement already satisfied: google-pasta>=0.1.8 in /usr/local/lib/python3.6/dist-packages (from tensorflow~=2.2.0) (0.2.0)\n",
      "Collecting tensorflow-estimator<2.3.0,>=2.2.0\n",
      "\u001b[?25l  Downloading https://files.pythonhosted.org/packages/a4/f5/926ae53d6a226ec0fda5208e0e581cffed895ccc89e36ba76a8e60895b78/tensorflow_estimator-2.2.0-py2.py3-none-any.whl (454kB)\n",
      "\u001b[K     |████████████████████████████████| 460kB 51.8MB/s \n",
      "\u001b[?25hRequirement already satisfied: numpy<1.19.0,>=1.16.0 in /usr/local/lib/python3.6/dist-packages (from tensorflow~=2.2.0) (1.18.5)\n",
      "Requirement already satisfied: absl-py>=0.7.0 in /usr/local/lib/python3.6/dist-packages (from tensorflow~=2.2.0) (0.10.0)\n",
      "Requirement already satisfied: keras-preprocessing>=1.1.0 in /usr/local/lib/python3.6/dist-packages (from tensorflow~=2.2.0) (1.1.2)\n",
      "Requirement already satisfied: gast==0.3.3 in /usr/local/lib/python3.6/dist-packages (from tensorflow~=2.2.0) (0.3.3)\n",
      "Collecting tensorboard<2.3.0,>=2.2.0\n",
      "\u001b[?25l  Downloading https://files.pythonhosted.org/packages/1d/74/0a6fcb206dcc72a6da9a62dd81784bfdbff5fedb099982861dc2219014fb/tensorboard-2.2.2-py3-none-any.whl (3.0MB)\n",
      "\u001b[K     |████████████████████████████████| 3.0MB 55.2MB/s \n",
      "\u001b[?25hRequirement already satisfied: astunparse==1.6.3 in /usr/local/lib/python3.6/dist-packages (from tensorflow~=2.2.0) (1.6.3)\n",
      "Requirement already satisfied: setuptools in /usr/local/lib/python3.6/dist-packages (from protobuf>=3.8.0->tensorflow~=2.2.0) (50.3.0)\n",
      "Requirement already satisfied: tensorboard-plugin-wit>=1.6.0 in /usr/local/lib/python3.6/dist-packages (from tensorboard<2.3.0,>=2.2.0->tensorflow~=2.2.0) (1.7.0)\n",
      "Requirement already satisfied: google-auth-oauthlib<0.5,>=0.4.1 in /usr/local/lib/python3.6/dist-packages (from tensorboard<2.3.0,>=2.2.0->tensorflow~=2.2.0) (0.4.1)\n",
      "Requirement already satisfied: markdown>=2.6.8 in /usr/local/lib/python3.6/dist-packages (from tensorboard<2.3.0,>=2.2.0->tensorflow~=2.2.0) (3.2.2)\n",
      "Requirement already satisfied: google-auth<2,>=1.6.3 in /usr/local/lib/python3.6/dist-packages (from tensorboard<2.3.0,>=2.2.0->tensorflow~=2.2.0) (1.17.2)\n",
      "Requirement already satisfied: werkzeug>=0.11.15 in /usr/local/lib/python3.6/dist-packages (from tensorboard<2.3.0,>=2.2.0->tensorflow~=2.2.0) (1.0.1)\n",
      "Requirement already satisfied: requests<3,>=2.21.0 in /usr/local/lib/python3.6/dist-packages (from tensorboard<2.3.0,>=2.2.0->tensorflow~=2.2.0) (2.23.0)\n",
      "Requirement already satisfied: requests-oauthlib>=0.7.0 in /usr/local/lib/python3.6/dist-packages (from google-auth-oauthlib<0.5,>=0.4.1->tensorboard<2.3.0,>=2.2.0->tensorflow~=2.2.0) (1.3.0)\n",
      "Requirement already satisfied: importlib-metadata; python_version < \"3.8\" in /usr/local/lib/python3.6/dist-packages (from markdown>=2.6.8->tensorboard<2.3.0,>=2.2.0->tensorflow~=2.2.0) (2.0.0)\n",
      "Requirement already satisfied: rsa<5,>=3.1.4; python_version >= \"3\" in /usr/local/lib/python3.6/dist-packages (from google-auth<2,>=1.6.3->tensorboard<2.3.0,>=2.2.0->tensorflow~=2.2.0) (4.6)\n",
      "Requirement already satisfied: pyasn1-modules>=0.2.1 in /usr/local/lib/python3.6/dist-packages (from google-auth<2,>=1.6.3->tensorboard<2.3.0,>=2.2.0->tensorflow~=2.2.0) (0.2.8)\n",
      "Requirement already satisfied: cachetools<5.0,>=2.0.0 in /usr/local/lib/python3.6/dist-packages (from google-auth<2,>=1.6.3->tensorboard<2.3.0,>=2.2.0->tensorflow~=2.2.0) (4.1.1)\n",
      "Requirement already satisfied: urllib3!=1.25.0,!=1.25.1,<1.26,>=1.21.1 in /usr/local/lib/python3.6/dist-packages (from requests<3,>=2.21.0->tensorboard<2.3.0,>=2.2.0->tensorflow~=2.2.0) (1.24.3)\n",
      "Requirement already satisfied: chardet<4,>=3.0.2 in /usr/local/lib/python3.6/dist-packages (from requests<3,>=2.21.0->tensorboard<2.3.0,>=2.2.0->tensorflow~=2.2.0) (3.0.4)\n",
      "Requirement already satisfied: idna<3,>=2.5 in /usr/local/lib/python3.6/dist-packages (from requests<3,>=2.21.0->tensorboard<2.3.0,>=2.2.0->tensorflow~=2.2.0) (2.10)\n",
      "Requirement already satisfied: certifi>=2017.4.17 in /usr/local/lib/python3.6/dist-packages (from requests<3,>=2.21.0->tensorboard<2.3.0,>=2.2.0->tensorflow~=2.2.0) (2020.6.20)\n",
      "Requirement already satisfied: oauthlib>=3.0.0 in /usr/local/lib/python3.6/dist-packages (from requests-oauthlib>=0.7.0->google-auth-oauthlib<0.5,>=0.4.1->tensorboard<2.3.0,>=2.2.0->tensorflow~=2.2.0) (3.1.0)\n",
      "Requirement already satisfied: zipp>=0.5 in /usr/local/lib/python3.6/dist-packages (from importlib-metadata; python_version < \"3.8\"->markdown>=2.6.8->tensorboard<2.3.0,>=2.2.0->tensorflow~=2.2.0) (3.2.0)\n",
      "Requirement already satisfied: pyasn1>=0.1.3 in /usr/local/lib/python3.6/dist-packages (from rsa<5,>=3.1.4; python_version >= \"3\"->google-auth<2,>=1.6.3->tensorboard<2.3.0,>=2.2.0->tensorflow~=2.2.0) (0.4.8)\n",
      "Installing collected packages: tensorflow-estimator, tensorboard, tensorflow, tensorflow-gcs-config\n",
      "  Found existing installation: tensorflow-estimator 2.3.0\n",
      "    Uninstalling tensorflow-estimator-2.3.0:\n",
      "      Successfully uninstalled tensorflow-estimator-2.3.0\n",
      "  Found existing installation: tensorboard 2.3.0\n",
      "    Uninstalling tensorboard-2.3.0:\n",
      "      Successfully uninstalled tensorboard-2.3.0\n",
      "  Found existing installation: tensorflow 2.3.0\n",
      "    Uninstalling tensorflow-2.3.0:\n",
      "      Successfully uninstalled tensorflow-2.3.0\n",
      "  Found existing installation: tensorflow-gcs-config 2.3.0\n",
      "    Uninstalling tensorflow-gcs-config-2.3.0:\n",
      "      Successfully uninstalled tensorflow-gcs-config-2.3.0\n",
      "Successfully installed tensorboard-2.2.2 tensorflow-2.2.1 tensorflow-estimator-2.2.0 tensorflow-gcs-config-2.2.0\n"
     ]
    }
   ],
   "source": [
    "!pip install tensorflow~=2.2.0 tensorflow_gcs_config~=2.2.0\n",
    "import tensorflow as tf\n",
    "import requests\n",
    "import os\n",
    "resp = requests.post(\"http://{}:8475/requestversion/{}\".format(os.environ[\"COLAB_TPU_ADDR\"].split(\":\")[0], tf.__version__))\n",
    "if resp.status_code != 200:\n",
    "  print(\"Failed to switch the TPU to TF {}\".format(version))"
   ]
  },
  {
   "cell_type": "markdown",
   "metadata": {
    "id": "niBKPsu8ROiB"
   },
   "source": [
    "### Rdkit 설치합니다"
   ]
  },
  {
   "cell_type": "code",
   "execution_count": null,
   "metadata": {
    "colab": {
     "base_uri": "https://localhost:8080/",
     "height": 34
    },
    "executionInfo": {
     "elapsed": 112220,
     "status": "ok",
     "timestamp": 1602336163499,
     "user": {
      "displayName": "김창헌",
      "photoUrl": "",
      "userId": "05733824982842229263"
     },
     "user_tz": -540
    },
    "id": "0EtT_h2g30nb",
    "outputId": "1447d6bd-0161-42b1-f86e-e3bb14bab621"
   },
   "outputs": [
    {
     "name": "stdout",
     "output_type": "stream",
     "text": [
      "\u001b[?25l\r",
      "\u001b[K     |███████▉                        | 10kB 23.5MB/s eta 0:00:01\r",
      "\u001b[K     |███████████████▊                | 20kB 2.2MB/s eta 0:00:01\r",
      "\u001b[K     |███████████████████████▌        | 30kB 2.8MB/s eta 0:00:01\r",
      "\u001b[K     |███████████████████████████████▍| 40kB 3.1MB/s eta 0:00:01\r",
      "\u001b[K     |████████████████████████████████| 51kB 2.0MB/s \n",
      "\u001b[?25h"
     ]
    }
   ],
   "source": [
    "# rdkit 2020.03.3 버전 다운로드\n",
    "!pip install kora -q\n",
    "import kora.install.rdkit"
   ]
  },
  {
   "cell_type": "markdown",
   "metadata": {
    "id": "yGXgxmpERXRg"
   },
   "source": [
    "### rdkit, tensorflow, efficientNet, numpy, pandas등 필요한 여러 모듈을 import합니다."
   ]
  },
  {
   "cell_type": "code",
   "execution_count": null,
   "metadata": {
    "colab": {
     "base_uri": "https://localhost:8080/",
     "height": 782
    },
    "executionInfo": {
     "elapsed": 120211,
     "status": "ok",
     "timestamp": 1602336173704,
     "user": {
      "displayName": "김창헌",
      "photoUrl": "",
      "userId": "05733824982842229263"
     },
     "user_tz": -540
    },
    "id": "6lgZW3Awboug",
    "outputId": "859644f0-be63-4baf-d703-30be94db7d68"
   },
   "outputs": [
    {
     "name": "stdout",
     "output_type": "stream",
     "text": [
      "Collecting gcsfs\n",
      "  Downloading https://files.pythonhosted.org/packages/85/75/3d669945d41e5aedd5c4333b9dc6192b7839d2bafd04b75b8222d4e92ae0/gcsfs-0.7.1-py2.py3-none-any.whl\n",
      "Requirement already satisfied: google-auth>=1.2 in /usr/local/lib/python3.6/dist-packages (from gcsfs) (1.17.2)\n",
      "Requirement already satisfied: decorator in /usr/local/lib/python3.6/dist-packages (from gcsfs) (4.4.2)\n",
      "Collecting aiohttp\n",
      "\u001b[?25l  Downloading https://files.pythonhosted.org/packages/7c/39/7eb5f98d24904e0f6d3edb505d4aa60e3ef83c0a58d6fe18244a51757247/aiohttp-3.6.2-cp36-cp36m-manylinux1_x86_64.whl (1.2MB)\n",
      "\u001b[K     |████████████████████████████████| 1.2MB 5.1MB/s \n",
      "\u001b[?25hCollecting fsspec>=0.8.0\n",
      "\u001b[?25l  Downloading https://files.pythonhosted.org/packages/4c/38/39b83c70ff47192255c15da1b602322cb9918682199d5c1d9cf128bdd531/fsspec-0.8.3-py3-none-any.whl (88kB)\n",
      "\u001b[K     |████████████████████████████████| 92kB 7.6MB/s \n",
      "\u001b[?25hRequirement already satisfied: requests in /usr/local/lib/python3.6/dist-packages (from gcsfs) (2.23.0)\n",
      "Requirement already satisfied: google-auth-oauthlib in /usr/local/lib/python3.6/dist-packages (from gcsfs) (0.4.1)\n",
      "Requirement already satisfied: cachetools<5.0,>=2.0.0 in /usr/local/lib/python3.6/dist-packages (from google-auth>=1.2->gcsfs) (4.1.1)\n",
      "Requirement already satisfied: setuptools>=40.3.0 in /usr/local/lib/python3.6/dist-packages (from google-auth>=1.2->gcsfs) (50.3.0)\n",
      "Requirement already satisfied: six>=1.9.0 in /usr/local/lib/python3.6/dist-packages (from google-auth>=1.2->gcsfs) (1.15.0)\n",
      "Requirement already satisfied: rsa<5,>=3.1.4; python_version >= \"3\" in /usr/local/lib/python3.6/dist-packages (from google-auth>=1.2->gcsfs) (4.6)\n",
      "Requirement already satisfied: pyasn1-modules>=0.2.1 in /usr/local/lib/python3.6/dist-packages (from google-auth>=1.2->gcsfs) (0.2.8)\n",
      "Collecting yarl<2.0,>=1.0\n",
      "\u001b[?25l  Downloading https://files.pythonhosted.org/packages/01/c9/379b807a9c298b9694d0af8ee4260be7d40ab1a11fb9d4ae9e70b1e69d96/yarl-1.6.0-cp36-cp36m-manylinux1_x86_64.whl (257kB)\n",
      "\u001b[K     |████████████████████████████████| 266kB 17.5MB/s \n",
      "\u001b[?25hCollecting multidict<5.0,>=4.5\n",
      "\u001b[?25l  Downloading https://files.pythonhosted.org/packages/1a/95/f50352b5366e7d579e8b99631680a9e32e1b22adfa1629a8f23b1d22d5e2/multidict-4.7.6-cp36-cp36m-manylinux1_x86_64.whl (148kB)\n",
      "\u001b[K     |████████████████████████████████| 153kB 22.9MB/s \n",
      "\u001b[?25hCollecting async-timeout<4.0,>=3.0\n",
      "  Downloading https://files.pythonhosted.org/packages/e1/1e/5a4441be21b0726c4464f3f23c8b19628372f606755a9d2e46c187e65ec4/async_timeout-3.0.1-py3-none-any.whl\n",
      "Requirement already satisfied: chardet<4.0,>=2.0 in /usr/local/lib/python3.6/dist-packages (from aiohttp->gcsfs) (3.0.4)\n",
      "Collecting idna-ssl>=1.0; python_version < \"3.7\"\n",
      "  Downloading https://files.pythonhosted.org/packages/46/03/07c4894aae38b0de52b52586b24bf189bb83e4ddabfe2e2c8f2419eec6f4/idna-ssl-1.1.0.tar.gz\n",
      "Requirement already satisfied: attrs>=17.3.0 in /usr/local/lib/python3.6/dist-packages (from aiohttp->gcsfs) (20.2.0)\n",
      "Requirement already satisfied: typing-extensions>=3.6.5; python_version < \"3.7\" in /usr/local/lib/python3.6/dist-packages (from aiohttp->gcsfs) (3.7.4.3)\n",
      "Requirement already satisfied: urllib3!=1.25.0,!=1.25.1,<1.26,>=1.21.1 in /usr/local/lib/python3.6/dist-packages (from requests->gcsfs) (1.24.3)\n",
      "Requirement already satisfied: idna<3,>=2.5 in /usr/local/lib/python3.6/dist-packages (from requests->gcsfs) (2.10)\n",
      "Requirement already satisfied: certifi>=2017.4.17 in /usr/local/lib/python3.6/dist-packages (from requests->gcsfs) (2020.6.20)\n",
      "Requirement already satisfied: requests-oauthlib>=0.7.0 in /usr/local/lib/python3.6/dist-packages (from google-auth-oauthlib->gcsfs) (1.3.0)\n",
      "Requirement already satisfied: pyasn1>=0.1.3 in /usr/local/lib/python3.6/dist-packages (from rsa<5,>=3.1.4; python_version >= \"3\"->google-auth>=1.2->gcsfs) (0.4.8)\n",
      "Requirement already satisfied: oauthlib>=3.0.0 in /usr/local/lib/python3.6/dist-packages (from requests-oauthlib>=0.7.0->google-auth-oauthlib->gcsfs) (3.1.0)\n",
      "Building wheels for collected packages: idna-ssl\n",
      "  Building wheel for idna-ssl (setup.py) ... \u001b[?25l\u001b[?25hdone\n",
      "  Created wheel for idna-ssl: filename=idna_ssl-1.1.0-cp36-none-any.whl size=3161 sha256=1fa2c7784c20dc0974034b0a4d171a62b566bac90491069ab5c6701032d33380\n",
      "  Stored in directory: /root/.cache/pip/wheels/d3/00/b3/32d613e19e08a739751dd6bf998cfed277728f8b2127ad4eb7\n",
      "Successfully built idna-ssl\n",
      "Installing collected packages: multidict, yarl, async-timeout, idna-ssl, aiohttp, fsspec, gcsfs\n",
      "Successfully installed aiohttp-3.6.2 async-timeout-3.0.1 fsspec-0.8.3 gcsfs-0.7.1 idna-ssl-1.1.0 multidict-4.7.6 yarl-1.6.0\n"
     ]
    }
   ],
   "source": [
    "from rdkit import Chem\n",
    "from rdkit.Chem import DataStructs\n",
    "from rdkit.Chem import AllChem\n",
    "from rdkit.Chem import RDConfig\n",
    "from rdkit import RDLogger\n",
    "from rdkit import rdBase\n",
    "from rdkit.Chem.Draw import IPythonConsole\n",
    "RDLogger.DisableLog('rdApp.*')  \n",
    "\n",
    "\n",
    "\n",
    "!pip install -q efficientnet >> /dev/null\n",
    "import efficientnet.tfkeras as efn\n",
    "import pandas as pd, numpy as np\n",
    "import tensorflow as tf, re, math\n",
    "import tensorflow.keras.backend as K\n",
    "import efficientnet.tfkeras as efn\n",
    "from sklearn.model_selection import KFold\n",
    "from sklearn.metrics import roc_auc_score\n",
    "import matplotlib.pyplot as plt\n",
    "\n",
    "\n",
    "import random, re, math\n",
    "import numpy as np, pandas as pd\n",
    "import matplotlib.pyplot as plt\n",
    "import tensorflow as tf, tensorflow.keras.backend as K\n",
    "!pip install gcsfs #gcp 파일 로드"
   ]
  },
  {
   "cell_type": "markdown",
   "metadata": {
    "id": "TS3Qm65MRald"
   },
   "source": [
    "## TPU 로드"
   ]
  },
  {
   "cell_type": "markdown",
   "metadata": {},
   "source": [
    "Colab에서 TPU를 사용할 수 있습니다. TPU를 사용하기 위해서 다음과 같은 절차를 따릅니다.\n",
    "- TPUClusterResolver를 통해서 하나 혹은 여러 대의 TPU집합을 잡습니다. \n",
    "    - tpu = tf.distribute.cluster_resolver.TPUClusterResolver()\n",
    "\n",
    "\n",
    "- experimental_connect_to_cluster 함수를 통해 TPU와 런타임을 연결합니다.\n",
    "    - tf.config.experimental_connect_to_cluster(tpu)\n",
    "\n",
    "\n",
    "- initialize_tpu_system 함수를 통해 tpu시스템을 초기화합니다\n",
    "    - tf.tpu.experimental.initialize_tpu_system(tpu)\n",
    "\n",
    "\n",
    "- Strategy를 만들어 주고 TPUStrategy에 Resolver를 연결해서 사용 대상 TPU 집합을 데이터 분산 대상에 넣어줍니다.\n",
    "    - strategy = tf.distribute.experimental.TPUStrategy(tpu)"
   ]
  },
  {
   "cell_type": "code",
   "execution_count": null,
   "metadata": {
    "colab": {
     "base_uri": "https://localhost:8080/",
     "height": 780
    },
    "executionInfo": {
     "elapsed": 129066,
     "status": "ok",
     "timestamp": 1602336184596,
     "user": {
      "displayName": "김창헌",
      "photoUrl": "",
      "userId": "05733824982842229263"
     },
     "user_tz": -540
    },
    "id": "TWMKmCnWEwAq",
    "outputId": "cd81ea8a-2cf9-4f89-fb73-02e599dea4ff"
   },
   "outputs": [
    {
     "name": "stdout",
     "output_type": "stream",
     "text": [
      "connecting to TPU...\n",
      "initializing  TPU ...\n",
      "INFO:tensorflow:Initializing the TPU system: grpc://10.58.109.202:8470\n"
     ]
    },
    {
     "name": "stderr",
     "output_type": "stream",
     "text": [
      "INFO:tensorflow:Initializing the TPU system: grpc://10.58.109.202:8470\n"
     ]
    },
    {
     "name": "stdout",
     "output_type": "stream",
     "text": [
      "INFO:tensorflow:Clearing out eager caches\n"
     ]
    },
    {
     "name": "stderr",
     "output_type": "stream",
     "text": [
      "INFO:tensorflow:Clearing out eager caches\n"
     ]
    },
    {
     "name": "stdout",
     "output_type": "stream",
     "text": [
      "INFO:tensorflow:Finished initializing TPU system.\n"
     ]
    },
    {
     "name": "stderr",
     "output_type": "stream",
     "text": [
      "INFO:tensorflow:Finished initializing TPU system.\n"
     ]
    },
    {
     "name": "stdout",
     "output_type": "stream",
     "text": [
      "INFO:tensorflow:Found TPU system:\n"
     ]
    },
    {
     "name": "stderr",
     "output_type": "stream",
     "text": [
      "INFO:tensorflow:Found TPU system:\n"
     ]
    },
    {
     "name": "stdout",
     "output_type": "stream",
     "text": [
      "INFO:tensorflow:*** Num TPU Cores: 8\n"
     ]
    },
    {
     "name": "stderr",
     "output_type": "stream",
     "text": [
      "INFO:tensorflow:*** Num TPU Cores: 8\n"
     ]
    },
    {
     "name": "stdout",
     "output_type": "stream",
     "text": [
      "INFO:tensorflow:*** Num TPU Workers: 1\n"
     ]
    },
    {
     "name": "stderr",
     "output_type": "stream",
     "text": [
      "INFO:tensorflow:*** Num TPU Workers: 1\n"
     ]
    },
    {
     "name": "stdout",
     "output_type": "stream",
     "text": [
      "INFO:tensorflow:*** Num TPU Cores Per Worker: 8\n"
     ]
    },
    {
     "name": "stderr",
     "output_type": "stream",
     "text": [
      "INFO:tensorflow:*** Num TPU Cores Per Worker: 8\n"
     ]
    },
    {
     "name": "stdout",
     "output_type": "stream",
     "text": [
      "INFO:tensorflow:*** Available Device: _DeviceAttributes(/job:localhost/replica:0/task:0/device:CPU:0, CPU, 0, 0)\n"
     ]
    },
    {
     "name": "stderr",
     "output_type": "stream",
     "text": [
      "INFO:tensorflow:*** Available Device: _DeviceAttributes(/job:localhost/replica:0/task:0/device:CPU:0, CPU, 0, 0)\n"
     ]
    },
    {
     "name": "stdout",
     "output_type": "stream",
     "text": [
      "INFO:tensorflow:*** Available Device: _DeviceAttributes(/job:localhost/replica:0/task:0/device:XLA_CPU:0, XLA_CPU, 0, 0)\n"
     ]
    },
    {
     "name": "stderr",
     "output_type": "stream",
     "text": [
      "INFO:tensorflow:*** Available Device: _DeviceAttributes(/job:localhost/replica:0/task:0/device:XLA_CPU:0, XLA_CPU, 0, 0)\n"
     ]
    },
    {
     "name": "stdout",
     "output_type": "stream",
     "text": [
      "INFO:tensorflow:*** Available Device: _DeviceAttributes(/job:worker/replica:0/task:0/device:CPU:0, CPU, 0, 0)\n"
     ]
    },
    {
     "name": "stderr",
     "output_type": "stream",
     "text": [
      "INFO:tensorflow:*** Available Device: _DeviceAttributes(/job:worker/replica:0/task:0/device:CPU:0, CPU, 0, 0)\n"
     ]
    },
    {
     "name": "stdout",
     "output_type": "stream",
     "text": [
      "INFO:tensorflow:*** Available Device: _DeviceAttributes(/job:worker/replica:0/task:0/device:TPU:0, TPU, 0, 0)\n"
     ]
    },
    {
     "name": "stderr",
     "output_type": "stream",
     "text": [
      "INFO:tensorflow:*** Available Device: _DeviceAttributes(/job:worker/replica:0/task:0/device:TPU:0, TPU, 0, 0)\n"
     ]
    },
    {
     "name": "stdout",
     "output_type": "stream",
     "text": [
      "INFO:tensorflow:*** Available Device: _DeviceAttributes(/job:worker/replica:0/task:0/device:TPU:1, TPU, 0, 0)\n"
     ]
    },
    {
     "name": "stderr",
     "output_type": "stream",
     "text": [
      "INFO:tensorflow:*** Available Device: _DeviceAttributes(/job:worker/replica:0/task:0/device:TPU:1, TPU, 0, 0)\n"
     ]
    },
    {
     "name": "stdout",
     "output_type": "stream",
     "text": [
      "INFO:tensorflow:*** Available Device: _DeviceAttributes(/job:worker/replica:0/task:0/device:TPU:2, TPU, 0, 0)\n"
     ]
    },
    {
     "name": "stderr",
     "output_type": "stream",
     "text": [
      "INFO:tensorflow:*** Available Device: _DeviceAttributes(/job:worker/replica:0/task:0/device:TPU:2, TPU, 0, 0)\n"
     ]
    },
    {
     "name": "stdout",
     "output_type": "stream",
     "text": [
      "INFO:tensorflow:*** Available Device: _DeviceAttributes(/job:worker/replica:0/task:0/device:TPU:3, TPU, 0, 0)\n"
     ]
    },
    {
     "name": "stderr",
     "output_type": "stream",
     "text": [
      "INFO:tensorflow:*** Available Device: _DeviceAttributes(/job:worker/replica:0/task:0/device:TPU:3, TPU, 0, 0)\n"
     ]
    },
    {
     "name": "stdout",
     "output_type": "stream",
     "text": [
      "INFO:tensorflow:*** Available Device: _DeviceAttributes(/job:worker/replica:0/task:0/device:TPU:4, TPU, 0, 0)\n"
     ]
    },
    {
     "name": "stderr",
     "output_type": "stream",
     "text": [
      "INFO:tensorflow:*** Available Device: _DeviceAttributes(/job:worker/replica:0/task:0/device:TPU:4, TPU, 0, 0)\n"
     ]
    },
    {
     "name": "stdout",
     "output_type": "stream",
     "text": [
      "INFO:tensorflow:*** Available Device: _DeviceAttributes(/job:worker/replica:0/task:0/device:TPU:5, TPU, 0, 0)\n"
     ]
    },
    {
     "name": "stderr",
     "output_type": "stream",
     "text": [
      "INFO:tensorflow:*** Available Device: _DeviceAttributes(/job:worker/replica:0/task:0/device:TPU:5, TPU, 0, 0)\n"
     ]
    },
    {
     "name": "stdout",
     "output_type": "stream",
     "text": [
      "INFO:tensorflow:*** Available Device: _DeviceAttributes(/job:worker/replica:0/task:0/device:TPU:6, TPU, 0, 0)\n"
     ]
    },
    {
     "name": "stderr",
     "output_type": "stream",
     "text": [
      "INFO:tensorflow:*** Available Device: _DeviceAttributes(/job:worker/replica:0/task:0/device:TPU:6, TPU, 0, 0)\n"
     ]
    },
    {
     "name": "stdout",
     "output_type": "stream",
     "text": [
      "INFO:tensorflow:*** Available Device: _DeviceAttributes(/job:worker/replica:0/task:0/device:TPU:7, TPU, 0, 0)\n"
     ]
    },
    {
     "name": "stderr",
     "output_type": "stream",
     "text": [
      "INFO:tensorflow:*** Available Device: _DeviceAttributes(/job:worker/replica:0/task:0/device:TPU:7, TPU, 0, 0)\n"
     ]
    },
    {
     "name": "stdout",
     "output_type": "stream",
     "text": [
      "INFO:tensorflow:*** Available Device: _DeviceAttributes(/job:worker/replica:0/task:0/device:TPU_SYSTEM:0, TPU_SYSTEM, 0, 0)\n"
     ]
    },
    {
     "name": "stderr",
     "output_type": "stream",
     "text": [
      "INFO:tensorflow:*** Available Device: _DeviceAttributes(/job:worker/replica:0/task:0/device:TPU_SYSTEM:0, TPU_SYSTEM, 0, 0)\n"
     ]
    },
    {
     "name": "stdout",
     "output_type": "stream",
     "text": [
      "INFO:tensorflow:*** Available Device: _DeviceAttributes(/job:worker/replica:0/task:0/device:XLA_CPU:0, XLA_CPU, 0, 0)\n"
     ]
    },
    {
     "name": "stderr",
     "output_type": "stream",
     "text": [
      "INFO:tensorflow:*** Available Device: _DeviceAttributes(/job:worker/replica:0/task:0/device:XLA_CPU:0, XLA_CPU, 0, 0)\n"
     ]
    },
    {
     "name": "stdout",
     "output_type": "stream",
     "text": [
      "TPU initialized\n",
      "REPLICAS: 8\n"
     ]
    }
   ],
   "source": [
    "import tensorflow as tf\n",
    "DEVICE = \"TPU\"\n",
    "if DEVICE == \"TPU\":\n",
    "    print(\"connecting to TPU...\")\n",
    "    try:\n",
    "        tpu = tf.distribute.cluster_resolver.TPUClusterResolver()\n",
    "        # print('Running on TPU ', tpu.master())\n",
    "    except ValueError:\n",
    "        print(\"Could not connect to TPU\")\n",
    "        tpu = None\n",
    "\n",
    "    if tpu:\n",
    "        try:\n",
    "            print(\"initializing  TPU ...\")\n",
    "            tf.config.experimental_connect_to_cluster(tpu)\n",
    "            tf.tpu.experimental.initialize_tpu_system(tpu)\n",
    "            strategy = tf.distribute.experimental.TPUStrategy(tpu)\n",
    "            print(\"TPU initialized\")\n",
    "        except:\n",
    "            print(\"failed to initialize TPU\")\n",
    "    else:\n",
    "        DEVICE = \"GPU\"\n",
    "\n",
    "if DEVICE != \"TPU\":\n",
    "    print(\"Using default strategy for CPU and single GPU\")\n",
    "    strategy = tf.distribute.get_strategy()\n",
    "\n",
    "if DEVICE == \"GPU\":\n",
    "    print(\"Num GPUs Available: \", len(tf.config.experimental.list_physical_devices('GPU')))\n",
    "    \n",
    "\n",
    "AUTO     = tf.data.experimental.AUTOTUNE \n",
    "# tf.data API는 소프트웨어 파이프라이닝 방법을 tf.data.Dataset.prefetch 변환을 통해 제공합니다. 이것은 데이터가 소비되는 시간과 데이터가 생성되는 시간 간의 의존성을 줄일 수 있습니다. 특히, 이 변환은 백그라운드 스레드와 내부 버퍼를 사용하여 요청된 시간 전에 입력 데이터셋에서 요소를 가져옵니다. 가져올 요소의 수는 하나의 훈련 스텝에서 소비한 배치의 수와 같거나 커야 합니다. 이 값을 수동으로 조정하거나 tf.data.experimental.AUTOTUNE으로 설정하면 tf.data 런타임이 실행 시에 동적으로 값을 조정하도록 만듭니다.\n",
    "REPLICAS = strategy.num_replicas_in_sync #relicas의 개수를 얻습니다.\n",
    "print(f'REPLICAS: {REPLICAS}')"
   ]
  },
  {
   "cell_type": "code",
   "execution_count": 4,
   "metadata": {
    "executionInfo": {
     "elapsed": 673,
     "status": "ok",
     "timestamp": 1602460247356,
     "user": {
      "displayName": "David Kim",
      "photoUrl": "https://lh3.googleusercontent.com/a-/AOh14GjYaI7z-5kRwPA6R2AefJobuVfXBJtTIaLtVS1bHw=s64",
      "userId": "16225775759515109894"
     },
     "user_tz": -540
    },
    "id": "nnUWGqbsEs2o"
   },
   "outputs": [],
   "source": [
    "# tfrecord가 저장된 GCP PATH 설정\n",
    "# model save PATH설정\n",
    "base_path = 'gs://chkim_tfrecord/tfrecord_3천만_300'\n",
    "ROOT_PATH = f'gdrive/My Drive/Colab Notebooks/3_1천만개_batch64'"
   ]
  },
  {
   "cell_type": "code",
   "execution_count": null,
   "metadata": {
    "id": "ju-f-13i3VGC"
   },
   "outputs": [],
   "source": [
    "os.mkdir(ROOT_PATH)"
   ]
  },
  {
   "cell_type": "markdown",
   "metadata": {
    "id": "kQ00gXHIRdLW"
   },
   "source": [
    "### 각종 매개 변수 정의"
   ]
  },
  {
   "cell_type": "code",
   "execution_count": null,
   "metadata": {
    "id": "dkh01_mYXk6X"
   },
   "outputs": [],
   "source": [
    "units = 1024 #디코더 gru층의 은닉상태의 크기, 어텐션 W1,W2층의 뉴런개수\n",
    "\n",
    "top_k = 36   #smiles에 등장하는 word(1글자)집합의 개수\n",
    "\n",
    "embedding_dim = 512 #word(1글자)를 512차원 vector로 임베딩하기 위함, 인코더 최종 출력도 Dense(embedding_dim)를 거침\n",
    "\n",
    "vocab_size=top_k+1 # smiles에 등장하는 word(1글자)집합의 개수(패딩까지 포함)\n",
    "\n",
    "ef = 0 # 에피션트넷B0를 사용\n",
    "\n",
    "dim = 224 #이미지 사이즈 224*224\n",
    "\n",
    "batch_size = 64\n",
    "# seq_len = 72\n",
    "\n",
    "BATCH_SIZE=64; REPLICAS=8 # 8개의 tpu core에 64개씩 배치\n",
    "\n",
    "AUTO = tf.data.experimental.AUTOTUNE\n",
    "\n",
    "EPOCHS = 50 #학습시킬 epoch 수\n",
    "\n",
    "num_example = 10000128 #학습 이미지 개수\n",
    "\n",
    "feature_shape = 1280 \n",
    "\n",
    "attention_features_shape = 49"
   ]
  },
  {
   "cell_type": "markdown",
   "metadata": {
    "id": "scx69A4IS6uw"
   },
   "source": [
    "## 저장된 Tokenizer를 불러와서 숫자, 문자 매핑 딕셔너리생성"
   ]
  },
  {
   "cell_type": "code",
   "execution_count": null,
   "metadata": {
    "id": "Lt38jIT3HpHA"
   },
   "outputs": [],
   "source": [
    "import pickle\n",
    "with open('/content/gdrive/My Drive/tokenizer_word36.pickle', 'rb') as handle:\n",
    "    tokenizer = pickle.load(handle)"
   ]
  },
  {
   "cell_type": "code",
   "execution_count": null,
   "metadata": {
    "id": "Q7g-rzc7H9ww"
   },
   "outputs": [],
   "source": [
    "tar_to_index = tokenizer.word_index"
   ]
  },
  {
   "cell_type": "markdown",
   "metadata": {
    "id": "TJN13PayrmvR"
   },
   "source": [
    "## 전이학습 모델 정의"
   ]
  },
  {
   "cell_type": "markdown",
   "metadata": {},
   "source": [
    "입력된 분자구조이미지로부터 예측된 smiles를 출력하기 위해 \n",
    "Encoder-to-Decoder 구조에 Attention Mechanism(어텐션 메커니즘)을 추가한 모델을 사용하였습니다.\n",
    "(코드설명 마크다운 추가"
   ]
  },
  {
   "attachments": {
    "image.png": {
     "image/png": "[encoded data removed]"
    }
   },
   "cell_type": "markdown",
   "metadata": {},
   "source": [
    "모델 구조는 다음과 같습니다. \n",
    "\n",
    "file:///home/chkim/%EB%8B%A4%EC%9A%B4%EB%A1%9C%EB%93%9C/image.png![image.png](attachment:image.png)"
   ]
  },
  {
   "cell_type": "markdown",
   "metadata": {},
   "source": [
    "## 인코더 \n",
    "Encoder는 분자구조이미지텐서를 받아서 features텐서를 리턴합니다.\n",
    "\n",
    "인코더 내부의 자세한 과정에 대한 설명을 덧붙이자면 다음과 같습니다\n",
    "\n",
    "#### - 입력 : (512,224,224,3)의 분자구조 이미지 텐서 (batch크기, width, height, depth)\n",
    "    1.  인자로 받은 image tensor를 efficientnetB0을 이용하여 피쳐맵(batch크기,7,7,1280)을 추출합니다(image tensor는 tfrecord로부터 가져온 image_raw를    decode_image함수에 인자로 넣어서 얻은 값입니다.)\n",
    "    2.  dropout을 적용합니다.\n",
    "    3.  추출된 피쳐맵을 (batch크기, 49,1280)로 reshape합니다\n",
    "    4.  embedding_dim(512)크기의 Dense층을 적용하고 relu 활성화 함수를 적용합니다. \n",
    "#### - 출력 : (512, 49, 512)의 encoder 피쳐 (batch크기, 49, embedding_dim)\n"
   ]
  },
  {
   "cell_type": "code",
   "execution_count": null,
   "metadata": {
    "id": "gItHqoyN-5o8"
   },
   "outputs": [],
   "source": [
    "EFNS = [efn.EfficientNetB0, efn.EfficientNetB1, efn.EfficientNetB2, efn.EfficientNetB3, \n",
    "        efn.EfficientNetB4, efn.EfficientNetB5, efn.EfficientNetB6]\n",
    "\n",
    "\n",
    "class CNN_Encoder(tf.keras.Model): # tf.keras.Model을 상속받음.\n",
    "  # you should define your layers in __init__ \n",
    "  def __init__(self, embedding_dim):\n",
    "      super(CNN_Encoder, self).__init__() # super : 자식 클래스에서 부모클래스의 내용을 사용하고 싶을 경우 사용.\n",
    "      self.base = EFNS[ef](input_shape=(224,224,3),weights='imagenet',include_top=False) # --> (None,7,7,1280)\n",
    "      for i, layer in enumerate(self.base.layers): \n",
    "        layer.trainable = False\n",
    "      self.dropout = tf.keras.layers.Dropout(0.25)\n",
    "      self.fc = tf.keras.layers.Dense(embedding_dim, dtype='float32')\n",
    "\n",
    "  #you should implement the model's forward pass in call.\n",
    "  def call(self, x):\n",
    "      x = self.base(x)\n",
    "      x = self.dropout(x)\n",
    "      x = tf.reshape(x, [tf.shape(x)[0],tf.shape(x)[1]*tf.shape(x)[2],feature_shape]) # (BATCH_SIZE, 49,1280)\n",
    "      x = self.fc(x)\n",
    "      x = tf.nn.relu(x)\n",
    "\n",
    "      return x"
   ]
  },
  {
   "cell_type": "code",
   "execution_count": null,
   "metadata": {
    "id": "2LTomG9L8Iha"
   },
   "outputs": [],
   "source": [
    "class BahdanauAttention(tf.keras.Model):\n",
    "    def __init__(self, units):\n",
    "        super(BahdanauAttention, self).__init__()\n",
    "        self.W1 = tf.keras.layers.Dense(units) #units = 1024\n",
    "        self.W2 = tf.keras.layers.Dense(units)\n",
    "        self.V = tf.keras.layers.Dense(1)\n",
    "\n",
    "    def call(self, features, hidden):\n",
    "        hidden_with_time_axis = tf.expand_dims(hidden, 1) #Returns a tensor with a length 1 axis inserted at index axis.\n",
    "        \n",
    "        score = tf.nn.tanh(self.W1(features) + self.W2(hidden_with_time_axis))\n",
    "\n",
    "        attention_weights = tf.nn.softmax(self.V(score), axis=1)\n",
    "\n",
    "        context_vector = attention_weights * features\n",
    "        context_vector = tf.reduce_sum(context_vector, axis=1)\n",
    "\n",
    "        return context_vector, attention_weights"
   ]
  },
  {
   "cell_type": "markdown",
   "metadata": {},
   "source": [
    "## 디코더\n",
    "Decoder는 RNN구조이며 바다니우 어텐션을 적용하였습니다  \n",
    "\n",
    "디코더에는 3가지 입력이 들어갑니다. \n",
    "     1.  현재 시점(t)의 word (초기 입력으로 smiles의 시작을 의미하는 '<'가 들어갑니다) tensor의 shape은 (512,49,512) 입니다\n",
    "     2.  인코더에서 나온 피쳐 \n",
    "     3.  디코더의 이전 시점(t-1) 은닉상태\n",
    "\n",
    "출력은 3가지 입니다. \n",
    "     1.  현 시점(t)의 예측 word 텐서 (batch크기,37)\n",
    "     2.  디코더의 현 시점(t) 은닉상태\n",
    "     3.  attention weight(어텐션 가중치) --> 리턴(출력)하지만 이후 사용되지는 않습니다.\n",
    "\n",
    "어텐션 메커니즘은 기존 인코더 투 디코더 모델의 컨텍스트 벡터를 개선함으로써 성능을 향상시키는 기법입니다.\n",
    "\n",
    "보통 인코더가 RNN모델에 기반해 있는 인코더 투 디코더 모델(seq2seq)은 인코더의 마지막 은닉 상태를 컨텍스트 벡터로 하고 이를 디코더 RNN 셀의 첫번재 은닉 상태로 사용합니다.  \n",
    "이 모델에서는 인코더가 CNN모델에 기반 해 있으므로 인코더의 최종 출력이 컨텍스트 벡터의 역할을 할 수 있습니다.\n",
    "\n",
    "컨텍스트 벡터를 디코더의 초기 은닉 상태로만 사용하는것에서 더 나아가 컨텍스트 벡터를 디코더가 word를 예측하는 매 시점마다 하나의 입력으로 사용할 수도 있습니다. 이에 더 나아가 어텐션 메커니즘을 사용하면 더욱 문맥을 반영할 수 있는 입력을 디코더에 줄 수 있습니다. \n",
    "\n",
    "디코더에 적용된 어텐션 메커니즘은 출력 단어를 예측하는 매 시점마다 분자이미지전체(인코더를 통해 얻은 피쳐)를 참고하는 것입니다.(기계번역 모델이라면 전체 입력 문장을 참고한다고 보면 됩니다).단 해당 시점에서 예측해야할 word와 연관이 있는 피쳐부분을 좀더 집중(attention)하여 보는 것입니다.\n",
    "\n",
    "디코더 내부의 gru층에는 \"현재 시점(t)의 word를 embedding한 vector\"와 \"context_vector\"를 연결하여 입력벡터로 줍니다."
   ]
  },
  {
   "cell_type": "markdown",
   "metadata": {},
   "source": [
    "### Decoder 내부의 과정에 대하여 자세하게 설명드리겠습니다.\n",
    "\n",
    "     1.  features(인코더에서 나온 피쳐), hidden(디코더의 이전 시점(t-1) 은닉상태)를 이용하여 context_vector와 attention_weight를 구합니다.\n",
    "     \n",
    "        -  feature와 hidden을 이용하여 어텐션 스코어를 구하고 이에 소프트맥스를 적용하여 attention_weight를 구하는 것입니다.\n",
    "        - 어텐션 스코어를 구하는 방법은 여러가지가 있습니다. 그중 바다니우가 제시한 'concat'방법을 사용합니다.\n",
    "        - attention_weight와 hidden을 가중합하여 context_vector를 구합니다. 이는 Attention value라고도 합니다. \n",
    "\n",
    "     2.  x(현재 시점(t)의 word)를 512차원의 vector로 변환합니다. \n",
    "\n",
    "     3.  context_vector와 x(임베딩된 word 벡터)를 연결(concatenate)하여 gru층의 입력으로 사용합니다.\n",
    "\n",
    "     4.  dropout을 거치고, 2개의 Dense layer를 거쳐 다음에 올 단어 예측값을 출력합니다\n",
    "    "
   ]
  },
  {
   "cell_type": "code",
   "execution_count": null,
   "metadata": {
    "id": "X_JlELHOuqfj"
   },
   "outputs": [],
   "source": [
    "class RNN_Decoder(tf.keras.Model):\n",
    "    def __init__(self, embedding_dim, units, vocab_size):\n",
    "        super(RNN_Decoder, self).__init__()\n",
    "        self.units = units\n",
    "\n",
    "        self.embedding = tf.keras.layers.Embedding(vocab_size, embedding_dim) #(37,512)\n",
    "        self.gru = tf.keras.layers.GRU(self.units,\n",
    "                                       return_sequences=True, #메모리 셀의 각 시점(time step)의 은닉 상태값들을 모아서 전체 시퀀스를 리턴하고자 합니다\n",
    "                                       return_state=True,\n",
    "                                       recurrent_initializer='glorot_uniform')\n",
    "        self.dropout =tf.keras.layers.Dropout(0.25)\n",
    "        self.fc1 = tf.keras.layers.Dense(self.units)\n",
    "        self.fc2 = tf.keras.layers.Dense(vocab_size, dtype='float32')\n",
    "\n",
    "        self.attention = BahdanauAttention(self.units)\n",
    "\n",
    "    def call(self, x, features, hidden):\n",
    "        context_vector, attention_weights = self.attention(features, hidden)\n",
    "\n",
    "        x = self.embedding(x)\n",
    "\n",
    "        x = tf.concat([tf.expand_dims(context_vector, 1), x], axis=-1)\n",
    "\n",
    "        output, state = self.gru(x)\n",
    "\n",
    "        x = self.fc1(output)\n",
    "        x = self.dropout(x)\n",
    "\n",
    "        x = tf.reshape(x, (-1, x.shape[2]))\n",
    "\n",
    "        x = self.fc2(x)\n",
    "\n",
    "        return x, state, attention_weights\n",
    "    \n",
    "    def reset_state(self, batch_size):\n",
    "        return tf.zeros((batch_size, self.units))"
   ]
  },
  {
   "cell_type": "markdown",
   "metadata": {},
   "source": [
    "### strategy.scope()내에서 모델, Metric, 옵티마이저를 선언해 주어야 합니다. 그렇지 않으면 정상적으로 실행되지 않습니다"
   ]
  },
  {
   "cell_type": "code",
   "execution_count": null,
   "metadata": {
    "colab": {
     "base_uri": "https://localhost:8080/",
     "height": 72
    },
    "executionInfo": {
     "elapsed": 139426,
     "status": "ok",
     "timestamp": 1602336209318,
     "user": {
      "displayName": "김창헌",
      "photoUrl": "",
      "userId": "05733824982842229263"
     },
     "user_tz": -540
    },
    "id": "pR7JT27Kvdp6",
    "outputId": "8763d37d-3081-4cf5-c051-8492c30b10bf"
   },
   "outputs": [
    {
     "name": "stdout",
     "output_type": "stream",
     "text": [
      "Downloading data from https://github.com/Callidior/keras-applications/releases/download/efficientnet/efficientnet-b1_weights_tf_dim_ordering_tf_kernels_autoaugment_notop.h5\n",
      "27164672/27164032 [==============================] - 0s 0us/step\n"
     ]
    }
   ],
   "source": [
    "with strategy.scope(): \n",
    "  encoder = CNN_Encoder(embedding_dim)\n",
    "  decoder = RNN_Decoder(embedding_dim, units, vocab_size)\n",
    "  train_accuracy = tf.keras.metrics.SparseCategoricalAccuracy()\n",
    "  valid_accuracy = tf.keras.metrics.SparseCategoricalAccuracy()\n",
    "  train_loss = tf.keras.metrics.Sum() # tf.keras.metrics.Sum은 주어진 값의 합을 계산합니다.\n",
    "  valid_loss = tf.keras.metrics.Sum()\n",
    "  optimizer = tf.keras.optimizers.Adam(lr=0.00002)"
   ]
  },
  {
   "cell_type": "markdown",
   "metadata": {},
   "source": [
    "## loss function\n",
    "레이블 class가 두개 이상일때 손실함수로 crossentropy loss function를 사용합니다. 이는 label(real)과 prediction(pred)간의 crossentropy loss를 계산합니다.\n",
    "\n",
    "SparseCategoricalCrossentropy함수는 레이블은 정수로 입력받으며, 원핫 벡터로 입력받고 싶으면 CategoricalCrossentropy를 사용해야합니다.  \n",
    "\n",
    "여기서 real값은 디코더에서 예측할 현 시점(t)의 입력 word(글자)입니다.즉 0부터 36사이 정수(word를 숫자로 표현한것)이며,\n",
    "pred값은 디코더에서 예측한 현 시점(t)의 예측된 37차원 word 텐서입니다 shape :(batch크기,37)"
   ]
  },
  {
   "cell_type": "markdown",
   "metadata": {},
   "source": [
    "### pred과 real값의 예시입니다.\n",
    "\n",
    "pred는 37차원 텐서 : [ 0.08155002, -0.01409034, -0.16667187, ...,  0.1283614 ,\n",
    "         0.01665916,  0.1495304 ]\n",
    "         \n",
    "real은 1차원 텐서 : 1 \n",
    "\n",
    "한번에 배치사이즈 512만큼 연산하므로 pred의 shape은 (512,37)이 되고 real의 shape은 (512,)이 됩니다"
   ]
  },
  {
   "cell_type": "code",
   "execution_count": null,
   "metadata": {
    "id": "GJ6LOywTrjod"
   },
   "outputs": [],
   "source": [
    "loss_object = tf.keras.losses.SparseCategoricalCrossentropy(from_logits=True, reduction='none')\n",
    "def loss_function(real, pred):\n",
    "    mask = tf.math.logical_not(tf.math.equal(real, 0)) #0(패딩)이 아닌것만 True로 mask한다. \n",
    "    loss_ = loss_object(real, pred) # real과  pred간의 loss를 구한다.\n",
    "\n",
    "    mask = tf.cast(mask, dtype=loss_.dtype) # True 를 1로 변경한다.\n",
    "    loss_ *= mask# loss와 mask를 곱한다.\n",
    "\n",
    "    return tf.reduce_mean(loss_) #loss의 평균을 구한다."
   ]
  },
  {
   "cell_type": "markdown",
   "metadata": {
    "id": "fgiViChqrzaB"
   },
   "source": [
    "## GCS 에 있는 tfrecords 불러오기\n",
    "TPU는 GCS (Google Cloud Storage)에서만 학습 데이터를 읽습니다. 그 이유는 TPU의 속도가 매우 빨라서  학습시 데이터 병목 현상이 발생하기 때문입니다. TPU는 데이터를 기다리느라 대부분 유휴상태있게 되는 것입니다. \n",
    "그렇기 때문에 GCS를 이용합니다. GCS에서 여러 파일을 병렬로 스트리밍하게 되면 상당 높은 처리량을 유지할 수 있습니다.\n",
    "GCS에 데이터를 적절한 개수( 10개~ 100개) 적절하게 큰 용량( 10~100MB)로 설정하면 처리량이 최대화됩니다.\n",
    "\n",
    "tfrecord파일 하나당  256개의 이미지와 라벨을 저장했지만 512*14개(90MB)의 이미지와 smiles를 저장하고 GCS에 업로드 하는것이 좋습니다\n",
    "\n",
    "GCS 버킷을 생성하고 권한추가 --> 새 구성원:allUsers --> 역할선택 : cloud sorage,저장소 개체 뷰어 과정을 거치면 tpu에서 데이터 접근이 가능해 집니다"
   ]
  },
  {
   "cell_type": "code",
   "execution_count": null,
   "metadata": {
    "id": "XSSoH8GQueI5"
   },
   "outputs": [],
   "source": [
    "# #gcp접근\n",
    "# from google.colab import auth, drive\n",
    "# auth.authenticate_user()"
   ]
  },
  {
   "cell_type": "code",
   "execution_count": null,
   "metadata": {
    "id": "QGxkMGBJHBUy"
   },
   "outputs": [],
   "source": [
    "# train_tf_records = os.path.join(base_path, '(299size400)*')\n",
    "base_path = 'gs://chkim_tfrecord/tfrecord_3천만_300' #256 * 30000 \n",
    "base_path2 = 'gs://chkim_tfrecord/tfrecord_3천만_300'# 256 * 9070\n",
    "train_tf_records = os.path.join(base_path, '*')\n",
    "train_tf_records_2 = os.path.join(base_path2, '*')\n",
    "\n",
    "train_data = np.sort(np.array(tf.io.gfile.glob(train_tf_records) + tf.io.gfile.glob(train_tf_records_2) ))"
   ]
  },
  {
   "cell_type": "code",
   "execution_count": null,
   "metadata": {
    "colab": {
     "base_uri": "https://localhost:8080/",
     "height": 138
    },
    "executionInfo": {
     "elapsed": 137769,
     "status": "ok",
     "timestamp": 1602336212515,
     "user": {
      "displayName": "김창헌",
      "photoUrl": "",
      "userId": "05733824982842229263"
     },
     "user_tz": -540
    },
    "id": "coc0_xfu3uTN",
    "outputId": "08716283-e364-4951-da75-64bc633d5c59"
   },
   "outputs": [
    {
     "name": "stdout",
     "output_type": "stream",
     "text": [
      "['gs://chkim_tfrecord/tfrecord_3천만_300/batch_1000192'\n",
      " 'gs://chkim_tfrecord/tfrecord_3천만_300/batch_1000448'\n",
      " 'gs://chkim_tfrecord/tfrecord_3천만_300/batch_1000704' ...\n",
      " 'gs://chkim_tfrecord/tfrecord_3천만_300/batch_9999360'\n",
      " 'gs://chkim_tfrecord/tfrecord_3천만_300/batch_9999616'\n",
      " 'gs://chkim_tfrecord/tfrecord_3천만_300/batch_9999872']\n",
      "39070\n"
     ]
    }
   ],
   "source": [
    "print(train_data)\n",
    "print(len(train_data))"
   ]
  },
  {
   "cell_type": "markdown",
   "metadata": {
    "id": "2uSzcqQYr2gF"
   },
   "source": [
    "## 훈련데이터와 검증 데이터셋을 분리합니다"
   ]
  },
  {
   "cell_type": "code",
   "execution_count": null,
   "metadata": {
    "id": "XiIIJhr7IlgU"
   },
   "outputs": [],
   "source": [
    "kfold = KFold(n_splits=1000, shuffle=True, random_state=42)\n",
    "\n",
    "for i, (idx, vdx) in enumerate(kfold.split(train_data)):\n",
    "    if i == 0:\n",
    "      tr_data = train_data[idx]\n",
    "      val_data = train_data[vdx]\n",
    "      \n",
    "    else:\n",
    "      continue"
   ]
  },
  {
   "cell_type": "code",
   "execution_count": null,
   "metadata": {
    "id": "b7MaWixgWjG5"
   },
   "outputs": [],
   "source": [
    "from sklearn.utils import shuffle"
   ]
  },
  {
   "cell_type": "code",
   "execution_count": null,
   "metadata": {
    "id": "sb67GE68WXh9"
   },
   "outputs": [],
   "source": [
    "tr_data = shuffle(tr_data)"
   ]
  },
  {
   "cell_type": "code",
   "execution_count": null,
   "metadata": {
    "colab": {
     "base_uri": "https://localhost:8080/",
     "height": 34
    },
    "executionInfo": {
     "elapsed": 133937,
     "status": "ok",
     "timestamp": 1602336212573,
     "user": {
      "displayName": "김창헌",
      "photoUrl": "",
      "userId": "05733824982842229263"
     },
     "user_tz": -540
    },
    "id": "9t419to8I0gP",
    "outputId": "97a53b04-7911-4b1f-c1b8-bb7f0a13c4e1"
   },
   "outputs": [
    {
     "data": {
      "text/plain": [
       "39030"
      ]
     },
     "execution_count": 23,
     "metadata": {
      "tags": []
     },
     "output_type": "execute_result"
    }
   ],
   "source": [
    "len(tr_data)"
   ]
  },
  {
   "cell_type": "markdown",
   "metadata": {
    "id": "PmtfvNb9r9sf"
   },
   "source": [
    "## tfrecords를 불러오는 함수 정의"
   ]
  },
  {
   "cell_type": "markdown",
   "metadata": {},
   "source": [
    "위에서 TFrecord 파일들의 경로를 GCS에서 불러와 리스트로 저장 한 후 tr_data(훈련용), val_data(검증용)으로 나눴습니다.이 둘을 아래 직접 정의한 load_dataset 함수를 통하여 모델에 feeding가능한 형태로 만들었습니다. \n",
    "\n",
    "load_dataset함수의 내부의 과정에 대해 차례대로 설명드리겠습니다.\n",
    "\n",
    "    1. 주어진 filesnames(파일경로리스트)를 가지고 tf.data.TFRecordDataset을 통해서 dataset을 생성합니다.\n",
    "    \n",
    "    2. cache()메서드를 이용하여 첫 반복에 데이터를 캐시하도록 합니다. 후속반복에 캐시된 데이터를 사용합니다\n",
    "    \n",
    "    3. repeat,과 shuffle여부를 결정합니다. shuffle시 experimental_deterministic = False로 둡니다 이는 굳이 데이터가 저장되어있는 순서대로 읽지 않음으로서 속도를 조금 빠르게 하는 것입니다.\n",
    "    \n",
    "    4. map을 이용하여 후처리작업을 수행합니다. map을 위한함수인 read_train_tfrecord는 tfrecord의 바이너리 스트림을 파싱하여 텐서로 바꿔주는 작업을 수행합니다.\n",
    "    \n",
    "    5. dataset 에 batch와 prefetch 를 적용합니다. pretetch는 데이터 입력 파이프라인 성능 최적화를 위함입니다. tf.data.experimental.AUTOTUNE으로 설정하여 tf.data런타임이 실행시에 동적으로 값을 조정하도록 만듭니다. \n",
    "\n"
   ]
  },
  {
   "cell_type": "code",
   "execution_count": null,
   "metadata": {
    "id": "sBaLzSlH1xFE"
   },
   "outputs": [],
   "source": [
    "def decode_image(image_data):\n",
    "    image = tf.image.decode_jpeg(image_data, channels=3)\n",
    "    image = tf.cast(image, tf.float32) / 255.0\n",
    "    image = tf.image.resize(image, [224,224])\n",
    "    return image\n",
    "\n",
    "def read_train_tfrecord(example):\n",
    "    features = {\n",
    "        'height': tf.io.FixedLenFeature([], tf.int64),\n",
    "        'width': tf.io.FixedLenFeature([], tf.int64),\n",
    "        'depth': tf.io.FixedLenFeature([], tf.int64),\n",
    "        'label': tf.io.FixedLenFeature([], tf.string), #고정길이 입력 피쳐를 parsing하기 위한 함수입니다\n",
    "        'image_raw': tf.io.FixedLenFeature([], tf.string)\n",
    "    }\n",
    "\n",
    "    example = tf.io.parse_single_example(example, features) #serialized된 피쳐를 위에서 정의한 features형태로 파싱합니다\n",
    "    \n",
    "    data = decode_image(example['image_raw'])\n",
    "    label=example['label']\n",
    "    label = tf.io.decode_raw(label, out_type=tf.int32)\n",
    "    \n",
    "    return data, label\n",
    "\n",
    "def load_dataset(filenames, shuffle=False, repeat=False, aug=False):\n",
    "    dataset = tf.data.TFRecordDataset(filenames)\n",
    "    dataset = dataset.cache() #데이터 셋이 처음 반복될때 메모리에 캐시됩니다. 이후반복에는 캐시된 데이터를 사용합니다.\n",
    "    \n",
    "    if repeat:\n",
    "        dataset = dataset.repeat()\n",
    "    if shuffle:\n",
    "        dataset = dataset.shuffle(BATCH_SIZE*2)\n",
    "        opt = tf.data.Options()\n",
    "        \n",
    "        opt.experimental_deterministic = False\n",
    "        \n",
    "    dataset = dataset.map(read_train_tfrecord, num_parallel_calls=AUTO)\n",
    "    dataset = dataset.batch(BATCH_SIZE* REPLICAS) #elements를 특정 크기로 일괄 처리하도록 결합합니다.\n",
    "    dataset = dataset.prefetch(AUTO) #현재 element가 처리 되는 동안 이후 element를 준비합니다 추가 메모리를 사용하는 대신 대기 시간이 줄어들고 처리량이 향상됩니다.\n",
    "    return dataset\n",
    "\n",
    "\n",
    "train_dataset = load_dataset(tr_data, shuffle=True, repeat=True)\n",
    "val_dataset = load_dataset(val_data, shuffle=False, repeat=False)"
   ]
  },
  {
   "cell_type": "markdown",
   "metadata": {},
   "source": [
    "experimental_distribute_dataset를 사용하여 데이터셋을 학습할 머신에 맞게  분배합니다. "
   ]
  },
  {
   "cell_type": "code",
   "execution_count": null,
   "metadata": {
    "id": "eTUrLOVAyCpd"
   },
   "outputs": [],
   "source": [
    "# PerReplica\n",
    "train_dist_ds = strategy.experimental_distribute_dataset(train_dataset)\n",
    "valid_dist_ds = strategy.experimental_distribute_dataset(val_dataset)"
   ]
  },
  {
   "cell_type": "code",
   "execution_count": null,
   "metadata": {
    "colab": {
     "base_uri": "https://localhost:8080/",
     "height": 34
    },
    "executionInfo": {
     "elapsed": 129606,
     "status": "ok",
     "timestamp": 1602336213038,
     "user": {
      "displayName": "김창헌",
      "photoUrl": "",
      "userId": "05733824982842229263"
     },
     "user_tz": -540
    },
    "id": "kpcFZO6JDEjI",
    "outputId": "a745d768-7f1e-4a18-8b37-5633b149e55d"
   },
   "outputs": [
    {
     "data": {
      "text/plain": [
       "10000128"
      ]
     },
     "execution_count": 26,
     "metadata": {
      "tags": []
     },
     "output_type": "execute_result"
    }
   ],
   "source": [
    "num_example"
   ]
  },
  {
   "cell_type": "code",
   "execution_count": null,
   "metadata": {
    "id": "jTa9VgXTJa6i"
   },
   "outputs": [],
   "source": [
    "STEPS_PER_EPOCH = int(num_example * 0.999) // (BATCH_SIZE * 8)\n",
    "VAL_STEPS_PER_EPOCH = int(num_example * 0.001) // (BATCH_SIZE * 8)"
   ]
  },
  {
   "cell_type": "markdown",
   "metadata": {},
   "source": [
    "## 훈련스텝정의\n",
    "train_step_fn는 위에서 생성한 train_dists_ds를 이용하여 학습을 진행하기 위한 함수입니다. \n",
    "함수 내부 실행과정에 대해 차례대로 설명을 드리겠습니다. \n",
    "    1. loss를 0으로 초기화하고 hidden(디코더의 은닉상태)을 초기화합니다. dec_input은 초기 입력으로 smiles의 시작을 의미하는 '<'가 들어갑니다\n",
    "    hidden은 shape이 (배치크기, units)인 텐서입니다. dec_input은 (배치크기,1)입니다. \n",
    "    \n",
    "    2. GradientTape내에서 이미지 텐서를 인코더에 입력해 features를 얻고 디코더에 dec_input, features hidden을 입력해 예측값을 얻습니다. 디코더의 예측은 모든 시점에 대해 반복됩니다. 시점은 72번있으며 smiles의 길이(패딩포함)입니다. 그후 pred값과 target값 사이의 loss값을 계산합니다 이후 시점 디코더의  input은 teacher forcing을 적용하기 때문에 예측값이 아니라 실제값이 들어갑니다\n",
    "    \n",
    "    3. encoder와 decoder의 훈련가능한 변수들(가중치와, 편향)을 합친 후 tape.gradient를 이용하여 미분을 구합니다.\n",
    "    \n",
    "    4. adam optimizer apply_gradients()함수로 계산된 gradient를 적용합니다.\n",
    "    \n",
    "    5. loss를 update함니다."
   ]
  },
  {
   "cell_type": "code",
   "execution_count": null,
   "metadata": {
    "id": "0AZYgtilvibR"
   },
   "outputs": [],
   "source": [
    "@tf.function\n",
    "def train_step_fn(img_tensor, target, validation=False):\n",
    "    loss = 0\n",
    "    \n",
    "    hidden = decoder.reset_state(batch_size=target.shape[0])\n",
    "\n",
    "    dec_input = tf.expand_dims([tar_to_index['<']] * target.shape[0], 1)\n",
    "    \n",
    "    # GradientTape안에서 계산을 하면 tape안에 계산 과정을 기록해두었다가 tape.gradient를 이용하여 미분을 자동으로 구할 수 있습니다.\n",
    "    with tf.GradientTape() as tape:\n",
    "        features = encoder(img_tensor)\n",
    "\n",
    "        for i in range(1, target.shape[1]):\n",
    "            predictions, hidden, _ = decoder(dec_input, features, hidden, training=True)\n",
    "\n",
    "            loss += loss_function(target[:, i], predictions)\n",
    "\n",
    "            dec_input = tf.expand_dims(target[:, i], 1)\n",
    "\n",
    "    trainable_variables = encoder.trainable_variables + decoder.trainable_variables\n",
    "\n",
    "    gradients = tape.gradient(loss, trainable_variables)\n",
    "\n",
    "    optimizer.apply_gradients(zip(gradients, trainable_variables)) #zip은 동일한 개수로 이루어진 자료형을 묶어주는 역할을 한다.\n",
    "\n",
    "    total_loss = (loss / int(target.shape[1]))\n",
    "    train_loss.update_state(total_loss)\n",
    "    #return loss, total_loss"
   ]
  },
  {
   "cell_type": "markdown",
   "metadata": {},
   "source": [
    "## 검증스텝 정의\n",
    "valid_step_fn은 검증 loss를 구하기 위한 함수입니다.\n",
    "\n",
    "예측값을 얻고 loss를 구하는 과정은 train_step_fn과 동일하나. gradient를 구하는 과정은 필요가 없으니 생략되었습니다. "
   ]
  },
  {
   "cell_type": "code",
   "execution_count": null,
   "metadata": {
    "id": "VGhsjFa6ONuq"
   },
   "outputs": [],
   "source": [
    "@tf.function\n",
    "def valid_step_fn(img_tensor, target):\n",
    "    loss = 0\n",
    "    hidden = decoder.reset_state(batch_size=target.shape[0])\n",
    "    dec_input = tf.expand_dims([tar_to_index['<']] * target.shape[0], 1)\n",
    "    features = encoder(img_tensor)\n",
    "\n",
    "    for i in range(1, target.shape[1]):\n",
    "        predictions, hidden, _ = decoder(dec_input, features, hidden, training=False)\n",
    "\n",
    "        loss += loss_function(target[:, i], predictions) \n",
    "\n",
    "        dec_input = tf.expand_dims(target[:, i], 1) #teacher forcing\n",
    "\n",
    "    val_loss = (loss / int(target.shape[1]))\n",
    "    valid_loss.update_state(val_loss)"
   ]
  },
  {
   "cell_type": "code",
   "execution_count": null,
   "metadata": {
    "colab": {
     "base_uri": "https://localhost:8080/",
     "height": 34
    },
    "executionInfo": {
     "elapsed": 124302,
     "status": "ok",
     "timestamp": 1602336213632,
     "user": {
      "displayName": "김창헌",
      "photoUrl": "",
      "userId": "05733824982842229263"
     },
     "user_tz": -540
    },
    "id": "qcydzmqzax-t",
    "outputId": "8da89b6b-af6d-4be1-9e7f-7da7761d7dd5"
   },
   "outputs": [
    {
     "data": {
      "text/plain": [
       "15"
      ]
     },
     "execution_count": 30,
     "metadata": {
      "tags": []
     },
     "output_type": "execute_result"
    }
   ],
   "source": [
    "import gc\n",
    "gc.collect()"
   ]
  },
  {
   "cell_type": "markdown",
   "metadata": {},
   "source": [
    "## 모델 가중치 불러오기\n",
    "이전에 epoch까지 학습시킨 모델이 있다면 가중치를 불러옵니다.\n",
    "가중치를 불러오기 위해서는 모델을  building하는 작업이 필요합니다. "
   ]
  },
  {
   "cell_type": "code",
   "execution_count": null,
   "metadata": {},
   "outputs": [],
   "source": [
    "start_epoch = 29"
   ]
  },
  {
   "cell_type": "markdown",
   "metadata": {
    "id": "SPwsyEuswq28"
   },
   "source": [
    "### load_weight를 실행하기 위해 훈련 스텝을 한번 거쳐 모델을 building합니다."
   ]
  },
  {
   "cell_type": "code",
   "execution_count": null,
   "metadata": {
    "id": "LuQi8Ni4pg_Z"
   },
   "outputs": [],
   "source": [
    "train_loss.reset_states()\n",
    "valid_loss.reset_states()\n",
    "total_loss = 0\n",
    "for (batch, (img_tensor, target)) in enumerate(train_dist_ds):\n",
    "  strategy.run(train_step_fn, args=(img_tensor, target))\n",
    "  break"
   ]
  },
  {
   "cell_type": "markdown",
   "metadata": {
    "id": "6D_ESXW5phft"
   },
   "source": [
    "### 이전까지 학습시킨 모델가중치를 불러옵니다"
   ]
  },
  {
   "cell_type": "code",
   "execution_count": null,
   "metadata": {
    "id": "fBt51tOo3saj"
   },
   "outputs": [],
   "source": [
    "encoder.load_weights(os.path.join(ROOT_PATH, \"eff0_fold0_molecule_encoder_epoch_1000만29_0.1078589589972245.h5\"))\n",
    "decoder.load_weights(os.path.join(ROOT_PATH, \"eff0_fold0_molecule_decoder_epoch_1000만29_0.1078589589972245.h5\"))"
   ]
  },
  {
   "cell_type": "code",
   "execution_count": null,
   "metadata": {
    "colab": {
     "base_uri": "https://localhost:8080/",
     "height": 260
    },
    "executionInfo": {
     "elapsed": 116932,
     "status": "ok",
     "timestamp": 1602336283024,
     "user": {
      "displayName": "김창헌",
      "photoUrl": "",
      "userId": "05733824982842229263"
     },
     "user_tz": -540
    },
    "id": "wyoobJ9p6wEg",
    "outputId": "5fed192d-3acc-4ef0-d835-59abf92b3c21"
   },
   "outputs": [
    {
     "name": "stdout",
     "output_type": "stream",
     "text": [
      "Model: \"cnn__encoder\"\n",
      "_________________________________________________________________\n",
      "Layer (type)                 Output Shape              Param #   \n",
      "=================================================================\n",
      "efficientnet-b1 (Model)      (None, 7, 7, 1280)        6575232   \n",
      "_________________________________________________________________\n",
      "dropout (Dropout)            multiple                  0         \n",
      "_________________________________________________________________\n",
      "dense (Dense)                multiple                  655872    \n",
      "=================================================================\n",
      "Total params: 7,231,104\n",
      "Trainable params: 655,872\n",
      "Non-trainable params: 6,575,232\n",
      "_________________________________________________________________\n"
     ]
    }
   ],
   "source": [
    "encoder.summary()"
   ]
  },
  {
   "cell_type": "code",
   "execution_count": null,
   "metadata": {
    "colab": {
     "base_uri": "https://localhost:8080/",
     "height": 364
    },
    "executionInfo": {
     "elapsed": 116087,
     "status": "ok",
     "timestamp": 1602336283025,
     "user": {
      "displayName": "김창헌",
      "photoUrl": "",
      "userId": "05733824982842229263"
     },
     "user_tz": -540
    },
    "id": "wIci8x3M676X",
    "outputId": "27d70a97-8cd5-4510-f4ae-cd7d901b6e80"
   },
   "outputs": [
    {
     "name": "stdout",
     "output_type": "stream",
     "text": [
      "Model: \"rnn__decoder\"\n",
      "_________________________________________________________________\n",
      "Layer (type)                 Output Shape              Param #   \n",
      "=================================================================\n",
      "embedding (Embedding)        multiple                  18944     \n",
      "_________________________________________________________________\n",
      "gru (GRU)                    multiple                  6297600   \n",
      "_________________________________________________________________\n",
      "dropout_1 (Dropout)          multiple                  0         \n",
      "_________________________________________________________________\n",
      "dense_1 (Dense)              multiple                  1049600   \n",
      "_________________________________________________________________\n",
      "dense_2 (Dense)              multiple                  37925     \n",
      "_________________________________________________________________\n",
      "bahdanau_attention (Bahdanau multiple                  1575937   \n",
      "=================================================================\n",
      "Total params: 8,980,006\n",
      "Trainable params: 8,980,006\n",
      "Non-trainable params: 0\n",
      "_________________________________________________________________\n"
     ]
    }
   ],
   "source": [
    "decoder.summary()"
   ]
  },
  {
   "cell_type": "markdown",
   "metadata": {
    "id": "HILDY9JdUb0P"
   },
   "source": [
    "### 이전 epoch까지 decay된 learning rate 사용합니다"
   ]
  },
  {
   "cell_type": "code",
   "execution_count": null,
   "metadata": {
    "colab": {
     "base_uri": "https://localhost:8080/",
     "height": 190
    },
    "executionInfo": {
     "elapsed": 528,
     "status": "ok",
     "timestamp": 1602336493877,
     "user": {
      "displayName": "김창헌",
      "photoUrl": "",
      "userId": "05733824982842229263"
     },
     "user_tz": -540
    },
    "id": "s90LbQH_34cg",
    "outputId": "4b9dcdae-ffa0-435d-bb05-de9b827b849a"
   },
   "outputs": [
    {
     "data": {
      "text/plain": [
       "TPUMirroredVariable:{\n",
       "  0: <tf.Variable 'Adam/learning_rate:0' shape=() dtype=float32, numpy=2e-05>,\n",
       "  1: <tf.Variable 'Adam/learning_rate/replica_1:0' shape=() dtype=float32, numpy=2e-05>,\n",
       "  2: <tf.Variable 'Adam/learning_rate/replica_2:0' shape=() dtype=float32, numpy=2e-05>,\n",
       "  3: <tf.Variable 'Adam/learning_rate/replica_3:0' shape=() dtype=float32, numpy=2e-05>,\n",
       "  4: <tf.Variable 'Adam/learning_rate/replica_4:0' shape=() dtype=float32, numpy=2e-05>,\n",
       "  5: <tf.Variable 'Adam/learning_rate/replica_5:0' shape=() dtype=float32, numpy=2e-05>,\n",
       "  6: <tf.Variable 'Adam/learning_rate/replica_6:0' shape=() dtype=float32, numpy=2e-05>,\n",
       "  7: <tf.Variable 'Adam/learning_rate/replica_7:0' shape=() dtype=float32, numpy=2e-05>\n",
       "}"
      ]
     },
     "execution_count": 40,
     "metadata": {
      "tags": []
     },
     "output_type": "execute_result"
    }
   ],
   "source": [
    "for epoch in range(start_epoch) : \n",
    "  if (epoch+1)%2 == 0:\n",
    "    if optimizer.lr > 0.0001:\n",
    "      \n",
    "      optimizer.lr =  optimizer.lr * 0.69\n",
    "optimizer.lr"
   ]
  },
  {
   "cell_type": "markdown",
   "metadata": {
    "id": "YKhJhhGMsHXI"
   },
   "source": [
    "## 훈련 시작"
   ]
  },
  {
   "cell_type": "markdown",
   "metadata": {},
   "source": [
    "우선 tf.keras.metrics.Sum()로 정의된 train_loss와 valid_loss를 reset_states()함수를 호출하여 metric 상태변수를 초기화합니다. \n",
    "\n",
    "train_loss는 설정한 100개의 batch마다 reset_states()를 호출함으로써 초기화합니다. valid_loss도 100개의 batch마다 val_loss를 계산하고 출력한 후 초기화됩니다. \n",
    "\n",
    "train_dist_ds에서 batch단위로 img_tensor와 target을 불러옵니다. 반복문 안에서 strategy.run()을 이용하여 train_step_fn 함수를 replica당 하나씩 호출합니다. 이렇게 하면 8개의 TPU core에서 각각 학습이 진행되고 train_loss가 update됩니다. \n",
    "\n",
    "validation도 100개의 batch마다 진행되는데 검증 후 그 시점의 val_loss 가 val_best_loss보다 낮으면 인코더와 디코더의 가중치를 저장합니다. 한 epoch이 지난 후에도 weights을 따로 저장 해 둡니다.\n",
    "\n",
    "epoch진행될수록 적절하게 learning_rate를 감소시켜야 학습이 잘 이루어 지므로 초기 lr=0.00051에서  2epoch마다. 0.69씩 곱하여 감소시킵니다. \n"
   ]
  },
  {
   "cell_type": "code",
   "execution_count": null,
   "metadata": {
    "colab": {
     "base_uri": "https://localhost:8080/",
     "height": 474
    },
    "executionInfo": {
     "elapsed": 135375,
     "status": "error",
     "timestamp": 1602336488026,
     "user": {
      "displayName": "김창헌",
      "photoUrl": "",
      "userId": "05733824982842229263"
     },
     "user_tz": -540
    },
    "id": "hPMjV1pQvmXL",
    "outputId": "52feb15e-5b79-4fc4-b54a-c3f19a707718"
   },
   "outputs": [
    {
     "name": "stdout",
     "output_type": "stream",
     "text": [
      "Epoch 30 Batch 0 Loss 0.0010\n",
      "Epoch 30 VAL_Batch 19 Val_Loss 0.1079\n",
      "weight saved\n",
      "Epoch 30 Batch 100 Loss 0.0972\n",
      "Epoch 30 VAL_Batch 19 Val_Loss 0.1080\n"
     ]
    },
    {
     "ename": "KeyboardInterrupt",
     "evalue": "ignored",
     "output_type": "error",
     "traceback": [
      "\u001b[0;31m---------------------------------------------------------------------------\u001b[0m",
      "\u001b[0;31mKeyboardInterrupt\u001b[0m                         Traceback (most recent call last)",
      "\u001b[0;32m<ipython-input-39-5549eb31f642>\u001b[0m in \u001b[0;36m<module>\u001b[0;34m()\u001b[0m\n\u001b[1;32m      8\u001b[0m     \u001b[0mtotal_loss\u001b[0m \u001b[0;34m=\u001b[0m \u001b[0;36m0\u001b[0m\u001b[0;34m\u001b[0m\u001b[0;34m\u001b[0m\u001b[0m\n\u001b[1;32m      9\u001b[0m \u001b[0;34m\u001b[0m\u001b[0m\n\u001b[0;32m---> 10\u001b[0;31m     \u001b[0;32mfor\u001b[0m \u001b[0;34m(\u001b[0m\u001b[0mbatch\u001b[0m\u001b[0;34m,\u001b[0m \u001b[0;34m(\u001b[0m\u001b[0mimg_tensor\u001b[0m\u001b[0;34m,\u001b[0m \u001b[0mtarget\u001b[0m\u001b[0;34m)\u001b[0m\u001b[0;34m)\u001b[0m \u001b[0;32min\u001b[0m \u001b[0menumerate\u001b[0m\u001b[0;34m(\u001b[0m\u001b[0mtrain_dist_ds\u001b[0m\u001b[0;34m)\u001b[0m\u001b[0;34m:\u001b[0m\u001b[0;34m\u001b[0m\u001b[0;34m\u001b[0m\u001b[0m\n\u001b[0m\u001b[1;32m     11\u001b[0m         \u001b[0mstrategy\u001b[0m\u001b[0;34m.\u001b[0m\u001b[0mrun\u001b[0m\u001b[0;34m(\u001b[0m\u001b[0mtrain_step_fn\u001b[0m\u001b[0;34m,\u001b[0m \u001b[0margs\u001b[0m\u001b[0;34m=\u001b[0m\u001b[0;34m(\u001b[0m\u001b[0mimg_tensor\u001b[0m\u001b[0;34m,\u001b[0m \u001b[0mtarget\u001b[0m\u001b[0;34m)\u001b[0m\u001b[0;34m)\u001b[0m\u001b[0;34m\u001b[0m\u001b[0;34m\u001b[0m\u001b[0m\n\u001b[1;32m     12\u001b[0m \u001b[0;34m\u001b[0m\u001b[0m\n",
      "\u001b[0;32m/usr/local/lib/python3.6/dist-packages/tensorflow/python/distribute/input_lib.py\u001b[0m in \u001b[0;36m__next__\u001b[0;34m(self)\u001b[0m\n\u001b[1;32m    294\u001b[0m   \u001b[0;32mdef\u001b[0m \u001b[0m__next__\u001b[0m\u001b[0;34m(\u001b[0m\u001b[0mself\u001b[0m\u001b[0;34m)\u001b[0m\u001b[0;34m:\u001b[0m\u001b[0;34m\u001b[0m\u001b[0;34m\u001b[0m\u001b[0m\n\u001b[1;32m    295\u001b[0m     \u001b[0;32mtry\u001b[0m\u001b[0;34m:\u001b[0m\u001b[0;34m\u001b[0m\u001b[0;34m\u001b[0m\u001b[0m\n\u001b[0;32m--> 296\u001b[0;31m       \u001b[0;32mreturn\u001b[0m \u001b[0mself\u001b[0m\u001b[0;34m.\u001b[0m\u001b[0mget_next\u001b[0m\u001b[0;34m(\u001b[0m\u001b[0;34m)\u001b[0m\u001b[0;34m\u001b[0m\u001b[0;34m\u001b[0m\u001b[0m\n\u001b[0m\u001b[1;32m    297\u001b[0m     \u001b[0;32mexcept\u001b[0m \u001b[0merrors\u001b[0m\u001b[0;34m.\u001b[0m\u001b[0mOutOfRangeError\u001b[0m\u001b[0;34m:\u001b[0m\u001b[0;34m\u001b[0m\u001b[0;34m\u001b[0m\u001b[0m\n\u001b[1;32m    298\u001b[0m       \u001b[0;32mraise\u001b[0m \u001b[0mStopIteration\u001b[0m\u001b[0;34m\u001b[0m\u001b[0;34m\u001b[0m\u001b[0m\n",
      "\u001b[0;32m/usr/local/lib/python3.6/dist-packages/tensorflow/python/distribute/input_lib.py\u001b[0m in \u001b[0;36mget_next\u001b[0;34m(self, name)\u001b[0m\n\u001b[1;32m    326\u001b[0m       \u001b[0;32mreturn\u001b[0m \u001b[0mdata\u001b[0m\u001b[0;34m\u001b[0m\u001b[0;34m\u001b[0m\u001b[0m\n\u001b[1;32m    327\u001b[0m \u001b[0;34m\u001b[0m\u001b[0m\n\u001b[0;32m--> 328\u001b[0;31m     \u001b[0mglobal_has_value\u001b[0m\u001b[0;34m,\u001b[0m \u001b[0mreplicas\u001b[0m \u001b[0;34m=\u001b[0m \u001b[0m_get_next_as_optional\u001b[0m\u001b[0;34m(\u001b[0m\u001b[0mself\u001b[0m\u001b[0;34m,\u001b[0m \u001b[0mself\u001b[0m\u001b[0;34m.\u001b[0m\u001b[0m_strategy\u001b[0m\u001b[0;34m)\u001b[0m\u001b[0;34m\u001b[0m\u001b[0;34m\u001b[0m\u001b[0m\n\u001b[0m\u001b[1;32m    329\u001b[0m     \u001b[0mresults\u001b[0m \u001b[0;34m=\u001b[0m \u001b[0;34m[\u001b[0m\u001b[0;34m]\u001b[0m\u001b[0;34m\u001b[0m\u001b[0;34m\u001b[0m\u001b[0m\n\u001b[1;32m    330\u001b[0m     \u001b[0;32mfor\u001b[0m \u001b[0mi\u001b[0m\u001b[0;34m,\u001b[0m \u001b[0mworker\u001b[0m \u001b[0;32min\u001b[0m \u001b[0menumerate\u001b[0m\u001b[0;34m(\u001b[0m\u001b[0mself\u001b[0m\u001b[0;34m.\u001b[0m\u001b[0m_input_workers\u001b[0m\u001b[0;34m.\u001b[0m\u001b[0mworker_devices\u001b[0m\u001b[0;34m)\u001b[0m\u001b[0;34m:\u001b[0m\u001b[0;34m\u001b[0m\u001b[0;34m\u001b[0m\u001b[0m\n",
      "\u001b[0;32m/usr/local/lib/python3.6/dist-packages/tensorflow/python/distribute/input_lib.py\u001b[0m in \u001b[0;36m_get_next_as_optional\u001b[0;34m(iterator, strategy, name)\u001b[0m\n\u001b[1;32m    190\u001b[0m     \u001b[0;32mwith\u001b[0m \u001b[0mops\u001b[0m\u001b[0;34m.\u001b[0m\u001b[0mdevice\u001b[0m\u001b[0;34m(\u001b[0m\u001b[0mworker\u001b[0m\u001b[0;34m)\u001b[0m\u001b[0;34m:\u001b[0m\u001b[0;34m\u001b[0m\u001b[0;34m\u001b[0m\u001b[0m\n\u001b[1;32m    191\u001b[0m       worker_has_value, next_element = (\n\u001b[0;32m--> 192\u001b[0;31m           iterator._iterators[i].get_next_as_list(new_name))  # pylint: disable=protected-access\n\u001b[0m\u001b[1;32m    193\u001b[0m       \u001b[0;31m# Collective all-reduce requires explicit devices for inputs.\u001b[0m\u001b[0;34m\u001b[0m\u001b[0;34m\u001b[0m\u001b[0;34m\u001b[0m\u001b[0m\n\u001b[1;32m    194\u001b[0m       \u001b[0;32mwith\u001b[0m \u001b[0mops\u001b[0m\u001b[0;34m.\u001b[0m\u001b[0mdevice\u001b[0m\u001b[0;34m(\u001b[0m\u001b[0;34m\"/cpu:0\"\u001b[0m\u001b[0;34m)\u001b[0m\u001b[0;34m:\u001b[0m\u001b[0;34m\u001b[0m\u001b[0;34m\u001b[0m\u001b[0m\n",
      "\u001b[0;32m/usr/local/lib/python3.6/dist-packages/tensorflow/python/distribute/input_lib.py\u001b[0m in \u001b[0;36mget_next_as_list\u001b[0;34m(***failed resolving arguments***)\u001b[0m\n\u001b[1;32m   1148\u001b[0m               \u001b[0;32mlambda\u001b[0m\u001b[0;34m:\u001b[0m \u001b[0mdata\u001b[0m\u001b[0;34m.\u001b[0m\u001b[0mget_value\u001b[0m\u001b[0;34m(\u001b[0m\u001b[0;34m)\u001b[0m\u001b[0;34m,\u001b[0m\u001b[0;34m\u001b[0m\u001b[0;34m\u001b[0m\u001b[0m\n\u001b[1;32m   1149\u001b[0m               \u001b[0;32mlambda\u001b[0m\u001b[0;34m:\u001b[0m \u001b[0m_dummy_tensor_fn\u001b[0m\u001b[0;34m(\u001b[0m\u001b[0mdata\u001b[0m\u001b[0;34m.\u001b[0m\u001b[0mvalue_structure\u001b[0m\u001b[0;34m)\u001b[0m\u001b[0;34m,\u001b[0m\u001b[0;34m\u001b[0m\u001b[0;34m\u001b[0m\u001b[0m\n\u001b[0;32m-> 1150\u001b[0;31m               \u001b[0mstrict\u001b[0m\u001b[0;34m=\u001b[0m\u001b[0;32mTrue\u001b[0m\u001b[0;34m,\u001b[0m\u001b[0;34m\u001b[0m\u001b[0;34m\u001b[0m\u001b[0m\n\u001b[0m\u001b[1;32m   1151\u001b[0m           )\n\u001b[1;32m   1152\u001b[0m           \u001b[0mresult\u001b[0m\u001b[0;34m.\u001b[0m\u001b[0mappend\u001b[0m\u001b[0;34m(\u001b[0m\u001b[0mreal_data\u001b[0m\u001b[0;34m)\u001b[0m\u001b[0;34m\u001b[0m\u001b[0;34m\u001b[0m\u001b[0m\n",
      "\u001b[0;32m/usr/local/lib/python3.6/dist-packages/tensorflow/python/util/deprecation.py\u001b[0m in \u001b[0;36mnew_func\u001b[0;34m(*args, **kwargs)\u001b[0m\n\u001b[1;32m    505\u001b[0m                 \u001b[0;34m'in a future version'\u001b[0m \u001b[0;32mif\u001b[0m \u001b[0mdate\u001b[0m \u001b[0;32mis\u001b[0m \u001b[0;32mNone\u001b[0m \u001b[0;32melse\u001b[0m \u001b[0;34m(\u001b[0m\u001b[0;34m'after %s'\u001b[0m \u001b[0;34m%\u001b[0m \u001b[0mdate\u001b[0m\u001b[0;34m)\u001b[0m\u001b[0;34m,\u001b[0m\u001b[0;34m\u001b[0m\u001b[0;34m\u001b[0m\u001b[0m\n\u001b[1;32m    506\u001b[0m                 instructions)\n\u001b[0;32m--> 507\u001b[0;31m       \u001b[0;32mreturn\u001b[0m \u001b[0mfunc\u001b[0m\u001b[0;34m(\u001b[0m\u001b[0;34m*\u001b[0m\u001b[0margs\u001b[0m\u001b[0;34m,\u001b[0m \u001b[0;34m**\u001b[0m\u001b[0mkwargs\u001b[0m\u001b[0;34m)\u001b[0m\u001b[0;34m\u001b[0m\u001b[0;34m\u001b[0m\u001b[0m\n\u001b[0m\u001b[1;32m    508\u001b[0m \u001b[0;34m\u001b[0m\u001b[0m\n\u001b[1;32m    509\u001b[0m     doc = _add_deprecated_arg_notice_to_docstring(\n",
      "\u001b[0;32m/usr/local/lib/python3.6/dist-packages/tensorflow/python/ops/control_flow_ops.py\u001b[0m in \u001b[0;36mcond\u001b[0;34m(pred, true_fn, false_fn, strict, name, fn1, fn2)\u001b[0m\n\u001b[1;32m   1202\u001b[0m   \u001b[0;32mwith\u001b[0m \u001b[0mops\u001b[0m\u001b[0;34m.\u001b[0m\u001b[0mname_scope\u001b[0m\u001b[0;34m(\u001b[0m\u001b[0mname\u001b[0m\u001b[0;34m,\u001b[0m \u001b[0;34m\"cond\"\u001b[0m\u001b[0;34m,\u001b[0m \u001b[0;34m[\u001b[0m\u001b[0mpred\u001b[0m\u001b[0;34m]\u001b[0m\u001b[0;34m)\u001b[0m\u001b[0;34m:\u001b[0m\u001b[0;34m\u001b[0m\u001b[0;34m\u001b[0m\u001b[0m\n\u001b[1;32m   1203\u001b[0m     \u001b[0;32mif\u001b[0m \u001b[0mcontext\u001b[0m\u001b[0;34m.\u001b[0m\u001b[0mexecuting_eagerly\u001b[0m\u001b[0;34m(\u001b[0m\u001b[0;34m)\u001b[0m\u001b[0;34m:\u001b[0m\u001b[0;34m\u001b[0m\u001b[0;34m\u001b[0m\u001b[0m\n\u001b[0;32m-> 1204\u001b[0;31m       \u001b[0;32mif\u001b[0m \u001b[0mpred\u001b[0m\u001b[0;34m:\u001b[0m\u001b[0;34m\u001b[0m\u001b[0;34m\u001b[0m\u001b[0m\n\u001b[0m\u001b[1;32m   1205\u001b[0m         \u001b[0mresult\u001b[0m \u001b[0;34m=\u001b[0m \u001b[0mtrue_fn\u001b[0m\u001b[0;34m(\u001b[0m\u001b[0;34m)\u001b[0m\u001b[0;34m\u001b[0m\u001b[0;34m\u001b[0m\u001b[0m\n\u001b[1;32m   1206\u001b[0m       \u001b[0;32melse\u001b[0m\u001b[0;34m:\u001b[0m\u001b[0;34m\u001b[0m\u001b[0;34m\u001b[0m\u001b[0m\n",
      "\u001b[0;32m/usr/local/lib/python3.6/dist-packages/tensorflow/python/framework/ops.py\u001b[0m in \u001b[0;36m__bool__\u001b[0;34m(self)\u001b[0m\n\u001b[1;32m    882\u001b[0m \u001b[0;34m\u001b[0m\u001b[0m\n\u001b[1;32m    883\u001b[0m   \u001b[0;32mdef\u001b[0m \u001b[0m__bool__\u001b[0m\u001b[0;34m(\u001b[0m\u001b[0mself\u001b[0m\u001b[0;34m)\u001b[0m\u001b[0;34m:\u001b[0m\u001b[0;34m\u001b[0m\u001b[0;34m\u001b[0m\u001b[0m\n\u001b[0;32m--> 884\u001b[0;31m     \u001b[0;32mreturn\u001b[0m \u001b[0mbool\u001b[0m\u001b[0;34m(\u001b[0m\u001b[0mself\u001b[0m\u001b[0;34m.\u001b[0m\u001b[0m_numpy\u001b[0m\u001b[0;34m(\u001b[0m\u001b[0;34m)\u001b[0m\u001b[0;34m)\u001b[0m\u001b[0;34m\u001b[0m\u001b[0;34m\u001b[0m\u001b[0m\n\u001b[0m\u001b[1;32m    885\u001b[0m \u001b[0;34m\u001b[0m\u001b[0m\n\u001b[1;32m    886\u001b[0m   \u001b[0m__nonzero__\u001b[0m \u001b[0;34m=\u001b[0m \u001b[0m__bool__\u001b[0m\u001b[0;34m\u001b[0m\u001b[0;34m\u001b[0m\u001b[0m\n",
      "\u001b[0;32m/usr/local/lib/python3.6/dist-packages/tensorflow/python/framework/ops.py\u001b[0m in \u001b[0;36m_numpy\u001b[0;34m(self)\u001b[0m\n\u001b[1;32m    925\u001b[0m     \u001b[0;31m# pylint: disable=protected-access\u001b[0m\u001b[0;34m\u001b[0m\u001b[0;34m\u001b[0m\u001b[0;34m\u001b[0m\u001b[0m\n\u001b[1;32m    926\u001b[0m     \u001b[0;32mtry\u001b[0m\u001b[0;34m:\u001b[0m\u001b[0;34m\u001b[0m\u001b[0;34m\u001b[0m\u001b[0m\n\u001b[0;32m--> 927\u001b[0;31m       \u001b[0;32mreturn\u001b[0m \u001b[0mself\u001b[0m\u001b[0;34m.\u001b[0m\u001b[0m_numpy_internal\u001b[0m\u001b[0;34m(\u001b[0m\u001b[0;34m)\u001b[0m\u001b[0;34m\u001b[0m\u001b[0;34m\u001b[0m\u001b[0m\n\u001b[0m\u001b[1;32m    928\u001b[0m     \u001b[0;32mexcept\u001b[0m \u001b[0mcore\u001b[0m\u001b[0;34m.\u001b[0m\u001b[0m_NotOkStatusException\u001b[0m \u001b[0;32mas\u001b[0m \u001b[0me\u001b[0m\u001b[0;34m:\u001b[0m\u001b[0;34m\u001b[0m\u001b[0;34m\u001b[0m\u001b[0m\n\u001b[1;32m    929\u001b[0m       \u001b[0msix\u001b[0m\u001b[0;34m.\u001b[0m\u001b[0mraise_from\u001b[0m\u001b[0;34m(\u001b[0m\u001b[0mcore\u001b[0m\u001b[0;34m.\u001b[0m\u001b[0m_status_to_exception\u001b[0m\u001b[0;34m(\u001b[0m\u001b[0me\u001b[0m\u001b[0;34m.\u001b[0m\u001b[0mcode\u001b[0m\u001b[0;34m,\u001b[0m \u001b[0me\u001b[0m\u001b[0;34m.\u001b[0m\u001b[0mmessage\u001b[0m\u001b[0;34m)\u001b[0m\u001b[0;34m,\u001b[0m \u001b[0;32mNone\u001b[0m\u001b[0;34m)\u001b[0m\u001b[0;34m\u001b[0m\u001b[0;34m\u001b[0m\u001b[0m\n",
      "\u001b[0;31mKeyboardInterrupt\u001b[0m: "
     ]
    }
   ],
   "source": [
    "train_loss.reset_states()\n",
    "valid_loss.reset_states()\n",
    "import time\n",
    "val_best_loss = 999\n",
    "\n",
    "for epoch in range(start_epoch, 100):\n",
    "    start = time.time()\n",
    "    total_loss = 0\n",
    "\n",
    "    for (batch, (img_tensor, target)) in enumerate(train_dist_ds):\n",
    "        strategy.run(train_step_fn, args=(img_tensor, target))\n",
    "        \n",
    "        if batch % 100 == 0:\n",
    "            print('Epoch {} Batch {} Loss {:.4f}'.format(epoch + 1, batch, train_loss.result().numpy() / 100/8))\n",
    "            train_loss.reset_states()\n",
    "\n",
    "\n",
    "            for val_batch, (val_img_tensor, val_target) in enumerate(valid_dist_ds):\n",
    "                strategy.run(valid_step_fn, args=(val_img_tensor, val_target))\n",
    "                if val_batch >= VAL_STEPS_PER_EPOCH:\n",
    "                  val_loss = valid_loss.result().numpy() / val_batch / 8\n",
    "                  print('Epoch {} VAL_Batch {} Val_Loss {:.4f}'.format(epoch + 1, val_batch, val_loss))\n",
    "                  if val_loss <= val_best_loss:\n",
    "                    val_best_loss = val_loss\n",
    "                    # encoder.save_weights(os.path.join(ROOT_PATH, \"eff0_fold0_molecule_encoder_1000만.h5\"))\n",
    "                    # decoder.save_weights(os.path.join(ROOT_PATH, 'eff0_fold0_molecule_decoder_1000만.h5'))\n",
    "                    print(\"weight saved\")\n",
    "                  valid_loss.reset_states()\n",
    "                  break \n",
    "        if batch > STEPS_PER_EPOCH:\n",
    "            break\n",
    "    \n",
    "    encoder.save_weights(os.path.join(ROOT_PATH, \"eff0_fold0_molecule_encoder_epoch_1000만\"+str(epoch+1)+\"_\"+str(val_best_loss)+\".h5\"))\n",
    "    decoder.save_weights(os.path.join(ROOT_PATH, 'eff0_fold0_molecule_decoder_epoch_1000만'+str(epoch+1)+\"_\"+str(val_best_loss)+\".h5\"))  \n",
    "    if (epoch+1)%2 == 0:\n",
    "      if optimizer.lr > 0.0001:\n",
    "        optimizer.lr =  optimizer.lr * 0.69\n",
    "      else:\n",
    "        pass\n",
    "\n",
    "    \n",
    "    print('Time taken for 1 epoch {} sec\\n'.format(time.time() - start))"
   ]
  },
  {
   "cell_type": "markdown",
   "metadata": {
    "id": "9rAOB6_9Y7tm"
   },
   "source": [
    "### 1천만개 이미지를 TPU를 이용하여 batchsize(64) * Replica(8) 로 분산학습 \n",
    "\n",
    "1Epoch당 약5700초 소요됩니다. 첫 epoch는 약 11000초 소요되는데 tpu사용시 추가적인 데이터 전처리와 캐시화가 필요하기 때문으로 보입니다. tfrecord_size를 개당 (10M~100M) 병목현상이 최소화되어 빠른 더 빠른 학습 이 가능합니다.\n",
    "학습과정중 출력된 결과는 training_output.txt에 저장되어있습니다."
   ]
  },
  {
   "cell_type": "markdown",
   "metadata": {
    "id": "OE3cKsI1SX3c"
   },
   "source": [
    "### 저장된 모델파일명에 기록한 val_loss 값을 이용하여 loss_plot그리기"
   ]
  },
  {
   "cell_type": "code",
   "execution_count": 5,
   "metadata": {
    "colab": {
     "base_uri": "https://localhost:8080/",
     "height": 537
    },
    "executionInfo": {
     "elapsed": 1717,
     "status": "ok",
     "timestamp": 1602460267236,
     "user": {
      "displayName": "David Kim",
      "photoUrl": "https://lh3.googleusercontent.com/a-/AOh14GjYaI7z-5kRwPA6R2AefJobuVfXBJtTIaLtVS1bHw=s64",
      "userId": "16225775759515109894"
     },
     "user_tz": -540
    },
    "id": "Enh0KOeHFynG",
    "outputId": "c68f4265-0b95-4345-9051-809371a468a8"
   },
   "outputs": [
    {
     "name": "stdout",
     "output_type": "stream",
     "text": [
      "['1', '0.242984696438438']\n",
      "['2', '0.1982471691934686']\n",
      "['3', '0.1724454227246736']\n",
      "['4', '0.1625908424979762']\n",
      "['5', '0.1515100880673057']\n",
      "['6', '0.14836613755477102']\n",
      "['7', '0.14805462485865542']\n",
      "['8', '0.14805462485865542']\n",
      "['9', '0.1385467303426642']\n",
      "['10', '0.134713750136526']\n",
      "['11', '0.1291286066958779']\n",
      "['12', '0.12674011682209216']\n",
      "['12', '0.12399919409500926']\n",
      "['13', '0.12062456733302067']\n",
      "['14', '0.11944298995168585']\n",
      "['15', '0.11691743449160927']\n",
      "['16', '0.1160430908203125']\n",
      "['17', '0.11416577038012053']\n",
      "['18', '0.11393184410898309']\n",
      "['19', '0.11344484279030248']\n",
      "['20', '0.11291651976735968']\n",
      "['21', '0.11225239854109914']\n",
      "['22', '0.11177088084973787']\n",
      "['23', '0.11151387816981266']\n",
      "['24', '0.10875595243353593']\n",
      "['25', '0.1085097915247867']\n",
      "['26', '0.10830882975929662']\n",
      "['27', '0.10817271784732216']\n",
      "['28', '0.10801583842227333']\n",
      "['29', '0.1078589589972245']\n"
     ]
    }
   ],
   "source": [
    "import matplotlib.pyplot as plt\n",
    "import os\n",
    "ROOT_PATH = f'gdrive/My Drive/Colab Notebooks/3_1천만개_batch64'\n",
    "models = {}\n",
    "for m in os.listdir(ROOT_PATH) :\n",
    "  if(m.find('eff0_fold0_molecule_decoder_epoch_1000만') != -1 ): \n",
    "      epoch_loss = m.split(\"1000만\")[1]\n",
    "      epoch_loss = epoch_loss.split(\".h\")[0]\n",
    "      # print(epoch_loss)\n",
    "      epoch_loss= epoch_loss.split(\"_\")\n",
    "      print(epoch_loss)\n",
    "      epoch = epoch_loss[0]\n",
    "      loss = epoch_loss[1]\n",
    "      models[epoch] = loss"
   ]
  },
  {
   "cell_type": "code",
   "execution_count": 6,
   "metadata": {
    "colab": {
     "base_uri": "https://localhost:8080/",
     "height": 294
    },
    "executionInfo": {
     "elapsed": 740,
     "status": "ok",
     "timestamp": 1602460269746,
     "user": {
      "displayName": "David Kim",
      "photoUrl": "https://lh3.googleusercontent.com/a-/AOh14GjYaI7z-5kRwPA6R2AefJobuVfXBJtTIaLtVS1bHw=s64",
      "userId": "16225775759515109894"
     },
     "user_tz": -540
    },
    "id": "-2rEBdFnFnYa",
    "outputId": "9051aeea-267f-41aa-cbab-5e48ae59c104"
   },
   "outputs": [
    {
     "data": {
      "image/png": "[encoded data removed]",
      "text/plain": [
       "<Figure size 432x288 with 1 Axes>"
      ]
     },
     "metadata": {
      "needs_background": "light",
      "tags": []
     },
     "output_type": "display_data"
    }
   ],
   "source": [
    "val_loss_plot =[]\n",
    "for i in range(1,len(models)+1) : \n",
    "  val_loss_plot.append(float(models[str(i)]) )\n",
    "\n",
    "plt.plot(val_loss_plot, label = 'val_loss')\n",
    "plt.xlabel('Epochs')\n",
    "plt.ylabel('Loss')\n",
    "plt.title('val_Loss Plot')\n",
    "plt.legend()\n",
    "plt.show()"
   ]
  },
  {
   "cell_type": "markdown",
   "metadata": {
    "id": "t0cqOJGesJkX"
   },
   "source": [
    "# 검증 시작"
   ]
  },
  {
   "cell_type": "code",
   "execution_count": null,
   "metadata": {
    "id": "coSfcR7aGvjB"
   },
   "outputs": [],
   "source": [
    "index_to_tar = {v:k for k, v in tar_to_index.items()}"
   ]
  },
  {
   "cell_type": "code",
   "execution_count": null,
   "metadata": {
    "id": "XmZpISZ-5-bM"
   },
   "outputs": [],
   "source": [
    "index_to_tar"
   ]
  },
  {
   "cell_type": "code",
   "execution_count": null,
   "metadata": {},
   "outputs": [],
   "source": [
    "# from tqdm import tqdm\n",
    "max_length = 72"
   ]
  },
  {
   "cell_type": "markdown",
   "metadata": {
    "id": "4X-0jO4jsQZd"
   },
   "source": [
    "### 추론 함수 정의"
   ]
  },
  {
   "cell_type": "code",
   "execution_count": null,
   "metadata": {
    "id": "OIo446mmNecz"
   },
   "outputs": [],
   "source": [
    "def val_predict(img_tensor, label):\n",
    "    hidden = decoder.reset_state(batch_size=img_tensor.shape[0])\n",
    "    dec_input = tf.expand_dims([tar_to_index['<']] * img_tensor.shape[0], 1)\n",
    "    features = encoder(img_tensor)\n",
    "    \n",
    "    result = []\n",
    "    labels = []\n",
    "    \n",
    "\n",
    "    for i in range(max_length):\n",
    "        predictions, hidden, _ = decoder(dec_input, features, hidden)\n",
    "        predictions = tf.math.argmax(predictions, axis=1).numpy()\n",
    "        result.append(predictions)\n",
    "        labels.append(label.numpy())\n",
    "        dec_input = tf.expand_dims(predictions, 1)\n",
    "\n",
    "    return np.array(result), label.numpy(), np.array(img_tensor.numpy())\n",
    "\n",
    "# 비교적 높은 확률들로 예측\n",
    "def val_predict_(img_tensor, label):\n",
    "    hidden = decoder.reset_state(batch_size=img_tensor.shape[0])\n",
    "    dec_input = tf.expand_dims([tar_to_index['<']] * img_tensor.shape[0], 1)\n",
    "    features = encoder(img_tensor)\n",
    "    \n",
    "    result = []\n",
    "    labels = []\n",
    "\n",
    "    \n",
    "    for i in range(max_length):\n",
    "        predictions, hidden, _ = decoder(dec_input, features, hidden)\n",
    "        predictions = tf.random.categorical(predictions, 1)[:, 0].numpy()\n",
    "        result.append(predictions)\n",
    "\n",
    "\n",
    "        dec_input = tf.expand_dims(predictions, 1)\n",
    "    \n",
    "    return np.array(result), label.numpy(), np.array(img_tensor.numpy())\n",
    "\n",
    "def map_func_pred(img_name):\n",
    "    img_tensor = np.load(img_name.decode('utf-8')+'.npy')\n",
    "    return img_tensor\n",
    "\n",
    "val_result = []\n",
    "val_labels = []\n",
    "imgs = []\n",
    "i=0\n",
    "for batch, label in tqdm(val_dataset):\n",
    "    \n",
    "    result, labels, img = val_predict(batch, label)\n",
    "\n",
    "    val_result.append(result.T)\n",
    "    val_labels.append(labels)\n",
    "    imgs.append(img)\n",
    "    i+=1\n",
    "    print(i)\n",
    "    if i == 2: # 메모리 부족으로 2개의 batch만 검증 진행\n",
    "      break\n",
    "\n",
    "val_result = np.vstack(val_result)\n",
    "\n",
    "val_labels = np.vstack(val_labels)\n",
    "\n",
    "imgs = np.vstack(imgs)"
   ]
  },
  {
   "cell_type": "code",
   "execution_count": null,
   "metadata": {
    "id": "lDWEOs_Zlclr"
   },
   "outputs": [],
   "source": [
    "print(val_result.shape, val_labels.shape, imgs.shape)"
   ]
  },
  {
   "cell_type": "markdown",
   "metadata": {
    "id": "OhzmcvlVsWnz"
   },
   "source": [
    "### 추론된 분자 구조가 preds 변수에 저장됩니다"
   ]
  },
  {
   "cell_type": "code",
   "execution_count": null,
   "metadata": {
    "id": "zPFmZPh9jn-V"
   },
   "outputs": [],
   "source": [
    "preds = []\n",
    "for rid in range(val_result.shape[0]):\n",
    "    pred = ''.join([index_to_tar[i] for i in val_result[rid]])\n",
    "    pred = pred.split('>')[0]\n",
    "    preds.append(pred)\n",
    "error_idx = []\n",
    "for i, pred in enumerate(preds):\n",
    "    m = Chem.MolFromSmiles(pred)\n",
    "    if m == None:\n",
    "        error_idx.append(i)\n",
    "error_idx = np.array(error_idx)\n",
    "error_idx_ = error_idx.copy()"
   ]
  },
  {
   "cell_type": "markdown",
   "metadata": {
    "id": "dgKN6MMEsoys"
   },
   "source": [
    "### 분자 구조가 알맞을 떄까지 지속적으로 추론을 시도합니다"
   ]
  },
  {
   "cell_type": "code",
   "execution_count": null,
   "metadata": {
    "id": "5Qr0PlgLNuLi"
   },
   "outputs": [],
   "source": [
    "from IPython.display import clear_output\n",
    "drop_error = []\n",
    "\n",
    "while True:\n",
    "    error_idx_dict = {}\n",
    "    for i, e in enumerate(error_idx_):\n",
    "        error_idx_dict[i] = e\n",
    "\n",
    "\n",
    "    new_imgs = imgs[error_idx_]\n",
    "    new_labels = val_labels[error_idx_]\n",
    "    orders = list(range(len(new_imgs)))\n",
    "\n",
    "    dataset_val_ = tf.data.Dataset.from_tensor_slices((new_imgs, new_labels, orders))\n",
    "    dataset_val_ = dataset_val_.cache()\n",
    "    #dataset_val_ = dataset_val_.map(lambda item1, item2: tf.numpy_function(map_func, [item1, item2], [tf.float32, tf.int32]), num_parallel_calls=tf.data.experimental.AUTOTUNE)\n",
    "    dataset_val_ = dataset_val_.batch(BATCH_SIZE*2)\n",
    "    dataset_val_ = dataset_val_.prefetch(buffer_size=tf.data.experimental.AUTOTUNE)\n",
    "\n",
    "    val_result_ = []\n",
    "\n",
    "\n",
    "    for i, (batch, label, order) in enumerate(dataset_val_):\n",
    "\n",
    "      val_pred, _, _ = val_predict_(batch, label)\n",
    "      val_result_.append(val_pred.T)\n",
    "\n",
    "\n",
    "    val_result_ = np.vstack(val_result_)\n",
    "\n",
    "\n",
    "    preds_ = []\n",
    "    for rid in range(val_result_.shape[0]):\n",
    "        pred = ''.join([index_to_tar[i] for i in val_result_[rid] if i not in [0]])\n",
    "        pred = pred.split('>')[0]\n",
    "        preds_.append(pred)\n",
    "\n",
    "    for i, pred in enumerate(preds_):\n",
    "        m = Chem.MolFromSmiles(pred)\n",
    "        if m != None:\n",
    "            preds[error_idx_dict[i]] = pred\n",
    "            drop_idx = np.where(error_idx==error_idx_dict[i])[0]\n",
    "            drop_error.append(drop_idx[0])\n",
    "    error_idx_ = np.delete(error_idx, drop_error)\n",
    "    clear_output(wait=True)\n",
    "    print(len(list(drop_error)), '/', error_idx.shape[0])\n",
    "    \n",
    "    if error_idx.shape[0]-len(list(drop_error)) < 10 :\n",
    "        break"
   ]
  },
  {
   "cell_type": "markdown",
   "metadata": {
    "id": "SKND1ChTsvNs"
   },
   "source": [
    "### 검정 데이터셋에 대한 accuracy 측정"
   ]
  },
  {
   "cell_type": "code",
   "execution_count": null,
   "metadata": {
    "id": "o8jCBfw_Nyuo"
   },
   "outputs": [],
   "source": [
    "count = 0\n",
    "answer = []\n",
    "for rid, pred in enumerate(preds):\n",
    "    true = ''.join([index_to_tar[i] for i in val_labels[rid] if i not in [0]])[1:-1]\n",
    "    answer.append(true)\n",
    "    if true == pred:\n",
    "        count+=1\n",
    "print('val_accuracy : ', count/val_labels.shape[0])"
   ]
  },
  {
   "cell_type": "markdown",
   "metadata": {
    "id": "LS-2OAfMsxom"
   },
   "source": [
    "### similarity 측정"
   ]
  },
  {
   "cell_type": "code",
   "execution_count": null,
   "metadata": {
    "id": "nxZhXCWYN1DE"
   },
   "outputs": [],
   "source": [
    "score = []\n",
    "for i, pred in enumerate(preds):\n",
    "    m1 = Chem.MolFromSmiles(answer[i])\n",
    "    m2 = Chem.MolFromSmiles(pred)\n",
    "    \n",
    "    if m2 != None:\n",
    "        fp1 = Chem.RDKFingerprint(m1)\n",
    "        fp2 = Chem.RDKFingerprint(m2)\n",
    "\n",
    "        similarity = DataStructs.FingerprintSimilarity(fp1,fp2)\n",
    "    else:\n",
    "        similarity = 0\n",
    "    score.append(similarity)\n",
    "    \n",
    "print('val_similarity :', np.mean(score))"
   ]
  },
  {
   "cell_type": "code",
   "execution_count": null,
   "metadata": {
    "id": "I7u6popj0DQp"
   },
   "outputs": [],
   "source": [
    "print('val_similarity :', np.mean(score))"
   ]
  },
  {
   "cell_type": "code",
   "execution_count": null,
   "metadata": {},
   "outputs": [],
   "source": []
  }
 ],
 "metadata": {
  "accelerator": "TPU",
  "colab": {
   "collapsed_sections": [],
   "machine_shape": "hm",
   "name": "제출용_2.모델 생성 및 학습 코드.ipynb",
   "provenance": []
  },
  "kernelspec": {
   "display_name": "Python 3",
   "language": "python",
   "name": "python3"
  },
  "language_info": {
   "codemirror_mode": {
    "name": "ipython",
    "version": 3
   },
   "file_extension": ".py",
   "mimetype": "text/x-python",
   "name": "python",
   "nbconvert_exporter": "python",
   "pygments_lexer": "ipython3",
   "version": "3.8.3"
  }
 },
 "nbformat": 4,
 "nbformat_minor": 1
}
