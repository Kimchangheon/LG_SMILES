{
 "cells": [
  {
   "cell_type": "code",
   "execution_count": 1,
   "metadata": {
    "executionInfo": {
     "elapsed": 877,
     "status": "ok",
     "timestamp": 1608163931829,
     "user": {
      "displayName": "김창헌",
      "photoUrl": "",
      "userId": "05733824982842229263"
     },
     "user_tz": -540
    },
    "id": "heuoVU6FV8es"
   },
   "outputs": [],
   "source": [
    "import glob"
   ]
  },
  {
   "cell_type": "code",
   "execution_count": 2,
   "metadata": {
    "executionInfo": {
     "elapsed": 1555,
     "status": "ok",
     "timestamp": 1608163932515,
     "user": {
      "displayName": "김창헌",
      "photoUrl": "",
      "userId": "05733824982842229263"
     },
     "user_tz": -540
    },
    "id": "3GzJb83mzxUN"
   },
   "outputs": [],
   "source": [
    "# !gsutil cp gs://smiles_all_under_70/result_csv/try1/*.csv gs://smiles_all_under_70/result_csv/try2/ "
   ]
  },
  {
   "cell_type": "code",
   "execution_count": 3,
   "metadata": {
    "colab": {
     "base_uri": "https://localhost:8080/"
    },
    "executionInfo": {
     "elapsed": 6293,
     "status": "ok",
     "timestamp": 1608163937282,
     "user": {
      "displayName": "김창헌",
      "photoUrl": "",
      "userId": "05733824982842229263"
     },
     "user_tz": -540
    },
    "id": "V-7-yLp6rKih",
    "outputId": "db723ba4-5633-4ddd-9e8d-30409fbf17d6"
   },
   "outputs": [
    {
     "name": "stdout",
     "output_type": "stream",
     "text": [
      "Copying gs://smiles_all_under_70/result_csv/try3/10_0.00370.csv...\n",
      "Copying gs://smiles_all_under_70/result_csv/try3/3_0.00357.csv...\n",
      "Copying gs://smiles_all_under_70/result_csv/try3/4_0.00547.csv...\n",
      "/ [3 files][  3.6 MiB/  3.6 MiB]                                                \n",
      "==> NOTE: You are performing a sequence of gsutil operations that may\n",
      "run significantly faster if you instead use gsutil -m cp ... Please\n",
      "see the -m section under \"gsutil help options\" for further information\n",
      "about when gsutil -m can be advantageous.\n",
      "\n",
      "Copying gs://smiles_all_under_70/result_csv/try3/5_0.00435.csv...\n",
      "Copying gs://smiles_all_under_70/result_csv/try3/6_0.00193.csv...\n",
      "Copying gs://smiles_all_under_70/result_csv/try3/7_0.00356.csv...\n",
      "Copying gs://smiles_all_under_70/result_csv/try3/8_0.00287.csv...\n",
      "Copying gs://smiles_all_under_70/result_csv/try3/9_0.00555.csv...\n",
      "Copying gs://smiles_all_under_70/result_csv/try3/re_0.00424.csv...\n",
      "Copying gs://smiles_all_under_70/result_csv/try3/앙상블_3_0027_2, 37,28.csv...\n",
      "\\ [10 files][ 11.9 MiB/ 11.9 MiB]                                               \n",
      "Operation completed over 10 objects/11.9 MiB.                                    \n"
     ]
    }
   ],
   "source": [
    "# !gsutil cp -r gs://smiles_all_under_70/result_csv/try_maxlength_100 ./\n",
    "!gsutil cp -r gs://smiles_all_under_70/result_csv/try3 ./"
   ]
  },
  {
   "cell_type": "code",
   "execution_count": 4,
   "metadata": {
    "executionInfo": {
     "elapsed": 6290,
     "status": "ok",
     "timestamp": 1608163937283,
     "user": {
      "displayName": "김창헌",
      "photoUrl": "",
      "userId": "05733824982842229263"
     },
     "user_tz": -540
    },
    "id": "VaqI_CbcWfTq"
   },
   "outputs": [],
   "source": [
    "sb_list = glob.glob(\"./try3/*\")"
   ]
  },
  {
   "cell_type": "code",
   "execution_count": 5,
   "metadata": {
    "colab": {
     "base_uri": "https://localhost:8080/"
    },
    "executionInfo": {
     "elapsed": 6277,
     "status": "ok",
     "timestamp": 1608163937286,
     "user": {
      "displayName": "김창헌",
      "photoUrl": "",
      "userId": "05733824982842229263"
     },
     "user_tz": -540
    },
    "id": "ZndkhHAYPSMy",
    "outputId": "5c03108f-393a-48aa-9d3f-b5ef7aa5cf54"
   },
   "outputs": [
    {
     "data": {
      "text/plain": [
       "['./try3/8_0.00287.csv',\n",
       " './try3/6_0.00193.csv',\n",
       " './try3/4_0.00547.csv',\n",
       " './try3/9_0.00555.csv',\n",
       " './try3/10_0.00370.csv',\n",
       " './try3/3_0.00357.csv',\n",
       " './try3/앙상블_3_0027_2, 37,28.csv',\n",
       " './try3/7_0.00356.csv',\n",
       " './try3/re_0.00424.csv',\n",
       " './try3/5_0.00435.csv']"
      ]
     },
     "execution_count": 5,
     "metadata": {
      "tags": []
     },
     "output_type": "execute_result"
    }
   ],
   "source": [
    "sb_list"
   ]
  },
  {
   "cell_type": "code",
   "execution_count": 6,
   "metadata": {
    "executionInfo": {
     "elapsed": 6275,
     "status": "ok",
     "timestamp": 1608163937288,
     "user": {
      "displayName": "김창헌",
      "photoUrl": "",
      "userId": "05733824982842229263"
     },
     "user_tz": -540
    },
    "id": "R20MzKF9Wgol"
   },
   "outputs": [],
   "source": [
    "import pandas as pd\n",
    "\n",
    "sb0 = pd.read_csv(sb_list[0])\n",
    "sb1 = pd.read_csv(sb_list[1])\n",
    "sb2 = pd.read_csv(sb_list[2])\n",
    "sb3 = pd.read_csv(sb_list[3])\n",
    "sb4 = pd.read_csv(sb_list[4])\n",
    "sb5 = pd.read_csv(sb_list[5])\n",
    "sb6 = pd.read_csv(sb_list[6])\n",
    "sb7 = pd.read_csv(sb_list[7])\n",
    "sb8 = pd.read_csv(sb_list[8])\n",
    "sb9 = pd.read_csv(sb_list[9])"
   ]
  },
  {
   "cell_type": "code",
   "execution_count": 7,
   "metadata": {
    "colab": {
     "base_uri": "https://localhost:8080/",
     "height": 488
    },
    "executionInfo": {
     "elapsed": 6266,
     "status": "ok",
     "timestamp": 1608163937292,
     "user": {
      "displayName": "김창헌",
      "photoUrl": "",
      "userId": "05733824982842229263"
     },
     "user_tz": -540
    },
    "id": "H5AMz4j6XEDb",
    "outputId": "991a541d-ac30-48a4-bbd2-697f604477fe"
   },
   "outputs": [
    {
     "data": {
      "text/html": [
       "<div>\n",
       "<style scoped>\n",
       "    .dataframe tbody tr th:only-of-type {\n",
       "        vertical-align: middle;\n",
       "    }\n",
       "\n",
       "    .dataframe tbody tr th {\n",
       "        vertical-align: top;\n",
       "    }\n",
       "\n",
       "    .dataframe thead th {\n",
       "        text-align: right;\n",
       "    }\n",
       "</style>\n",
       "<table border=\"1\" class=\"dataframe\">\n",
       "  <thead>\n",
       "    <tr style=\"text-align: right;\">\n",
       "      <th></th>\n",
       "      <th>file_name</th>\n",
       "      <th>SMILES</th>\n",
       "    </tr>\n",
       "  </thead>\n",
       "  <tbody>\n",
       "    <tr>\n",
       "      <th>0</th>\n",
       "      <td>test_0.png</td>\n",
       "      <td>COC1=CC(=CC=C1/C=C/2\\C(=O)NC(=O)N(C2=O)C3CCCCC...</td>\n",
       "    </tr>\n",
       "    <tr>\n",
       "      <th>1</th>\n",
       "      <td>test_1.png</td>\n",
       "      <td>CC(=NN=C1C2=C(C=C(C=C2)Cl)NC1=O)C3=CC4=CC=CC=C...</td>\n",
       "    </tr>\n",
       "    <tr>\n",
       "      <th>2</th>\n",
       "      <td>test_2.png</td>\n",
       "      <td>CC1CN(CC(O1)C)CC2=CC=CC=C2NC(=O)NCC(C)(C)C(=O)N</td>\n",
       "    </tr>\n",
       "    <tr>\n",
       "      <th>3</th>\n",
       "      <td>test_3.png</td>\n",
       "      <td>CC1=CC=CC2=C(C(=CN=C12)C#N)NCCC3=NN=C4N3C=CC=C4</td>\n",
       "    </tr>\n",
       "    <tr>\n",
       "      <th>4</th>\n",
       "      <td>test_4.png</td>\n",
       "      <td>CN(C)C(C1=CC=C(C=C1)F)C(=O)NCC2=NOC(=C2)C3=CC(...</td>\n",
       "    </tr>\n",
       "    <tr>\n",
       "      <th>...</th>\n",
       "      <td>...</td>\n",
       "      <td>...</td>\n",
       "    </tr>\n",
       "    <tr>\n",
       "      <th>19995</th>\n",
       "      <td>test_20029.png</td>\n",
       "      <td>C=CCOC1=C(C=C(C=C1)Br)C=NC2=CC=CC=C2</td>\n",
       "    </tr>\n",
       "    <tr>\n",
       "      <th>19996</th>\n",
       "      <td>test_20030.png</td>\n",
       "      <td>CC1=CN=C(S1)CNC(=O)NCCC(C2=CC=CC=C2)O</td>\n",
       "    </tr>\n",
       "    <tr>\n",
       "      <th>19997</th>\n",
       "      <td>test_20031.png</td>\n",
       "      <td>CN1C2CN(CC2OC3=C(C1=O)C=CC(=C3)F)C4CCC4</td>\n",
       "    </tr>\n",
       "    <tr>\n",
       "      <th>19998</th>\n",
       "      <td>test_20032.png</td>\n",
       "      <td>C1CC1(C2=NOC(=C2)C3=CC=CS3)C(=O)NCCCN4CCOCC4</td>\n",
       "    </tr>\n",
       "    <tr>\n",
       "      <th>19999</th>\n",
       "      <td>test_20033.png</td>\n",
       "      <td>C1CC1NC(=O)CC2=CC=C(C=C2)NC(=O)C3=C(N4C=CC=CC4...</td>\n",
       "    </tr>\n",
       "  </tbody>\n",
       "</table>\n",
       "<p>20000 rows × 2 columns</p>\n",
       "</div>"
      ],
      "text/plain": [
       "            file_name                                             SMILES\n",
       "0          test_0.png  COC1=CC(=CC=C1/C=C/2\\C(=O)NC(=O)N(C2=O)C3CCCCC...\n",
       "1          test_1.png  CC(=NN=C1C2=C(C=C(C=C2)Cl)NC1=O)C3=CC4=CC=CC=C...\n",
       "2          test_2.png    CC1CN(CC(O1)C)CC2=CC=CC=C2NC(=O)NCC(C)(C)C(=O)N\n",
       "3          test_3.png    CC1=CC=CC2=C(C(=CN=C12)C#N)NCCC3=NN=C4N3C=CC=C4\n",
       "4          test_4.png  CN(C)C(C1=CC=C(C=C1)F)C(=O)NCC2=NOC(=C2)C3=CC(...\n",
       "...               ...                                                ...\n",
       "19995  test_20029.png               C=CCOC1=C(C=C(C=C1)Br)C=NC2=CC=CC=C2\n",
       "19996  test_20030.png              CC1=CN=C(S1)CNC(=O)NCCC(C2=CC=CC=C2)O\n",
       "19997  test_20031.png            CN1C2CN(CC2OC3=C(C1=O)C=CC(=C3)F)C4CCC4\n",
       "19998  test_20032.png       C1CC1(C2=NOC(=C2)C3=CC=CS3)C(=O)NCCCN4CCOCC4\n",
       "19999  test_20033.png  C1CC1NC(=O)CC2=CC=C(C=C2)NC(=O)C3=C(N4C=CC=CC4...\n",
       "\n",
       "[20000 rows x 2 columns]"
      ]
     },
     "execution_count": 7,
     "metadata": {
      "tags": []
     },
     "output_type": "execute_result"
    }
   ],
   "source": [
    "sb1"
   ]
  },
  {
   "cell_type": "code",
   "execution_count": 8,
   "metadata": {
    "colab": {
     "base_uri": "https://localhost:8080/",
     "height": 488
    },
    "executionInfo": {
     "elapsed": 6256,
     "status": "ok",
     "timestamp": 1608163937294,
     "user": {
      "displayName": "김창헌",
      "photoUrl": "",
      "userId": "05733824982842229263"
     },
     "user_tz": -540
    },
    "id": "4bJRpzsKuFmy",
    "outputId": "ee513374-5bd7-4224-b5cd-179c581927f0"
   },
   "outputs": [
    {
     "data": {
      "text/html": [
       "<div>\n",
       "<style scoped>\n",
       "    .dataframe tbody tr th:only-of-type {\n",
       "        vertical-align: middle;\n",
       "    }\n",
       "\n",
       "    .dataframe tbody tr th {\n",
       "        vertical-align: top;\n",
       "    }\n",
       "\n",
       "    .dataframe thead th {\n",
       "        text-align: right;\n",
       "    }\n",
       "</style>\n",
       "<table border=\"1\" class=\"dataframe\">\n",
       "  <thead>\n",
       "    <tr style=\"text-align: right;\">\n",
       "      <th></th>\n",
       "      <th>file_name</th>\n",
       "      <th>SMILES</th>\n",
       "    </tr>\n",
       "  </thead>\n",
       "  <tbody>\n",
       "    <tr>\n",
       "      <th>0</th>\n",
       "      <td>test_0.png</td>\n",
       "      <td>COC1=CC(=CC(=C1)/C=C/2\\C(=O)NC(=O)N(C2=O)C3CCC...</td>\n",
       "    </tr>\n",
       "    <tr>\n",
       "      <th>1</th>\n",
       "      <td>test_1.png</td>\n",
       "      <td>CC(=NN=C1C2=C(C=C(C=C2)Cl)NC1=O)C3=CC4=CC=CC=C...</td>\n",
       "    </tr>\n",
       "    <tr>\n",
       "      <th>2</th>\n",
       "      <td>test_2.png</td>\n",
       "      <td>CC1CN(CC(O1)C)CC2=CC=CC=C2NC(=O)NCC(C)(C)C(=O)N</td>\n",
       "    </tr>\n",
       "    <tr>\n",
       "      <th>3</th>\n",
       "      <td>test_3.png</td>\n",
       "      <td>CC1=CC=CC2=C(C(=CN=C12)C#N)NCCC3=NN=C4N3C=CC=C4</td>\n",
       "    </tr>\n",
       "    <tr>\n",
       "      <th>4</th>\n",
       "      <td>test_4.png</td>\n",
       "      <td>CN(C)C(C1=CC=C(C=C1)F)C(=O)NCC2=NOC(=C2)C3=CC(...</td>\n",
       "    </tr>\n",
       "    <tr>\n",
       "      <th>...</th>\n",
       "      <td>...</td>\n",
       "      <td>...</td>\n",
       "    </tr>\n",
       "    <tr>\n",
       "      <th>19995</th>\n",
       "      <td>test_20029.png</td>\n",
       "      <td>C=CCOC1=C(C=C(C=C1)Br)C=NC2=CC=CC=C2</td>\n",
       "    </tr>\n",
       "    <tr>\n",
       "      <th>19996</th>\n",
       "      <td>test_20030.png</td>\n",
       "      <td>CC1=CN=C(S1)CNC(=O)NCCC(C2=CC=CC=C2)O</td>\n",
       "    </tr>\n",
       "    <tr>\n",
       "      <th>19997</th>\n",
       "      <td>test_20031.png</td>\n",
       "      <td>CN1C2CN(CC2OC3=C(C1=O)C=CC(=C3)F)C4CCC4</td>\n",
       "    </tr>\n",
       "    <tr>\n",
       "      <th>19998</th>\n",
       "      <td>test_20032.png</td>\n",
       "      <td>C1CC1(C2=NOC(=C2)C3=CC=CS3)C(=O)NCCCN4CCOCC4</td>\n",
       "    </tr>\n",
       "    <tr>\n",
       "      <th>19999</th>\n",
       "      <td>test_20033.png</td>\n",
       "      <td>C1CC1NC(=O)CC2=CC=C(C=C2)NC(=O)C3=C(N4C=CC=CC4...</td>\n",
       "    </tr>\n",
       "  </tbody>\n",
       "</table>\n",
       "<p>20000 rows × 2 columns</p>\n",
       "</div>"
      ],
      "text/plain": [
       "            file_name                                             SMILES\n",
       "0          test_0.png  COC1=CC(=CC(=C1)/C=C/2\\C(=O)NC(=O)N(C2=O)C3CCC...\n",
       "1          test_1.png  CC(=NN=C1C2=C(C=C(C=C2)Cl)NC1=O)C3=CC4=CC=CC=C...\n",
       "2          test_2.png    CC1CN(CC(O1)C)CC2=CC=CC=C2NC(=O)NCC(C)(C)C(=O)N\n",
       "3          test_3.png    CC1=CC=CC2=C(C(=CN=C12)C#N)NCCC3=NN=C4N3C=CC=C4\n",
       "4          test_4.png  CN(C)C(C1=CC=C(C=C1)F)C(=O)NCC2=NOC(=C2)C3=CC(...\n",
       "...               ...                                                ...\n",
       "19995  test_20029.png               C=CCOC1=C(C=C(C=C1)Br)C=NC2=CC=CC=C2\n",
       "19996  test_20030.png              CC1=CN=C(S1)CNC(=O)NCCC(C2=CC=CC=C2)O\n",
       "19997  test_20031.png            CN1C2CN(CC2OC3=C(C1=O)C=CC(=C3)F)C4CCC4\n",
       "19998  test_20032.png       C1CC1(C2=NOC(=C2)C3=CC=CS3)C(=O)NCCCN4CCOCC4\n",
       "19999  test_20033.png  C1CC1NC(=O)CC2=CC=C(C=C2)NC(=O)C3=C(N4C=CC=CC4...\n",
       "\n",
       "[20000 rows x 2 columns]"
      ]
     },
     "execution_count": 8,
     "metadata": {
      "tags": []
     },
     "output_type": "execute_result"
    }
   ],
   "source": [
    "sb5"
   ]
  },
  {
   "cell_type": "code",
   "execution_count": 9,
   "metadata": {
    "colab": {
     "base_uri": "https://localhost:8080/"
    },
    "executionInfo": {
     "elapsed": 12446,
     "status": "ok",
     "timestamp": 1608163943495,
     "user": {
      "displayName": "김창헌",
      "photoUrl": "",
      "userId": "05733824982842229263"
     },
     "user_tz": -540
    },
    "id": "GCjP4FfAXQu-",
    "outputId": "ff1a1829-0629-4a86-8a78-fa746c2935ed"
   },
   "outputs": [
    {
     "name": "stdout",
     "output_type": "stream",
     "text": [
      "\u001b[?25l\r",
      "\u001b[K     |█████▉                          | 10kB 18.8MB/s eta 0:00:01\r",
      "\u001b[K     |███████████▊                    | 20kB 20.0MB/s eta 0:00:01\r",
      "\u001b[K     |█████████████████▋              | 30kB 11.1MB/s eta 0:00:01\r",
      "\u001b[K     |███████████████████████▍        | 40kB 8.7MB/s eta 0:00:01\r",
      "\u001b[K     |█████████████████████████████▎  | 51kB 4.5MB/s eta 0:00:01\r",
      "\u001b[K     |████████████████████████████████| 61kB 3.4MB/s \n",
      "\u001b[?25h\u001b[?25l\r",
      "\u001b[K     |██████▎                         | 10kB 20.5MB/s eta 0:00:01\r",
      "\u001b[K     |████████████▋                   | 20kB 26.8MB/s eta 0:00:01\r",
      "\u001b[K     |███████████████████             | 30kB 30.7MB/s eta 0:00:01\r",
      "\u001b[K     |█████████████████████████▎      | 40kB 34.2MB/s eta 0:00:01\r",
      "\u001b[K     |███████████████████████████████▋| 51kB 29.6MB/s eta 0:00:01\r",
      "\u001b[K     |████████████████████████████████| 61kB 7.5MB/s \n",
      "\u001b[?25h"
     ]
    }
   ],
   "source": [
    "# rdkit 2020.03.3 버전 다운로드\n",
    "!pip install kora -q\n",
    "import kora.install.rdkit\n",
    "from rdkit import Chem\n",
    "from rdkit.Chem import DataStructs\n",
    "from rdkit.Chem import AllChem\n",
    "from rdkit.Chem import RDConfig\n",
    "from rdkit import RDLogger\n",
    "from rdkit import rdBase\n",
    "from rdkit.Chem.Draw import IPythonConsole\n",
    "RDLogger.DisableLog('rdApp.*')  "
   ]
  },
  {
   "cell_type": "code",
   "execution_count": 10,
   "metadata": {
    "executionInfo": {
     "elapsed": 12461,
     "status": "ok",
     "timestamp": 1608163943516,
     "user": {
      "displayName": "김창헌",
      "photoUrl": "",
      "userId": "05733824982842229263"
     },
     "user_tz": -540
    },
    "id": "5zRj6c2sftAm"
   },
   "outputs": [],
   "source": [
    "# make a dictionary\n",
    "\n",
    "pgm_lang = {\n",
    "\n",
    "    \"java\": 20, \n",
    "\n",
    "    \"javascript\": 8, \n",
    "\n",
    "    \"c\": 7,  \n",
    "\n",
    "    \"r\": 4, \n",
    "\n",
    "    \"python\": 28 } \n"
   ]
  },
  {
   "cell_type": "code",
   "execution_count": 11,
   "metadata": {
    "executionInfo": {
     "elapsed": 12458,
     "status": "ok",
     "timestamp": 1608163943517,
     "user": {
      "displayName": "김창헌",
      "photoUrl": "",
      "userId": "05733824982842229263"
     },
     "user_tz": -540
    },
    "id": "jbXV1HYUfuTf"
   },
   "outputs": [],
   "source": [
    "pgm_lang_val_reverse = sorted(pgm_lang.items(), reverse=True, key=lambda item: item[1])"
   ]
  },
  {
   "cell_type": "code",
   "execution_count": 12,
   "metadata": {
    "colab": {
     "base_uri": "https://localhost:8080/"
    },
    "executionInfo": {
     "elapsed": 12450,
     "status": "ok",
     "timestamp": 1608163943518,
     "user": {
      "displayName": "김창헌",
      "photoUrl": "",
      "userId": "05733824982842229263"
     },
     "user_tz": -540
    },
    "id": "MVX6g2kmgHQm",
    "outputId": "4d782e1b-b2e0-44a9-9f34-f57db0c07d34"
   },
   "outputs": [
    {
     "data": {
      "text/plain": [
       "[('python', 28), ('java', 20), ('javascript', 8), ('c', 7), ('r', 4)]"
      ]
     },
     "execution_count": 12,
     "metadata": {
      "tags": []
     },
     "output_type": "execute_result"
    }
   ],
   "source": [
    "pgm_lang_val_reverse"
   ]
  },
  {
   "cell_type": "code",
   "execution_count": 13,
   "metadata": {
    "colab": {
     "base_uri": "https://localhost:8080/"
    },
    "executionInfo": {
     "elapsed": 12439,
     "status": "ok",
     "timestamp": 1608163943519,
     "user": {
      "displayName": "김창헌",
      "photoUrl": "",
      "userId": "05733824982842229263"
     },
     "user_tz": -540
    },
    "id": "8h-XttSTgU-D",
    "outputId": "faba5eb1-4667-4b9d-9521-984732963af3"
   },
   "outputs": [
    {
     "data": {
      "text/plain": [
       "('python', 28)"
      ]
     },
     "execution_count": 13,
     "metadata": {
      "tags": []
     },
     "output_type": "execute_result"
    }
   ],
   "source": [
    "pgm_lang_val_reverse[0]"
   ]
  },
  {
   "cell_type": "code",
   "execution_count": 14,
   "metadata": {
    "colab": {
     "base_uri": "https://localhost:8080/"
    },
    "executionInfo": {
     "elapsed": 12429,
     "status": "ok",
     "timestamp": 1608163943521,
     "user": {
      "displayName": "김창헌",
      "photoUrl": "",
      "userId": "05733824982842229263"
     },
     "user_tz": -540
    },
    "id": "g2o-CMcbgsLW",
    "outputId": "cbe39b24-c79f-422a-ee9d-d525b8e992db"
   },
   "outputs": [
    {
     "data": {
      "text/plain": [
       "1"
      ]
     },
     "execution_count": 14,
     "metadata": {
      "tags": []
     },
     "output_type": "execute_result"
    }
   ],
   "source": [
    "'s12'.find(str(1))"
   ]
  },
  {
   "cell_type": "code",
   "execution_count": 15,
   "metadata": {
    "executionInfo": {
     "elapsed": 12427,
     "status": "ok",
     "timestamp": 1608163943522,
     "user": {
      "displayName": "김창헌",
      "photoUrl": "",
      "userId": "05733824982842229263"
     },
     "user_tz": -540
    },
    "id": "QDlCv4Yz4UD0"
   },
   "outputs": [],
   "source": [
    "score_dic = {'1' : 0, '2' : 0, '3' : 0}"
   ]
  },
  {
   "cell_type": "code",
   "execution_count": 16,
   "metadata": {
    "executionInfo": {
     "elapsed": 12425,
     "status": "ok",
     "timestamp": 1608163943523,
     "user": {
      "displayName": "김창헌",
      "photoUrl": "",
      "userId": "05733824982842229263"
     },
     "user_tz": -540
    },
    "id": "8vM8w21l4WKh"
   },
   "outputs": [],
   "source": [
    "score_dic['1'] = 1"
   ]
  },
  {
   "cell_type": "code",
   "execution_count": 17,
   "metadata": {
    "colab": {
     "base_uri": "https://localhost:8080/"
    },
    "executionInfo": {
     "elapsed": 12413,
     "status": "ok",
     "timestamp": 1608163943524,
     "user": {
      "displayName": "김창헌",
      "photoUrl": "",
      "userId": "05733824982842229263"
     },
     "user_tz": -540
    },
    "id": "ZEZRzyjB4drX",
    "outputId": "75b5a13a-9ce7-4fc7-9812-a8295efe5ad1"
   },
   "outputs": [
    {
     "data": {
      "text/plain": [
       "{'1': 1, '2': 0, '3': 0}"
      ]
     },
     "execution_count": 17,
     "metadata": {
      "tags": []
     },
     "output_type": "execute_result"
    }
   ],
   "source": [
    "score_dic"
   ]
  },
  {
   "cell_type": "code",
   "execution_count": 18,
   "metadata": {
    "colab": {
     "base_uri": "https://localhost:8080/"
    },
    "executionInfo": {
     "elapsed": 12403,
     "status": "ok",
     "timestamp": 1608163943526,
     "user": {
      "displayName": "김창헌",
      "photoUrl": "",
      "userId": "05733824982842229263"
     },
     "user_tz": -540
    },
    "id": "fUbuAUBMhF4n",
    "outputId": "287f3e71-ceda-4d9c-8150-ea609df992b8"
   },
   "outputs": [
    {
     "name": "stdout",
     "output_type": "stream",
     "text": [
      "['s', '1', '2']\n",
      "['s', '2', '3']\n"
     ]
    }
   ],
   "source": [
    "s_1_2 = 1\n",
    "s_1_3 = 0.7\n",
    "s_2_3 = 0.8\n",
    "s_dic = {'s_1_2' : s_1_2, 's_1_3': s_1_3 , 's_2_3': s_2_3}\n",
    "sorted_s_dic = sorted(s_dic.items(), reverse=True,  key=lambda item: item[1])\n",
    "print(sorted_s_dic[0][0].split('_'))\n",
    "print(sorted_s_dic[1][0].split('_'))"
   ]
  },
  {
   "cell_type": "code",
   "execution_count": 19,
   "metadata": {
    "colab": {
     "base_uri": "https://localhost:8080/"
    },
    "executionInfo": {
     "elapsed": 12392,
     "status": "ok",
     "timestamp": 1608163943527,
     "user": {
      "displayName": "김창헌",
      "photoUrl": "",
      "userId": "05733824982842229263"
     },
     "user_tz": -540
    },
    "id": "mT51svu93ozB",
    "outputId": "e81893b1-2dcf-443d-cfee-48a3979895a1"
   },
   "outputs": [
    {
     "data": {
      "text/plain": [
       "['1', '2']"
      ]
     },
     "execution_count": 19,
     "metadata": {
      "tags": []
     },
     "output_type": "execute_result"
    }
   ],
   "source": [
    "sorted_s_dic[0][0].split('_')[1:]"
   ]
  },
  {
   "cell_type": "code",
   "execution_count": 20,
   "metadata": {
    "colab": {
     "base_uri": "https://localhost:8080/"
    },
    "executionInfo": {
     "elapsed": 12378,
     "status": "ok",
     "timestamp": 1608163943528,
     "user": {
      "displayName": "김창헌",
      "photoUrl": "",
      "userId": "05733824982842229263"
     },
     "user_tz": -540
    },
    "id": "GJL1BGZVhb1q",
    "outputId": "080999ea-ee39-450c-d9dc-32d2d3f4735c"
   },
   "outputs": [
    {
     "data": {
      "text/plain": [
       "['s', '1', '2', 's', '2', '3']"
      ]
     },
     "execution_count": 20,
     "metadata": {
      "tags": []
     },
     "output_type": "execute_result"
    }
   ],
   "source": [
    "sorted_s_dic[0][0].split('_') + sorted_s_dic[1][0].split('_')"
   ]
  },
  {
   "cell_type": "code",
   "execution_count": 21,
   "metadata": {
    "executionInfo": {
     "elapsed": 12375,
     "status": "ok",
     "timestamp": 1608163943529,
     "user": {
      "displayName": "김창헌",
      "photoUrl": "",
      "userId": "05733824982842229263"
     },
     "user_tz": -540
    },
    "id": "LkwdvgF-iaYq"
   },
   "outputs": [],
   "source": [
    "# count_all_list_element(sorted_s_dic[0][0].split('_') + sorted_s_dic[1][0].split('_'))"
   ]
  },
  {
   "cell_type": "code",
   "execution_count": 22,
   "metadata": {
    "executionInfo": {
     "elapsed": 12372,
     "status": "ok",
     "timestamp": 1608163943530,
     "user": {
      "displayName": "김창헌",
      "photoUrl": "",
      "userId": "05733824982842229263"
     },
     "user_tz": -540
    },
    "id": "8DH4WFZpjCzP"
   },
   "outputs": [],
   "source": [
    "# count_dic = count_all_list_element( sorted_s_dic[0][0].split('_') + sorted_s_dic[1][0].split('_')  )\n"
   ]
  },
  {
   "cell_type": "code",
   "execution_count": 23,
   "metadata": {
    "executionInfo": {
     "elapsed": 12370,
     "status": "ok",
     "timestamp": 1608163943531,
     "user": {
      "displayName": "김창헌",
      "photoUrl": "",
      "userId": "05733824982842229263"
     },
     "user_tz": -540
    },
    "id": "ha7uUcf4jEGF"
   },
   "outputs": [],
   "source": [
    "# count_dic"
   ]
  },
  {
   "cell_type": "code",
   "execution_count": 24,
   "metadata": {
    "executionInfo": {
     "elapsed": 12368,
     "status": "ok",
     "timestamp": 1608163943532,
     "user": {
      "displayName": "김창헌",
      "photoUrl": "",
      "userId": "05733824982842229263"
     },
     "user_tz": -540
    },
    "id": "QOGTxm3ojHAz"
   },
   "outputs": [],
   "source": [
    "# sorted_count_dic = sorted(count_dic.items(), reverse=True,  key=lambda item: item[1])\n",
    "# picked_number = sorted_count_dic[0][0]\n",
    "# picked_number"
   ]
  },
  {
   "cell_type": "code",
   "execution_count": 25,
   "metadata": {
    "executionInfo": {
     "elapsed": 12367,
     "status": "ok",
     "timestamp": 1608163943533,
     "user": {
      "displayName": "김창헌",
      "photoUrl": "",
      "userId": "05733824982842229263"
     },
     "user_tz": -540
    },
    "id": "M3gBaQMDhgc4"
   },
   "outputs": [],
   "source": [
    "def count_all_list_element(list_example) : \n",
    "  remove_overlap = list(set(list_example))\n",
    "\n",
    "  dic = {}\n",
    "\n",
    "  for list_name in remove_overlap:\n",
    "      dic[list_name] = 0\n",
    "\n",
    "  for list_count in list_example:\n",
    "      dic[list_count] = dic[list_count] + 1\n",
    "  return dic"
   ]
  },
  {
   "cell_type": "code",
   "execution_count": 26,
   "metadata": {
    "colab": {
     "base_uri": "https://localhost:8080/"
    },
    "executionInfo": {
     "elapsed": 12353,
     "status": "ok",
     "timestamp": 1608163943534,
     "user": {
      "displayName": "김창헌",
      "photoUrl": "",
      "userId": "05733824982842229263"
     },
     "user_tz": -540
    },
    "id": "jES0UwiwsgBi",
    "outputId": "e12b52a3-6417-4665-a87c-edbfaa162025"
   },
   "outputs": [
    {
     "name": "stdout",
     "output_type": "stream",
     "text": [
      "[('m1', 'm2'), ('m1', 'm3'), ('m1', 'm4'), ('m1', 'm5'), ('m1', 'm6'), ('m2', 'm3'), ('m2', 'm4'), ('m2', 'm5'), ('m2', 'm6'), ('m3', 'm4'), ('m3', 'm5'), ('m3', 'm6'), ('m4', 'm5'), ('m4', 'm6'), ('m5', 'm6')]\n"
     ]
    },
    {
     "data": {
      "text/plain": [
       "15"
      ]
     },
     "execution_count": 26,
     "metadata": {
      "tags": []
     },
     "output_type": "execute_result"
    }
   ],
   "source": [
    "from itertools import combinations\n",
    "item = ['m1','m2','m3','m4','m5','m6']\n",
    "print(list(combinations(item,2)))\n",
    "len(list(combinations(item,2)))"
   ]
  },
  {
   "cell_type": "code",
   "execution_count": 27,
   "metadata": {
    "colab": {
     "base_uri": "https://localhost:8080/"
    },
    "executionInfo": {
     "elapsed": 13207,
     "status": "ok",
     "timestamp": 1608163944402,
     "user": {
      "displayName": "김창헌",
      "photoUrl": "",
      "userId": "05733824982842229263"
     },
     "user_tz": -540
    },
    "id": "fMN8WBD3uGBP",
    "outputId": "fd16bdfb-424a-4707-8199-9e1eb9a88387"
   },
   "outputs": [
    {
     "name": "stdout",
     "output_type": "stream",
     "text": [
      "[(0, 1), (0, 2), (0, 3), (0, 4), (0, 5), (0, 6), (0, 7), (0, 8), (0, 9), (1, 2), (1, 3), (1, 4), (1, 5), (1, 6), (1, 7), (1, 8), (1, 9), (2, 3), (2, 4), (2, 5), (2, 6), (2, 7), (2, 8), (2, 9), (3, 4), (3, 5), (3, 6), (3, 7), (3, 8), (3, 9), (4, 5), (4, 6), (4, 7), (4, 8), (4, 9), (5, 6), (5, 7), (5, 8), (5, 9), (6, 7), (6, 8), (6, 9), (7, 8), (7, 9), (8, 9)]\n"
     ]
    },
    {
     "data": {
      "text/plain": [
       "45"
      ]
     },
     "execution_count": 27,
     "metadata": {
      "tags": []
     },
     "output_type": "execute_result"
    }
   ],
   "source": [
    "from itertools import combinations\n",
    "item = [0,1,2,3,4,5,6,7,8,9]\n",
    "print(list(combinations(item,2)))\n",
    "len(list(combinations(item,2)))"
   ]
  },
  {
   "cell_type": "code",
   "execution_count": 28,
   "metadata": {
    "colab": {
     "base_uri": "https://localhost:8080/"
    },
    "executionInfo": {
     "elapsed": 13197,
     "status": "ok",
     "timestamp": 1608163944404,
     "user": {
      "displayName": "김창헌",
      "photoUrl": "",
      "userId": "05733824982842229263"
     },
     "user_tz": -540
    },
    "id": "xwcdR1QduMZj",
    "outputId": "89182efe-0b49-433d-d8e7-ca6119865018"
   },
   "outputs": [
    {
     "name": "stdout",
     "output_type": "stream",
     "text": [
      "['s_0_1', 's_0_2', 's_0_3', 's_0_4', 's_0_5', 's_0_6', 's_0_7', 's_0_8', 's_0_9', 's_1_2', 's_1_3', 's_1_4', 's_1_5', 's_1_6', 's_1_7', 's_1_8', 's_1_9', 's_2_3', 's_2_4', 's_2_5', 's_2_6', 's_2_7', 's_2_8', 's_2_9', 's_3_4', 's_3_5', 's_3_6', 's_3_7', 's_3_8', 's_3_9', 's_4_5', 's_4_6', 's_4_7', 's_4_8', 's_4_9', 's_5_6', 's_5_7', 's_5_8', 's_5_9', 's_6_7', 's_6_8', 's_6_9', 's_7_8', 's_7_9', 's_8_9']\n"
     ]
    }
   ],
   "source": [
    "sim_name_list =[]\n",
    "for pair in list(combinations(item,2)) : \n",
    "  sim_name_list.append('s_'+str(pair[0])+'_'+ str(pair[1]) )\n",
    "print(sim_name_list)"
   ]
  },
  {
   "cell_type": "code",
   "execution_count": 29,
   "metadata": {
    "colab": {
     "base_uri": "https://localhost:8080/"
    },
    "executionInfo": {
     "elapsed": 13189,
     "status": "ok",
     "timestamp": 1608163944405,
     "user": {
      "displayName": "김창헌",
      "photoUrl": "",
      "userId": "05733824982842229263"
     },
     "user_tz": -540
    },
    "id": "9g_jGdOpunnt",
    "outputId": "8b393e86-cc7c-440f-fee9-2aad39508882"
   },
   "outputs": [
    {
     "name": "stdout",
     "output_type": "stream",
     "text": [
      "s_0_1 == 1.0 and s_0_2 == 1.0 and s_0_3 == 1.0 and s_0_4 == 1.0 and s_0_5 == 1.0 and s_0_6 == 1.0 and s_0_7 == 1.0 and s_0_8 == 1.0 and s_0_9 == 1.0 and s_1_2 == 1.0 and s_1_3 == 1.0 and s_1_4 == 1.0 and s_1_5 == 1.0 and s_1_6 == 1.0 and s_1_7 == 1.0 and s_1_8 == 1.0 and s_1_9 == 1.0 and s_2_3 == 1.0 and s_2_4 == 1.0 and s_2_5 == 1.0 and s_2_6 == 1.0 and s_2_7 == 1.0 and s_2_8 == 1.0 and s_2_9 == 1.0 and s_3_4 == 1.0 and s_3_5 == 1.0 and s_3_6 == 1.0 and s_3_7 == 1.0 and s_3_8 == 1.0 and s_3_9 == 1.0 and s_4_5 == 1.0 and s_4_6 == 1.0 and s_4_7 == 1.0 and s_4_8 == 1.0 and s_4_9 == 1.0 and s_5_6 == 1.0 and s_5_7 == 1.0 and s_5_8 == 1.0 and s_5_9 == 1.0 and s_6_7 == 1.0 and s_6_8 == 1.0 and s_6_9 == 1.0 and s_7_8 == 1.0 and s_7_9 == 1.0 and s_8_9 == 1.0 and "
     ]
    }
   ],
   "source": [
    "for i in sim_name_list : \n",
    "  print(i,end=' == 1.0 and ')"
   ]
  },
  {
   "cell_type": "code",
   "execution_count": 30,
   "metadata": {
    "colab": {
     "base_uri": "https://localhost:8080/"
    },
    "executionInfo": {
     "elapsed": 13179,
     "status": "ok",
     "timestamp": 1608163944406,
     "user": {
      "displayName": "김창헌",
      "photoUrl": "",
      "userId": "05733824982842229263"
     },
     "user_tz": -540
    },
    "id": "aRbjlHs1vUBI",
    "outputId": "2dff6eeb-0305-41d9-99c7-441755c28f0d"
   },
   "outputs": [
    {
     "name": "stdout",
     "output_type": "stream",
     "text": [
      "s_0_1, s_0_2, s_0_3, s_0_4, s_0_5, s_0_6, s_0_7, s_0_8, s_0_9, s_1_2, s_1_3, s_1_4, s_1_5, s_1_6, s_1_7, s_1_8, s_1_9, s_2_3, s_2_4, s_2_5, s_2_6, s_2_7, s_2_8, s_2_9, s_3_4, s_3_5, s_3_6, s_3_7, s_3_8, s_3_9, s_4_5, s_4_6, s_4_7, s_4_8, s_4_9, s_5_6, s_5_7, s_5_8, s_5_9, s_6_7, s_6_8, s_6_9, s_7_8, s_7_9, s_8_9, "
     ]
    }
   ],
   "source": [
    "for i in sim_name_list : \n",
    "  print(i,end=', ')"
   ]
  },
  {
   "cell_type": "code",
   "execution_count": 31,
   "metadata": {
    "colab": {
     "base_uri": "https://localhost:8080/"
    },
    "executionInfo": {
     "elapsed": 13170,
     "status": "ok",
     "timestamp": 1608163944406,
     "user": {
      "displayName": "김창헌",
      "photoUrl": "",
      "userId": "05733824982842229263"
     },
     "user_tz": -540
    },
    "id": "1Db9J-XVvt_N",
    "outputId": "080d902c-9734-4025-b7d9-d020787d139b"
   },
   "outputs": [
    {
     "name": "stdout",
     "output_type": "stream",
     "text": [
      "'s_0_1' : s_0_1, 's_0_2' : s_0_2, 's_0_3' : s_0_3, 's_0_4' : s_0_4, 's_0_5' : s_0_5, 's_0_6' : s_0_6, 's_0_7' : s_0_7, 's_0_8' : s_0_8, 's_0_9' : s_0_9, 's_1_2' : s_1_2, 's_1_3' : s_1_3, 's_1_4' : s_1_4, 's_1_5' : s_1_5, 's_1_6' : s_1_6, 's_1_7' : s_1_7, 's_1_8' : s_1_8, 's_1_9' : s_1_9, 's_2_3' : s_2_3, 's_2_4' : s_2_4, 's_2_5' : s_2_5, 's_2_6' : s_2_6, 's_2_7' : s_2_7, 's_2_8' : s_2_8, 's_2_9' : s_2_9, 's_3_4' : s_3_4, 's_3_5' : s_3_5, 's_3_6' : s_3_6, 's_3_7' : s_3_7, 's_3_8' : s_3_8, 's_3_9' : s_3_9, 's_4_5' : s_4_5, 's_4_6' : s_4_6, 's_4_7' : s_4_7, 's_4_8' : s_4_8, 's_4_9' : s_4_9, 's_5_6' : s_5_6, 's_5_7' : s_5_7, 's_5_8' : s_5_8, 's_5_9' : s_5_9, 's_6_7' : s_6_7, 's_6_8' : s_6_8, 's_6_9' : s_6_9, 's_7_8' : s_7_8, 's_7_9' : s_7_9, 's_8_9' : s_8_9, "
     ]
    }
   ],
   "source": [
    "for i in sim_name_list : \n",
    "  print(\"'\"+i+\"'\",end=' : ' +i + ', ')"
   ]
  },
  {
   "cell_type": "code",
   "execution_count": 32,
   "metadata": {
    "colab": {
     "base_uri": "https://localhost:8080/"
    },
    "executionInfo": {
     "elapsed": 1217202,
     "status": "ok",
     "timestamp": 1608165148448,
     "user": {
      "displayName": "김창헌",
      "photoUrl": "",
      "userId": "05733824982842229263"
     },
     "user_tz": -540
    },
    "id": "hhloLT4_XYTN",
    "outputId": "d4476a02-a273-4ce4-c598-21a67827a32f"
   },
   "outputs": [
    {
     "name": "stderr",
     "output_type": "stream",
     "text": [
      "100%|██████████| 20000/20000 [20:03<00:00, 16.62it/s]\n"
     ]
    }
   ],
   "source": [
    "from tqdm import tqdm \n",
    "count_1 = 0\n",
    "count_not1 = 0\n",
    "count_sim_all_0 = 0\n",
    "preds = []\n",
    "index_not1_sim=[]\n",
    "for i in tqdm(range(20000)) : \n",
    "  m0 = Chem.MolFromSmiles(sb0['SMILES'][i])\n",
    "  m1 = Chem.MolFromSmiles(sb1['SMILES'][i])\n",
    "  m2 = Chem.MolFromSmiles(sb2['SMILES'][i])\n",
    "  m3 = Chem.MolFromSmiles(sb3['SMILES'][i])\n",
    "  m4 = Chem.MolFromSmiles(sb4['SMILES'][i])\n",
    "  m5 = Chem.MolFromSmiles(sb5['SMILES'][i])\n",
    "  m6 = Chem.MolFromSmiles(sb6['SMILES'][i])\n",
    "  m7 = Chem.MolFromSmiles(sb7['SMILES'][i])\n",
    "  m8 = Chem.MolFromSmiles(sb8['SMILES'][i])\n",
    "  m9 = Chem.MolFromSmiles(sb9['SMILES'][i])\n",
    "\n",
    "  if ( m0 != None and m1 != None ) : \n",
    "      fp0 = Chem.RDKFingerprint(m0)\n",
    "      fp1 = Chem.RDKFingerprint(m1)\n",
    "      s_0_1 = DataStructs.FingerprintSimilarity(fp0,fp1)\n",
    "  else : \n",
    "    s_0_1 = 0\n",
    "\n",
    "  if ( m0 != None and m2 != None ) : \n",
    "      fp0 = Chem.RDKFingerprint(m0)\n",
    "      fp2 = Chem.RDKFingerprint(m2)\n",
    "      s_0_2 = DataStructs.FingerprintSimilarity(fp0,fp2)\n",
    "  else : \n",
    "    s_0_2 = 0\n",
    "\n",
    "  if ( m0 != None and m3 != None ) : \n",
    "      fp0 = Chem.RDKFingerprint(m0)\n",
    "      fp3 = Chem.RDKFingerprint(m3)\n",
    "      s_0_3 = DataStructs.FingerprintSimilarity(fp0,fp3)\n",
    "  else : \n",
    "    s_0_3 = 0\n",
    "\n",
    "  if ( m0 != None and m4 != None ) : \n",
    "      fp0 = Chem.RDKFingerprint(m0)\n",
    "      fp4 = Chem.RDKFingerprint(m4)\n",
    "      s_0_4 = DataStructs.FingerprintSimilarity(fp0,fp4)\n",
    "  else : \n",
    "    s_0_4 = 0\n",
    "\n",
    "  if ( m0 != None and m5 != None ) : \n",
    "      fp0 = Chem.RDKFingerprint(m0)\n",
    "      fp5 = Chem.RDKFingerprint(m5)\n",
    "      s_0_5 = DataStructs.FingerprintSimilarity(fp0,fp5)\n",
    "  else : \n",
    "    s_0_5 = 0\n",
    "\n",
    "  if ( m0 != None and m6 != None ) : \n",
    "      fp0 = Chem.RDKFingerprint(m0)\n",
    "      fp6 = Chem.RDKFingerprint(m6)\n",
    "      s_0_6 = DataStructs.FingerprintSimilarity(fp0,fp6)\n",
    "  else : \n",
    "    s_0_6 = 0\n",
    "\n",
    "  if ( m0 != None and m7 != None ) : \n",
    "      fp0 = Chem.RDKFingerprint(m0)\n",
    "      fp7 = Chem.RDKFingerprint(m7)\n",
    "      s_0_7 = DataStructs.FingerprintSimilarity(fp0,fp7)\n",
    "  else : \n",
    "    s_0_7 = 0\n",
    "\n",
    "  if ( m0 != None and m8 != None ) : \n",
    "      fp0 = Chem.RDKFingerprint(m0)\n",
    "      fp8 = Chem.RDKFingerprint(m8)\n",
    "      s_0_8 = DataStructs.FingerprintSimilarity(fp0,fp8)\n",
    "  else : \n",
    "    s_0_8 = 0\n",
    "\n",
    "  if ( m0 != None and m9 != None ) : \n",
    "      fp0 = Chem.RDKFingerprint(m0)\n",
    "      fp9 = Chem.RDKFingerprint(m9)\n",
    "      s_0_9 = DataStructs.FingerprintSimilarity(fp0,fp9)\n",
    "  else : \n",
    "    s_0_9 = 0\n",
    "\n",
    "  if ( m1 != None and m2 != None ) : \n",
    "      fp1 = Chem.RDKFingerprint(m1)\n",
    "      fp2 = Chem.RDKFingerprint(m2)\n",
    "      s_1_2 = DataStructs.FingerprintSimilarity(fp1,fp2)\n",
    "  else : \n",
    "    s_1_2 = 0\n",
    "\n",
    "  if ( m1 != None and m3 != None ) : \n",
    "      fp1 = Chem.RDKFingerprint(m1)\n",
    "      fp3 = Chem.RDKFingerprint(m3)\n",
    "      s_1_3 = DataStructs.FingerprintSimilarity(fp1,fp3)\n",
    "  else : \n",
    "    s_1_3 = 0\n",
    "\n",
    "  if ( m1 != None and m4 != None ) : \n",
    "    fp1 = Chem.RDKFingerprint(m1)\n",
    "    fp4 = Chem.RDKFingerprint(m4)\n",
    "    s_1_4 = DataStructs.FingerprintSimilarity(fp1,fp4)\n",
    "  else : \n",
    "    s_1_4 = 0\n",
    "\n",
    "  if ( m1 != None and m5 != None ) : \n",
    "    fp1 = Chem.RDKFingerprint(m1)\n",
    "    fp5 = Chem.RDKFingerprint(m5)\n",
    "    s_1_5 = DataStructs.FingerprintSimilarity(fp1,fp5)\n",
    "  else : \n",
    "    s_1_5 = 0\n",
    "\n",
    "  if ( m1 != None and m6 != None ) : \n",
    "    fp1 = Chem.RDKFingerprint(m1)\n",
    "    fp6 = Chem.RDKFingerprint(m6)\n",
    "    s_1_6 = DataStructs.FingerprintSimilarity(fp1,fp6)\n",
    "  else : \n",
    "    s_1_6 = 0\n",
    "\n",
    "  if ( m1 != None and m7 != None ) : \n",
    "    fp1 = Chem.RDKFingerprint(m1)\n",
    "    fp7 = Chem.RDKFingerprint(m7)\n",
    "    s_1_7 = DataStructs.FingerprintSimilarity(fp1,fp7)\n",
    "  else : \n",
    "    s_1_7 = 0\n",
    "\n",
    "  if ( m1 != None and m8 != None ) : \n",
    "    fp1 = Chem.RDKFingerprint(m1)\n",
    "    fp8 = Chem.RDKFingerprint(m8)\n",
    "    s_1_8 = DataStructs.FingerprintSimilarity(fp1,fp8)\n",
    "  else : \n",
    "    s_1_8 = 0\n",
    "\n",
    "  if ( m1 != None and m9 != None ) : \n",
    "    fp1 = Chem.RDKFingerprint(m1)\n",
    "    fp9 = Chem.RDKFingerprint(m9)\n",
    "    s_1_9 = DataStructs.FingerprintSimilarity(fp1,fp9)\n",
    "  else : \n",
    "    s_1_9 = 0\n",
    "\n",
    "  if ( m2 != None and m3 != None ) : \n",
    "      fp2 = Chem.RDKFingerprint(m2)\n",
    "      fp3 = Chem.RDKFingerprint(m3)\n",
    "      s_2_3 = DataStructs.FingerprintSimilarity(fp2,fp3)\n",
    "  else : \n",
    "    s_2_3 = 0\n",
    "\n",
    "  if ( m2 != None and m4 != None ) : \n",
    "      fp2 = Chem.RDKFingerprint(m2)\n",
    "      fp4 = Chem.RDKFingerprint(m4)\n",
    "      s_2_4 = DataStructs.FingerprintSimilarity(fp2,fp4)\n",
    "  else : \n",
    "    s_2_4 = 0\n",
    "\n",
    "  if ( m2 != None and m5 != None ) : \n",
    "      fp2 = Chem.RDKFingerprint(m2)\n",
    "      fp5 = Chem.RDKFingerprint(m5)\n",
    "      s_2_5 = DataStructs.FingerprintSimilarity(fp2,fp5)\n",
    "  else : \n",
    "    s_2_5 = 0\n",
    "\n",
    "  if ( m2 != None and m6 != None ) : \n",
    "      fp2 = Chem.RDKFingerprint(m2)\n",
    "      fp6 = Chem.RDKFingerprint(m6)\n",
    "      s_2_6 = DataStructs.FingerprintSimilarity(fp2,fp6)\n",
    "  else : \n",
    "    s_2_6 = 0\n",
    "\n",
    "  if ( m2 != None and m7 != None ) : \n",
    "      fp2 = Chem.RDKFingerprint(m2)\n",
    "      fp7 = Chem.RDKFingerprint(m7)\n",
    "      s_2_7 = DataStructs.FingerprintSimilarity(fp2,fp7)\n",
    "  else : \n",
    "    s_2_7 = 0\n",
    "\n",
    "  if ( m2 != None and m8 != None ) : \n",
    "      fp2 = Chem.RDKFingerprint(m2)\n",
    "      fp8 = Chem.RDKFingerprint(m8)\n",
    "      s_2_8 = DataStructs.FingerprintSimilarity(fp2,fp8)\n",
    "  else : \n",
    "    s_2_8 = 0\n",
    "\n",
    "  if ( m2 != None and m9 != None ) : \n",
    "      fp2 = Chem.RDKFingerprint(m2)\n",
    "      fp9 = Chem.RDKFingerprint(m9)\n",
    "      s_2_9 = DataStructs.FingerprintSimilarity(fp2,fp9)\n",
    "  else : \n",
    "    s_2_9 = 0\n",
    "\n",
    "  if ( m3 != None and m4 != None ) : \n",
    "      fp3 = Chem.RDKFingerprint(m3)\n",
    "      fp4 = Chem.RDKFingerprint(m4)\n",
    "      s_3_4 = DataStructs.FingerprintSimilarity(fp3,fp4)\n",
    "  else : \n",
    "    s_3_4 = 0\n",
    "\n",
    "  if ( m3 != None and m5 != None ) : \n",
    "      fp3 = Chem.RDKFingerprint(m3)\n",
    "      fp5 = Chem.RDKFingerprint(m5)\n",
    "      s_3_5 = DataStructs.FingerprintSimilarity(fp3,fp5)\n",
    "  else : \n",
    "    s_3_5 = 0\n",
    "\n",
    "  if ( m3 != None and m6 != None ) : \n",
    "      fp3 = Chem.RDKFingerprint(m3)\n",
    "      fp6 = Chem.RDKFingerprint(m6)\n",
    "      s_3_6 = DataStructs.FingerprintSimilarity(fp3,fp6)\n",
    "  else : \n",
    "    s_3_6 = 0\n",
    "\n",
    "  if ( m3 != None and m7 != None ) : \n",
    "      fp3 = Chem.RDKFingerprint(m3)\n",
    "      fp7 = Chem.RDKFingerprint(m7)\n",
    "      s_3_7 = DataStructs.FingerprintSimilarity(fp3,fp7)\n",
    "  else : \n",
    "    s_3_7 = 0\n",
    "\n",
    "  if ( m3 != None and m8 != None ) : \n",
    "      fp3 = Chem.RDKFingerprint(m3)\n",
    "      fp8 = Chem.RDKFingerprint(m8)\n",
    "      s_3_8 = DataStructs.FingerprintSimilarity(fp3,fp8)\n",
    "  else : \n",
    "    s_3_8 = 0\n",
    "\n",
    "  if ( m3 != None and m9 != None ) : \n",
    "      fp3 = Chem.RDKFingerprint(m3)\n",
    "      fp9 = Chem.RDKFingerprint(m9)\n",
    "      s_3_9 = DataStructs.FingerprintSimilarity(fp3,fp9)\n",
    "  else : \n",
    "    s_3_9 = 0\n",
    "\n",
    "  if ( m4 != None and m5 != None ) : \n",
    "      fp4 = Chem.RDKFingerprint(m4)\n",
    "      fp5 = Chem.RDKFingerprint(m5)\n",
    "      s_4_5 = DataStructs.FingerprintSimilarity(fp4,fp5)\n",
    "  else : \n",
    "    s_4_5 = 0\n",
    "\n",
    "  if ( m4 != None and m6 != None ) : \n",
    "      fp4 = Chem.RDKFingerprint(m4)\n",
    "      fp6 = Chem.RDKFingerprint(m6)\n",
    "      s_4_6 = DataStructs.FingerprintSimilarity(fp4,fp6)\n",
    "  else : \n",
    "    s_4_6 = 0\n",
    "\n",
    "  if ( m4 != None and m7 != None ) : \n",
    "      fp4 = Chem.RDKFingerprint(m4)\n",
    "      fp7 = Chem.RDKFingerprint(m7)\n",
    "      s_4_7 = DataStructs.FingerprintSimilarity(fp4,fp7)\n",
    "  else : \n",
    "    s_4_7 = 0\n",
    "\n",
    "  if ( m4 != None and m8 != None ) : \n",
    "      fp4 = Chem.RDKFingerprint(m4)\n",
    "      fp8 = Chem.RDKFingerprint(m8)\n",
    "      s_4_8 = DataStructs.FingerprintSimilarity(fp4,fp8)\n",
    "  else : \n",
    "    s_4_8 = 0\n",
    "\n",
    "  if ( m4 != None and m9 != None ) : \n",
    "      fp4 = Chem.RDKFingerprint(m4)\n",
    "      fp9 = Chem.RDKFingerprint(m9)\n",
    "      s_4_9 = DataStructs.FingerprintSimilarity(fp4,fp9)\n",
    "  else : \n",
    "    s_4_9 = 0\n",
    "\n",
    "  if ( m5 != None and m6 != None ) : \n",
    "      fp5 = Chem.RDKFingerprint(m5)\n",
    "      fp6 = Chem.RDKFingerprint(m6)\n",
    "      s_5_6 = DataStructs.FingerprintSimilarity(fp5,fp6)\n",
    "  else : \n",
    "    s_5_6 = 0\n",
    "\n",
    "  if ( m5 != None and m7 != None ) : \n",
    "      fp5 = Chem.RDKFingerprint(m5)\n",
    "      fp7 = Chem.RDKFingerprint(m7)\n",
    "      s_5_7 = DataStructs.FingerprintSimilarity(fp5,fp7)\n",
    "  else : \n",
    "    s_5_7 = 0\n",
    "\n",
    "  if ( m5 != None and m8 != None ) : \n",
    "      fp5 = Chem.RDKFingerprint(m5)\n",
    "      fp8 = Chem.RDKFingerprint(m8)\n",
    "      s_5_8 = DataStructs.FingerprintSimilarity(fp5,fp8)\n",
    "  else : \n",
    "    s_5_8 = 0    \n",
    "\n",
    "  if ( m5 != None and m9 != None ) : \n",
    "      fp5 = Chem.RDKFingerprint(m5)\n",
    "      fp9 = Chem.RDKFingerprint(m9)\n",
    "      s_5_9 = DataStructs.FingerprintSimilarity(fp5,fp9)\n",
    "  else : \n",
    "    s_5_9 = 0\n",
    "\n",
    "  if ( m6 != None and m7 != None ) : \n",
    "      fp6 = Chem.RDKFingerprint(m6)\n",
    "      fp7 = Chem.RDKFingerprint(m7)\n",
    "      s_6_7 = DataStructs.FingerprintSimilarity(fp6,fp7)\n",
    "  else : \n",
    "    s_6_7 = 0\n",
    "\n",
    "  if ( m6 != None and m8 != None ) : \n",
    "      fp6 = Chem.RDKFingerprint(m6)\n",
    "      fp8 = Chem.RDKFingerprint(m8)\n",
    "      s_6_8 = DataStructs.FingerprintSimilarity(fp6,fp8)\n",
    "  else : \n",
    "    s_6_8 = 0\n",
    "\n",
    "  if ( m6 != None and m9 != None ) : \n",
    "      fp6 = Chem.RDKFingerprint(m6)\n",
    "      fp9 = Chem.RDKFingerprint(m9)\n",
    "      s_6_9 = DataStructs.FingerprintSimilarity(fp6,fp9)\n",
    "  else : \n",
    "    s_6_9 = 0\n",
    "\n",
    "  if ( m7 != None and m8 != None ) : \n",
    "      fp7 = Chem.RDKFingerprint(m7)\n",
    "      fp8 = Chem.RDKFingerprint(m8)\n",
    "      s_7_8 = DataStructs.FingerprintSimilarity(fp7,fp8)\n",
    "  else : \n",
    "    s_7_8 = 0\n",
    "\n",
    "  if ( m7 != None and m9 != None ) : \n",
    "      fp7 = Chem.RDKFingerprint(m7)\n",
    "      fp9 = Chem.RDKFingerprint(m9)\n",
    "      s_7_9 = DataStructs.FingerprintSimilarity(fp7,fp9)\n",
    "  else : \n",
    "    s_7_9 = 0    \n",
    "\n",
    "  if ( m8 != None and m9 != None ) : \n",
    "      fp8 = Chem.RDKFingerprint(m8)\n",
    "      fp9 = Chem.RDKFingerprint(m9)\n",
    "      s_8_9 = DataStructs.FingerprintSimilarity(fp8,fp9)\n",
    "  else : \n",
    "    s_8_9 = 0\n",
    "\n",
    "  if s_0_1 != 1.0 and s_0_2 != 1.0 and s_0_3 != 1.0 and s_0_4 != 1.0 and s_0_5 != 1.0 and s_0_6 != 1.0 and s_0_7 != 1.0 and s_0_8 != 1.0 and s_0_9 != 1.0 and s_1_2 != 1.0 and s_1_3 != 1.0 and s_1_4 != 1.0 and s_1_5 != 1.0 and s_1_6 != 1.0 and s_1_7 != 1.0 and s_1_8 != 1.0 and s_1_9 != 1.0 and s_2_3 != 1.0 and s_2_4 != 1.0 and s_2_5 != 1.0 and s_2_6 != 1.0 and s_2_7 != 1.0 and s_2_8 != 1.0 and s_2_9 != 1.0 and s_3_4 != 1.0 and s_3_5 != 1.0 and s_3_6 != 1.0 and s_3_7 != 1.0 and s_3_8 != 1.0 and s_3_9 != 1.0 and s_4_5 != 1.0 and s_4_6 != 1.0 and s_4_7 != 1.0 and s_4_8 != 1.0 and s_4_9 != 1.0 and s_5_6 != 1.0 and s_5_7 != 1.0 and s_5_8 != 1.0 and s_5_9 != 1.0 and s_6_7 != 1.0 and s_6_8 != 1.0 and s_6_9 != 1.0 and s_7_8 != 1.0 and s_7_9 != 1.0 and s_8_9 != 1.0 :\n",
    "    index_not1_sim.append(i)\n",
    "    count_not1 += 1\n",
    "  elif s_0_1 == 1.0 and s_0_2 == 1.0 and s_0_3 == 1.0 and s_0_4 == 1.0 and s_0_5 == 1.0 and s_0_6 == 1.0 and s_0_7 == 1.0 and s_0_8 == 1.0 and s_0_9 == 1.0 and s_1_2 == 1.0 and s_1_3 == 1.0 and s_1_4 == 1.0 and s_1_5 == 1.0 and s_1_6 == 1.0 and s_1_7 == 1.0 and s_1_8 == 1.0 and s_1_9 == 1.0 and s_2_3 == 1.0 and s_2_4 == 1.0 and s_2_5 == 1.0 and s_2_6 == 1.0 and s_2_7 == 1.0 and s_2_8 == 1.0 and s_2_9 == 1.0 and s_3_4 == 1.0 and s_3_5 == 1.0 and s_3_6 == 1.0 and s_3_7 == 1.0 and s_3_8 == 1.0 and s_3_9 == 1.0 and s_4_5 == 1.0 and s_4_6 == 1.0 and s_4_7 == 1.0 and s_4_8 == 1.0 and s_4_9 == 1.0 and s_5_6 == 1.0 and s_5_7 == 1.0 and s_5_8 == 1.0 and s_5_9 == 1.0 and s_6_7 == 1.0 and s_6_8 == 1.0 and s_6_9 == 1.0 and s_7_8 == 1.0 and s_7_9 == 1.0 and s_8_9 == 1.0 :\n",
    "    preds.append(sb0['SMILES'][i])\n",
    "    continue\n",
    "\n",
    "  # print(s_0_1, s_0_2, s_0_3, s_0_4, s_0_5, s_0_6, s_0_7, s_0_8, s_0_9, s_1_2, s_1_3, s_1_4, s_1_5, s_1_6, s_1_7, s_1_8, s_1_9, s_2_3, s_2_4, s_2_5, s_2_6, s_2_7, s_2_8, s_2_9, s_3_4, s_3_5, s_3_6, s_3_7, s_3_8, s_3_9, s_4_5, s_4_6, s_4_7, s_4_8, s_4_9, s_5_6, s_5_7, s_5_8, s_5_9, s_6_7, s_6_8, s_6_9, s_7_8, s_7_9, s_8_9)\n",
    "  # print(sb0['SMILES'][i])\n",
    "  # print(sb1['SMILES'][i])\n",
    "  # print(sb2['SMILES'][i])\n",
    "  # print(sb3['SMILES'][i])\n",
    "  # print(sb4['SMILES'][i])\n",
    "  # print(sb5['SMILES'][i])\n",
    "  # print(sb6['SMILES'][i])\n",
    "  # print(sb7['SMILES'][i])\n",
    "  # print(sb8['SMILES'][i])\n",
    "  # print(sb9['SMILES'][i])\n",
    "\n",
    "  s_dic ={'s_0_1' : s_0_1, 's_0_2' : s_0_2, 's_0_3' : s_0_3, 's_0_4' : s_0_4, 's_0_5' : s_0_5, 's_0_6' : s_0_6, 's_0_7' : s_0_7, 's_0_8' : s_0_8, 's_0_9' : s_0_9, 's_1_2' : s_1_2, 's_1_3' : s_1_3, 's_1_4' : s_1_4, 's_1_5' : s_1_5, 's_1_6' : s_1_6, 's_1_7' : s_1_7, 's_1_8' : s_1_8, 's_1_9' : s_1_9, 's_2_3' : s_2_3, 's_2_4' : s_2_4, 's_2_5' : s_2_5, 's_2_6' : s_2_6, 's_2_7' : s_2_7, 's_2_8' : s_2_8, 's_2_9' : s_2_9, 's_3_4' : s_3_4, 's_3_5' : s_3_5, 's_3_6' : s_3_6, 's_3_7' : s_3_7, 's_3_8' : s_3_8, 's_3_9' : s_3_9, 's_4_5' : s_4_5, 's_4_6' : s_4_6, 's_4_7' : s_4_7, 's_4_8' : s_4_8, 's_4_9' : s_4_9, 's_5_6' : s_5_6, 's_5_7' : s_5_7, 's_5_8' : s_5_8, 's_5_9' : s_5_9, 's_6_7' : s_6_7, 's_6_8' : s_6_8, 's_6_9' : s_6_9, 's_7_8' : s_7_8, 's_7_9' : s_7_9, 's_8_9' : s_8_9}\n",
    "  all_0 = True\n",
    "  for sim in s_dic :\n",
    "    if s_dic[sim] != 0 :\n",
    "      all_0 = False\n",
    "  if all_0 : \n",
    "    count_sim_all_0 += 1\n",
    "  sorted_sim_dic = sorted(s_dic.items(), reverse=True,  key=lambda item: item[1])\n",
    "  # print(sorted_sim_dic)\n",
    "  score_dic = {'0':0, '1' : 0, '2' : 0, '3' : 0, '4' : 0, '5' : 0, '6' : 0, '7' : 0, '8' : 0, '9' : 0}\n",
    "  for element in sorted_sim_dic : \n",
    "    # print(i)\n",
    "    first_index, second_indx = element[0].split('_')[1:]\n",
    "    score_dic[first_index] += element[1]\n",
    "    score_dic[second_indx] += element[1]\n",
    "  # print(score_dic)\n",
    "  # count_dic = count_all_list_element( sorted_s_dic[0][0].split('_')[1:] + sorted_s_dic[1][0].split('_')[1:]  )\n",
    "  # print(count_dic)\n",
    "  # sorted_count_dic = sorted(count_dic.items(), reverse=True,  key=lambda item: item[1])\n",
    "  # sorted_count_dic\n",
    "  sorted_score_dic = sorted(score_dic.items(), reverse=True,  key=lambda item: item[1])\n",
    "  # print(sorted_score_dic)\n",
    "  picked_number = sorted_score_dic[0][0]\n",
    "\n",
    "  # print(picked_number)\n",
    "\n",
    "\n",
    "  if (picked_number == '0') :\n",
    "    preds.append(sb0['SMILES'][i])\n",
    "  elif (picked_number == '1') :\n",
    "    preds.append(sb1['SMILES'][i])\n",
    "  elif (picked_number == '2') : \n",
    "    preds.append(sb2['SMILES'][i])\n",
    "  elif (picked_number == '3') : \n",
    "    preds.append(sb3['SMILES'][i])\n",
    "  elif (picked_number == '4') : \n",
    "    preds.append(sb4['SMILES'][i])\n",
    "  elif (picked_number == '5') : \n",
    "    preds.append(sb5['SMILES'][i])\n",
    "  elif (picked_number == '6') : \n",
    "    preds.append(sb6['SMILES'][i])\n",
    "  elif (picked_number == '7') : \n",
    "    preds.append(sb7['SMILES'][i])\n",
    "  elif (picked_number == '8') : \n",
    "    preds.append(sb8['SMILES'][i])\n",
    "  else :\n",
    "    preds.append(sb9['SMILES'][i])\n",
    "\n",
    "  # print()\n",
    "\n",
    "\n",
    "  # else : \n",
    "  #   print(s_0_1, s_0_2, s_0_3, s_0_4, s_0_5, s_0_6, s_0_7, s_0_8, s_0_9, s_1_2, s_1_3, s_1_4, s_1_5, s_1_6, s_1_7, s_1_8, s_1_9, s_2_3, s_2_4, s_2_5, s_2_6, s_2_7, s_2_8, s_2_9, s_3_4, s_3_5, s_3_6, s_3_7, s_3_8, s_3_9, s_4_5, s_4_6, s_4_7, s_4_8, s_4_9, s_5_6, s_5_7, s_5_8, s_5_9, s_6_7, s_6_8, s_6_9, s_7_8, s_7_9, s_8_9)\n",
    "  #   print()\n",
    "  #   count_1 += 1\n",
    "  #   if (s_1_2 == 1.0) :\n",
    "  #     preds.append(sb1['SMILES'][i])\n",
    "  #   elif s_1_3 == 1.0 : \n",
    "  #     preds.append(sb1['SMILES'][i])\n",
    "  #   elif s_1_4 == 1.0 : \n",
    "  #     preds.append(sb1['SMILES'][i])\n",
    "  #   elif s_1_5== 1.0 : \n",
    "  #     preds.append(sb1['SMILES'][i])\n",
    "  #   elif s_1_6== 1.0 : \n",
    "  #     preds.append(sb1['SMILES'][i])\n",
    "\n",
    "  #   elif s_2_3 == 1.0 or s_2_4 == 1.0 or s_2_5 == 1.0 or s_2_6 == 1.0 : \n",
    "  #     preds.append(sb2['SMILES'][i])\n",
    "\n",
    "  #   elif s_3_4 == 1.0 or s_3_5 == 1.0 or s_3_6 == 1.0 :\n",
    "  #     preds.append(sb3['SMILES'][i])\n",
    "    \n",
    "  #   elif s_4_5 == 1.0 or s_4_6 == 1.0 :\n",
    "  #     preds.append(sb4['SMILES'][i])\n",
    "    \n",
    "  #   else : \n",
    "  #     preds.append(sb5['SMILES'][i])"
   ]
  },
  {
   "cell_type": "code",
   "execution_count": 33,
   "metadata": {
    "colab": {
     "base_uri": "https://localhost:8080/",
     "height": 224
    },
    "executionInfo": {
     "elapsed": 1217587,
     "status": "error",
     "timestamp": 1608165148845,
     "user": {
      "displayName": "김창헌",
      "photoUrl": "",
      "userId": "05733824982842229263"
     },
     "user_tz": -540
    },
    "id": "WgNe6PyfAoJy",
    "outputId": "771c16ee-b646-41aa-a565-e11c982b406a"
   },
   "outputs": [
    {
     "ename": "NameError",
     "evalue": "ignored",
     "output_type": "error",
     "traceback": [
      "\u001b[0;31m---------------------------------------------------------------------------\u001b[0m",
      "\u001b[0;31mNameError\u001b[0m                                 Traceback (most recent call last)",
      "\u001b[0;32m<ipython-input-33-3d917085e6c1>\u001b[0m in \u001b[0;36m<module>\u001b[0;34m()\u001b[0m\n\u001b[0;32m----> 1\u001b[0;31m \u001b[0merror_count\u001b[0m\u001b[0;34m\u001b[0m\u001b[0;34m\u001b[0m\u001b[0m\n\u001b[0m",
      "\u001b[0;31mNameError\u001b[0m: name 'error_count' is not defined"
     ]
    }
   ],
   "source": [
    "error_count"
   ]
  },
  {
   "cell_type": "code",
   "execution_count": 34,
   "metadata": {
    "colab": {
     "base_uri": "https://localhost:8080/"
    },
    "executionInfo": {
     "elapsed": 653,
     "status": "ok",
     "timestamp": 1608165215162,
     "user": {
      "displayName": "김창헌",
      "photoUrl": "",
      "userId": "05733824982842229263"
     },
     "user_tz": -540
    },
    "id": "uFT2pNpapIeF",
    "outputId": "dc2be915-5eac-4ae2-de9c-ca1edf417971"
   },
   "outputs": [
    {
     "data": {
      "text/plain": [
       "0"
      ]
     },
     "execution_count": 34,
     "metadata": {
      "tags": []
     },
     "output_type": "execute_result"
    }
   ],
   "source": [
    "count_sim_all_0"
   ]
  },
  {
   "cell_type": "code",
   "execution_count": 35,
   "metadata": {
    "colab": {
     "base_uri": "https://localhost:8080/"
    },
    "executionInfo": {
     "elapsed": 665,
     "status": "ok",
     "timestamp": 1608165216696,
     "user": {
      "displayName": "김창헌",
      "photoUrl": "",
      "userId": "05733824982842229263"
     },
     "user_tz": -540
    },
    "id": "8ukQ68HqmGpK",
    "outputId": "2597da2a-3d0c-48d1-b83a-29af998bea23"
   },
   "outputs": [
    {
     "name": "stdout",
     "output_type": "stream",
     "text": [
      "51\n",
      "0\n"
     ]
    }
   ],
   "source": [
    "print(count_not1)\n",
    "print(count_1)"
   ]
  },
  {
   "cell_type": "code",
   "execution_count": 36,
   "metadata": {
    "colab": {
     "base_uri": "https://localhost:8080/"
    },
    "executionInfo": {
     "elapsed": 511,
     "status": "ok",
     "timestamp": 1608165217979,
     "user": {
      "displayName": "김창헌",
      "photoUrl": "",
      "userId": "05733824982842229263"
     },
     "user_tz": -540
    },
    "id": "Wq_u_F8mbHrK",
    "outputId": "6a30a0f0-7d9d-4cee-aaf7-87435b00771f"
   },
   "outputs": [
    {
     "data": {
      "text/plain": [
       "20000"
      ]
     },
     "execution_count": 36,
     "metadata": {
      "tags": []
     },
     "output_type": "execute_result"
    }
   ],
   "source": [
    "len(preds)"
   ]
  },
  {
   "cell_type": "code",
   "execution_count": 37,
   "metadata": {
    "colab": {
     "base_uri": "https://localhost:8080/"
    },
    "executionInfo": {
     "elapsed": 623,
     "status": "ok",
     "timestamp": 1608165219361,
     "user": {
      "displayName": "김창헌",
      "photoUrl": "",
      "userId": "05733824982842229263"
     },
     "user_tz": -540
    },
    "id": "OzJp3BQDjr7c",
    "outputId": "2a67b4fc-abe2-4404-c987-912a6de78014"
   },
   "outputs": [
    {
     "data": {
      "text/plain": [
       "0.99745"
      ]
     },
     "execution_count": 37,
     "metadata": {
      "tags": []
     },
     "output_type": "execute_result"
    }
   ],
   "source": [
    "(20000-count_not1)/len(preds)"
   ]
  },
  {
   "cell_type": "code",
   "execution_count": 38,
   "metadata": {
    "colab": {
     "base_uri": "https://localhost:8080/"
    },
    "executionInfo": {
     "elapsed": 749,
     "status": "ok",
     "timestamp": 1608165221963,
     "user": {
      "displayName": "김창헌",
      "photoUrl": "",
      "userId": "05733824982842229263"
     },
     "user_tz": -540
    },
    "id": "fZNHysFI-c9Q",
    "outputId": "cc69c6ad-ce40-46a6-febd-5ea974e35584"
   },
   "outputs": [
    {
     "name": "stdout",
     "output_type": "stream",
     "text": [
      "[77, 1150, 1482, 1575, 1741, 2024, 2662, 2961, 2981, 3025, 3036, 5037, 5181, 5216, 5865, 6321, 6667, 6788, 7520, 7892, 7936, 7999, 8166, 8287, 8982, 9279, 9603, 10229, 10553, 11040, 11315, 11693, 12202, 12450, 12477, 13379, 14015, 14270, 14404, 15353, 15945, 16587, 16710, 16949, 17271, 18179, 18276, 18536, 19211, 19399, 19882]\n"
     ]
    }
   ],
   "source": [
    "print(index_not1_sim)"
   ]
  },
  {
   "cell_type": "code",
   "execution_count": 39,
   "metadata": {
    "colab": {
     "base_uri": "https://localhost:8080/",
     "height": 508
    },
    "executionInfo": {
     "elapsed": 2106,
     "status": "ok",
     "timestamp": 1608165225913,
     "user": {
      "displayName": "김창헌",
      "photoUrl": "",
      "userId": "05733824982842229263"
     },
     "user_tz": -540
    },
    "id": "Li61N3qvkR00",
    "outputId": "18285318-cff6-4642-ced3-cd0b286cac06"
   },
   "outputs": [
    {
     "data": {
      "text/html": [
       "<div>\n",
       "<style scoped>\n",
       "    .dataframe tbody tr th:only-of-type {\n",
       "        vertical-align: middle;\n",
       "    }\n",
       "\n",
       "    .dataframe tbody tr th {\n",
       "        vertical-align: top;\n",
       "    }\n",
       "\n",
       "    .dataframe thead th {\n",
       "        text-align: right;\n",
       "    }\n",
       "</style>\n",
       "<table border=\"1\" class=\"dataframe\">\n",
       "  <thead>\n",
       "    <tr style=\"text-align: right;\">\n",
       "      <th></th>\n",
       "      <th>file_name</th>\n",
       "      <th>SMILES</th>\n",
       "    </tr>\n",
       "  </thead>\n",
       "  <tbody>\n",
       "    <tr>\n",
       "      <th>0</th>\n",
       "      <td>test_0.png</td>\n",
       "      <td>COC1=CC(=CC=C1/C=C/2\\C(=O)NC(=O)N(C2=O)C3CCCCC...</td>\n",
       "    </tr>\n",
       "    <tr>\n",
       "      <th>1</th>\n",
       "      <td>test_1.png</td>\n",
       "      <td>CC(=NN=C1C2=C(C=C(C=C2)Cl)NC1=O)C3=CC4=CC=CC=C...</td>\n",
       "    </tr>\n",
       "    <tr>\n",
       "      <th>2</th>\n",
       "      <td>test_2.png</td>\n",
       "      <td>CC1CN(CC(O1)C)CC2=CC=CC=C2NC(=O)NCC(C)(C)C(=O)N</td>\n",
       "    </tr>\n",
       "    <tr>\n",
       "      <th>3</th>\n",
       "      <td>test_3.png</td>\n",
       "      <td>CC1=CC=CC2=C(C(=CN=C12)C#N)NCCC3=NN=C4N3C=CC=C4</td>\n",
       "    </tr>\n",
       "    <tr>\n",
       "      <th>4</th>\n",
       "      <td>test_4.png</td>\n",
       "      <td>CN(C)C(C1=CC=C(C=C1)F)C(=O)NCC2=NOC(=C2)C3=CC(...</td>\n",
       "    </tr>\n",
       "    <tr>\n",
       "      <th>...</th>\n",
       "      <td>...</td>\n",
       "      <td>...</td>\n",
       "    </tr>\n",
       "    <tr>\n",
       "      <th>19995</th>\n",
       "      <td>test_20029.png</td>\n",
       "      <td>C=CCOC1=C(C=C(C=C1)Br)C=NC2=CC=CC=C2</td>\n",
       "    </tr>\n",
       "    <tr>\n",
       "      <th>19996</th>\n",
       "      <td>test_20030.png</td>\n",
       "      <td>CC1=CN=C(S1)CNC(=O)NCCC(C2=CC=CC=C2)O</td>\n",
       "    </tr>\n",
       "    <tr>\n",
       "      <th>19997</th>\n",
       "      <td>test_20031.png</td>\n",
       "      <td>CN1C2CN(CC2OC3=C(C1=O)C=CC(=C3)F)C4CCC4</td>\n",
       "    </tr>\n",
       "    <tr>\n",
       "      <th>19998</th>\n",
       "      <td>test_20032.png</td>\n",
       "      <td>C1CC1(C2=NOC(=C2)C3=CC=CS3)C(=O)NCCCN4CCOCC4</td>\n",
       "    </tr>\n",
       "    <tr>\n",
       "      <th>19999</th>\n",
       "      <td>test_20033.png</td>\n",
       "      <td>C1CC1NC(=O)CC2=CC=C(C=C2)NC(=O)C3=C(N4C=CC=CC4...</td>\n",
       "    </tr>\n",
       "  </tbody>\n",
       "</table>\n",
       "<p>20000 rows × 2 columns</p>\n",
       "</div>"
      ],
      "text/plain": [
       "            file_name                                             SMILES\n",
       "0          test_0.png  COC1=CC(=CC=C1/C=C/2\\C(=O)NC(=O)N(C2=O)C3CCCCC...\n",
       "1          test_1.png  CC(=NN=C1C2=C(C=C(C=C2)Cl)NC1=O)C3=CC4=CC=CC=C...\n",
       "2          test_2.png    CC1CN(CC(O1)C)CC2=CC=CC=C2NC(=O)NCC(C)(C)C(=O)N\n",
       "3          test_3.png    CC1=CC=CC2=C(C(=CN=C12)C#N)NCCC3=NN=C4N3C=CC=C4\n",
       "4          test_4.png  CN(C)C(C1=CC=C(C=C1)F)C(=O)NCC2=NOC(=C2)C3=CC(...\n",
       "...               ...                                                ...\n",
       "19995  test_20029.png               C=CCOC1=C(C=C(C=C1)Br)C=NC2=CC=CC=C2\n",
       "19996  test_20030.png              CC1=CN=C(S1)CNC(=O)NCCC(C2=CC=CC=C2)O\n",
       "19997  test_20031.png            CN1C2CN(CC2OC3=C(C1=O)C=CC(=C3)F)C4CCC4\n",
       "19998  test_20032.png       C1CC1(C2=NOC(=C2)C3=CC=CS3)C(=O)NCCCN4CCOCC4\n",
       "19999  test_20033.png  C1CC1NC(=O)CC2=CC=C(C=C2)NC(=O)C3=C(N4C=CC=CC4...\n",
       "\n",
       "[20000 rows x 2 columns]"
      ]
     },
     "execution_count": 39,
     "metadata": {
      "tags": []
     },
     "output_type": "execute_result"
    }
   ],
   "source": [
    "import numpy as np\n",
    "# submission = pd.read_csv('/content/gdrive/My Drive/setup/Data/sample_submission.csv')\n",
    "submission = pd.read_csv('/content/drive/MyDrive/setup/Data/sample_submission.csv')\n",
    "submission['SMILES'] = np.array(preds)\n",
    "submission"
   ]
  },
  {
   "cell_type": "code",
   "execution_count": 40,
   "metadata": {
    "executionInfo": {
     "elapsed": 637,
     "status": "ok",
     "timestamp": 1608165230225,
     "user": {
      "displayName": "김창헌",
      "photoUrl": "",
      "userId": "05733824982842229263"
     },
     "user_tz": -540
    },
    "id": "NmWVxjCH61hR"
   },
   "outputs": [],
   "source": [
    "CSV_NAME = './앙상블_10_4_.csv'"
   ]
  },
  {
   "cell_type": "code",
   "execution_count": 41,
   "metadata": {
    "executionInfo": {
     "elapsed": 476,
     "status": "ok",
     "timestamp": 1608165230500,
     "user": {
      "displayName": "김창헌",
      "photoUrl": "",
      "userId": "05733824982842229263"
     },
     "user_tz": -540
    },
    "id": "7kwTKdwTkadE"
   },
   "outputs": [],
   "source": [
    "submission.to_csv(CSV_NAME, index=False)"
   ]
  },
  {
   "cell_type": "code",
   "execution_count": 42,
   "metadata": {
    "colab": {
     "base_uri": "https://localhost:8080/"
    },
    "executionInfo": {
     "elapsed": 582,
     "status": "ok",
     "timestamp": 1608165232179,
     "user": {
      "displayName": "김창헌",
      "photoUrl": "",
      "userId": "05733824982842229263"
     },
     "user_tz": -540
    },
    "id": "ykBHJzJyViK_",
    "outputId": "35f7bf86-2df3-45d7-bc96-1bfe1ee7d35e"
   },
   "outputs": [
    {
     "data": {
      "text/plain": [
       "86000.0"
      ]
     },
     "execution_count": 42,
     "metadata": {
      "tags": []
     },
     "output_type": "execute_result"
    }
   ],
   "source": [
    "21.5 * 10000 / 2.5"
   ]
  },
  {
   "cell_type": "markdown",
   "metadata": {
    "id": "PgPi1AgQ7Iee"
   },
   "source": []
  },
  {
   "cell_type": "code",
   "execution_count": 43,
   "metadata": {
    "colab": {
     "base_uri": "https://localhost:8080/"
    },
    "executionInfo": {
     "elapsed": 2734,
     "status": "ok",
     "timestamp": 1608165236875,
     "user": {
      "displayName": "김창헌",
      "photoUrl": "",
      "userId": "05733824982842229263"
     },
     "user_tz": -540
    },
    "id": "ErmdarT5yCyb",
    "outputId": "d14aec65-2fb9-4e3e-cb4d-d90145cf1972"
   },
   "outputs": [
    {
     "name": "stdout",
     "output_type": "stream",
     "text": [
      "Copying file://./앙상블_10_4_.csv [Content-Type=text/csv]...\n",
      "/ [1 files][  1.2 MiB/  1.2 MiB]                                                \n",
      "Operation completed over 1 objects/1.2 MiB.                                      \n"
     ]
    }
   ],
   "source": [
    "!gsutil cp $CSV_NAME gs://smiles_all_under_70/result_csv/앙상블결과/"
   ]
  },
  {
   "cell_type": "code",
   "execution_count": null,
   "metadata": {
    "executionInfo": {
     "elapsed": 1217497,
     "status": "aborted",
     "timestamp": 1608165148832,
     "user": {
      "displayName": "김창헌",
      "photoUrl": "",
      "userId": "05733824982842229263"
     },
     "user_tz": -540
    },
    "id": "xmdP2oKOFNvg"
   },
   "outputs": [],
   "source": [
    "!gsutil cp gs://smiles_all_under_70/result_csv/앙상블결과/앙상블_6_3_.csv ./ "
   ]
  },
  {
   "cell_type": "code",
   "execution_count": null,
   "metadata": {
    "executionInfo": {
     "elapsed": 1217494,
     "status": "aborted",
     "timestamp": 1608165148834,
     "user": {
      "displayName": "김창헌",
      "photoUrl": "",
      "userId": "05733824982842229263"
     },
     "user_tz": -540
    },
    "id": "GwEPUZoh7I81"
   },
   "outputs": [],
   "source": [
    "preds1 = pd.read_csv('/content/앙상블_6_3.csv')['SMILES']\n",
    "preds2 = pd.read_csv('/content/앙상블_6_3_.csv')['SMILES']"
   ]
  },
  {
   "cell_type": "code",
   "execution_count": null,
   "metadata": {
    "executionInfo": {
     "elapsed": 1217493,
     "status": "aborted",
     "timestamp": 1608165148836,
     "user": {
      "displayName": "김창헌",
      "photoUrl": "",
      "userId": "05733824982842229263"
     },
     "user_tz": -540
    },
    "id": "my7CdmwfFhZE"
   },
   "outputs": [],
   "source": [
    "similarity_list = []\n",
    "for i in range(20000) : \n",
    "  m1 = Chem.MolFromSmiles(preds1[i])\n",
    "  m2 = Chem.MolFromSmiles(preds2[i])\n",
    "\n",
    "  if ( m1 != None and m2 != None ) :\n",
    "    similarity = DataStructs.FingerprintSimilarity(\n",
    "    Chem.RDKFingerprint(m1),\n",
    "    Chem.RDKFingerprint(m2)\n",
    "    )\n",
    "  else : \n",
    "    similarity = 0\n",
    "  similarity_list.append(similarity)\n",
    "\n",
    "print(sum(similarity_list,0) / len(similarity_list) )\n"
   ]
  },
  {
   "cell_type": "code",
   "execution_count": null,
   "metadata": {
    "executionInfo": {
     "elapsed": 1217493,
     "status": "aborted",
     "timestamp": 1608165148838,
     "user": {
      "displayName": "김창헌",
      "photoUrl": "",
      "userId": "05733824982842229263"
     },
     "user_tz": -540
    },
    "id": "kPfZpjUsGZol"
   },
   "outputs": [],
   "source": [
    "len(similarity_list)"
   ]
  },
  {
   "cell_type": "code",
   "execution_count": null,
   "metadata": {
    "executionInfo": {
     "elapsed": 1217492,
     "status": "aborted",
     "timestamp": 1608165148840,
     "user": {
      "displayName": "김창헌",
      "photoUrl": "",
      "userId": "05733824982842229263"
     },
     "user_tz": -540
    },
    "id": "DnYeXhAlGnxP"
   },
   "outputs": [],
   "source": []
  }
 ],
 "metadata": {
  "colab": {
   "authorship_tag": "ABX9TyPKqNtRtgP1f25TwS4MNSot",
   "collapsed_sections": [],
   "mount_file_id": "1e-flIrKqP24aFyrQWcHaBi_h4h0p6eOg",
   "name": "10개 앙상블_일일히 하나씩.ipynb",
   "provenance": [
    {
     "file_id": "1MmmW88ynRJ6JhIYKSR-6Vv4Jc17qGrgK",
     "timestamp": 1607465542607
    },
    {
     "file_id": "11ZTSDh4MkDdTJROw8kRV-9_bYA6_MvyL",
     "timestamp": 1607161573498
    }
   ]
  },
  "kernelspec": {
   "display_name": "Python 3",
   "language": "python",
   "name": "python3"
  },
  "language_info": {
   "codemirror_mode": {
    "name": "ipython",
    "version": 3
   },
   "file_extension": ".py",
   "mimetype": "text/x-python",
   "name": "python",
   "nbconvert_exporter": "python",
   "pygments_lexer": "ipython3",
   "version": "3.8.3"
  }
 },
 "nbformat": 4,
 "nbformat_minor": 1
}
